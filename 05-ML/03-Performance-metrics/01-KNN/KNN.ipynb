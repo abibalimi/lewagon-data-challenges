{
 "cells": [
  {
   "cell_type": "markdown",
   "metadata": {},
   "source": [
    "# K-Nearest-Neighbors"
   ]
  },
  {
   "cell_type": "markdown",
   "metadata": {},
   "source": [
    "👇 Load the `houses_clean.csv` dataset located in the `data` folder."
   ]
  },
  {
   "cell_type": "code",
   "execution_count": 1,
   "metadata": {},
   "outputs": [
    {
     "name": "stdout",
     "output_type": "stream",
     "text": [
      "houses_clean.csv\r\n"
     ]
    }
   ],
   "source": [
    "!ls data/"
   ]
  },
  {
   "cell_type": "code",
   "execution_count": 2,
   "metadata": {
    "scrolled": false
   },
   "outputs": [
    {
     "data": {
      "text/html": [
       "<div>\n",
       "<style scoped>\n",
       "    .dataframe tbody tr th:only-of-type {\n",
       "        vertical-align: middle;\n",
       "    }\n",
       "\n",
       "    .dataframe tbody tr th {\n",
       "        vertical-align: top;\n",
       "    }\n",
       "\n",
       "    .dataframe thead th {\n",
       "        text-align: right;\n",
       "    }\n",
       "</style>\n",
       "<table border=\"1\" class=\"dataframe\">\n",
       "  <thead>\n",
       "    <tr style=\"text-align: right;\">\n",
       "      <th></th>\n",
       "      <th>GrLivArea</th>\n",
       "      <th>BedroomAbvGr</th>\n",
       "      <th>KitchenAbvGr</th>\n",
       "      <th>OverallCond</th>\n",
       "      <th>CentralAir</th>\n",
       "      <th>SalePrice</th>\n",
       "    </tr>\n",
       "  </thead>\n",
       "  <tbody>\n",
       "    <tr>\n",
       "      <th>0</th>\n",
       "      <td>0.380070</td>\n",
       "      <td>0.375</td>\n",
       "      <td>0.333333</td>\n",
       "      <td>0.500</td>\n",
       "      <td>1</td>\n",
       "      <td>208500</td>\n",
       "    </tr>\n",
       "    <tr>\n",
       "      <th>1</th>\n",
       "      <td>-0.312090</td>\n",
       "      <td>0.375</td>\n",
       "      <td>0.333333</td>\n",
       "      <td>0.875</td>\n",
       "      <td>1</td>\n",
       "      <td>181500</td>\n",
       "    </tr>\n",
       "    <tr>\n",
       "      <th>2</th>\n",
       "      <td>0.497489</td>\n",
       "      <td>0.375</td>\n",
       "      <td>0.333333</td>\n",
       "      <td>0.500</td>\n",
       "      <td>1</td>\n",
       "      <td>223500</td>\n",
       "    </tr>\n",
       "    <tr>\n",
       "      <th>3</th>\n",
       "      <td>0.390885</td>\n",
       "      <td>0.375</td>\n",
       "      <td>0.333333</td>\n",
       "      <td>0.500</td>\n",
       "      <td>1</td>\n",
       "      <td>140000</td>\n",
       "    </tr>\n",
       "    <tr>\n",
       "      <th>4</th>\n",
       "      <td>1.134029</td>\n",
       "      <td>0.500</td>\n",
       "      <td>0.333333</td>\n",
       "      <td>0.500</td>\n",
       "      <td>1</td>\n",
       "      <td>250000</td>\n",
       "    </tr>\n",
       "  </tbody>\n",
       "</table>\n",
       "</div>"
      ],
      "text/plain": [
       "   GrLivArea  BedroomAbvGr  KitchenAbvGr  OverallCond  CentralAir  SalePrice\n",
       "0   0.380070         0.375      0.333333        0.500           1     208500\n",
       "1  -0.312090         0.375      0.333333        0.875           1     181500\n",
       "2   0.497489         0.375      0.333333        0.500           1     223500\n",
       "3   0.390885         0.375      0.333333        0.500           1     140000\n",
       "4   1.134029         0.500      0.333333        0.500           1     250000"
      ]
     },
     "execution_count": 2,
     "metadata": {},
     "output_type": "execute_result"
    }
   ],
   "source": [
    "import numpy as np\n",
    "import pandas as pd\n",
    "import matplotlib.pyplot as plt\n",
    "import pandas as pd\n",
    "\n",
    "data = pd.read_csv(\"data/houses_clean.csv\")\n",
    "\n",
    "data.head()"
   ]
  },
  {
   "cell_type": "markdown",
   "metadata": {},
   "source": [
    "ℹ️ The features are already preprocessed as you did it during the Data preparation day. The dataset description can be found [here](https://wagon-public-datasets.s3.amazonaws.com/Machine%20Learning%20Datasets/ML_Houses_dataset_description.txt)."
   ]
  },
  {
   "cell_type": "markdown",
   "metadata": {},
   "source": [
    "# Default KNN"
   ]
  },
  {
   "cell_type": "markdown",
   "metadata": {},
   "source": [
    "🎯 The task is to predict the price of houses (`SalePrice`) with all the features."
   ]
  },
  {
   "cell_type": "markdown",
   "metadata": {},
   "source": [
    "👇 Use cross validation to evaluate a default KNNRegressor on such a task. What is the proportion of the variance in `SalePrice` that is explained by the features? Save your answer under variable name `base_knn_score`."
   ]
  },
  {
   "cell_type": "markdown",
   "metadata": {},
   "source": [
    "<details>\n",
    "<summary> 💡 Hint </summary>\n",
    "    <br>\n",
    "    ℹ️ The proportion of the variance in the dependent variable that is explained by the independent variables is the R2 score.\n",
    "</details>"
   ]
  },
  {
   "cell_type": "code",
   "execution_count": 3,
   "metadata": {},
   "outputs": [],
   "source": [
    "from sklearn.neighbors import KNeighborsRegressor\n",
    "from sklearn.model_selection import cross_validate"
   ]
  },
  {
   "cell_type": "code",
   "execution_count": 4,
   "metadata": {},
   "outputs": [
    {
     "data": {
      "text/plain": [
       "0.6086310596745281"
      ]
     },
     "execution_count": 4,
     "metadata": {},
     "output_type": "execute_result"
    }
   ],
   "source": [
    "model = KNeighborsRegressor()\n",
    "\n",
    "X = data.iloc[:,:-1].copy()\n",
    "y = data.iloc[:,-1].copy()\n",
    "                    \n",
    "cv_results = cross_validate(model, X, y, cv=5)\n",
    "base_knn_score = cv_results['test_score'].mean()\n",
    "base_knn_score"
   ]
  },
  {
   "cell_type": "markdown",
   "metadata": {},
   "source": [
    "### ☑️ Check your code"
   ]
  },
  {
   "cell_type": "code",
   "execution_count": 5,
   "metadata": {},
   "outputs": [
    {
     "name": "stdout",
     "output_type": "stream",
     "text": [
      "\u001b[1m============================= test session starts ==============================\u001b[0m\n",
      "platform darwin -- Python 3.8.6, pytest-6.2.3, py-1.10.0, pluggy-0.13.1 -- /Users/smrack/.pyenv/versions/3.8.6/envs/lewagon/bin/python3.8\n",
      "cachedir: .pytest_cache\n",
      "rootdir: /Users/smrack/code/olushO/data-challenges/05-ML/03-Performance-metrics/01-KNN\n",
      "plugins: anyio-2.2.0, dash-1.20.0\n",
      "\u001b[1mcollecting ... \u001b[0mcollected 1 item\n",
      "\n",
      "tests/test_default_score.py::TestDefault_score::test_score \u001b[32mPASSED\u001b[0m\u001b[32m        [100%]\u001b[0m\n",
      "\n",
      "\u001b[32m============================== \u001b[32m\u001b[1m1 passed\u001b[0m\u001b[32m in 0.18s\u001b[0m\u001b[32m ===============================\u001b[0m\n",
      "\n",
      "\n",
      "💯 You can commit your code:\n",
      "\n",
      "\u001b[1;32mgit\u001b[39m add tests/default_score.pickle\n",
      "\n",
      "\u001b[32mgit\u001b[39m commit -m \u001b[33m'Completed default_score step'\u001b[39m\n",
      "\n",
      "\u001b[32mgit\u001b[39m push origin master\n"
     ]
    }
   ],
   "source": [
    "from nbresult import ChallengeResult\n",
    "\n",
    "result = ChallengeResult('default_score',\n",
    "                         score = base_knn_score\n",
    ")\n",
    "\n",
    "result.write()\n",
    "print(result.check())"
   ]
  },
  {
   "cell_type": "markdown",
   "metadata": {},
   "source": [
    "# Scale sensitivity"
   ]
  },
  {
   "cell_type": "markdown",
   "metadata": {},
   "source": [
    "KNNs and distance based algorithms can be extremely sensitive to the scale of the features. \n",
    "\n",
    "👇 Rescale the feature set within an **exact common range**, and save it under a variable named `X_rescaled`. Then, evaluate a model on the rescaled features and save its score under variable name `rescaled_score`."
   ]
  },
  {
   "cell_type": "markdown",
   "metadata": {},
   "source": [
    "<details>\n",
    "<summary> 💡 Hint </summary>\n",
    "    \n",
    "`MinMaxScaler()`\n",
    "\n",
    "</details>\n",
    "\n",
    "\n"
   ]
  },
  {
   "cell_type": "code",
   "execution_count": 6,
   "metadata": {
    "scrolled": true
   },
   "outputs": [
    {
     "data": {
      "text/html": [
       "<div>\n",
       "<style scoped>\n",
       "    .dataframe tbody tr th:only-of-type {\n",
       "        vertical-align: middle;\n",
       "    }\n",
       "\n",
       "    .dataframe tbody tr th {\n",
       "        vertical-align: top;\n",
       "    }\n",
       "\n",
       "    .dataframe thead th {\n",
       "        text-align: right;\n",
       "    }\n",
       "</style>\n",
       "<table border=\"1\" class=\"dataframe\">\n",
       "  <thead>\n",
       "    <tr style=\"text-align: right;\">\n",
       "      <th></th>\n",
       "      <th>0</th>\n",
       "      <th>1</th>\n",
       "      <th>2</th>\n",
       "      <th>3</th>\n",
       "      <th>4</th>\n",
       "    </tr>\n",
       "  </thead>\n",
       "  <tbody>\n",
       "    <tr>\n",
       "      <th>0</th>\n",
       "      <td>0.303208</td>\n",
       "      <td>0.375</td>\n",
       "      <td>0.333333</td>\n",
       "      <td>0.500</td>\n",
       "      <td>1.0</td>\n",
       "    </tr>\n",
       "    <tr>\n",
       "      <th>1</th>\n",
       "      <td>0.223817</td>\n",
       "      <td>0.375</td>\n",
       "      <td>0.333333</td>\n",
       "      <td>0.875</td>\n",
       "      <td>1.0</td>\n",
       "    </tr>\n",
       "    <tr>\n",
       "      <th>2</th>\n",
       "      <td>0.316676</td>\n",
       "      <td>0.375</td>\n",
       "      <td>0.333333</td>\n",
       "      <td>0.500</td>\n",
       "      <td>1.0</td>\n",
       "    </tr>\n",
       "    <tr>\n",
       "      <th>3</th>\n",
       "      <td>0.304448</td>\n",
       "      <td>0.375</td>\n",
       "      <td>0.333333</td>\n",
       "      <td>0.500</td>\n",
       "      <td>1.0</td>\n",
       "    </tr>\n",
       "    <tr>\n",
       "      <th>4</th>\n",
       "      <td>0.389686</td>\n",
       "      <td>0.500</td>\n",
       "      <td>0.333333</td>\n",
       "      <td>0.500</td>\n",
       "      <td>1.0</td>\n",
       "    </tr>\n",
       "  </tbody>\n",
       "</table>\n",
       "</div>"
      ],
      "text/plain": [
       "          0      1         2      3    4\n",
       "0  0.303208  0.375  0.333333  0.500  1.0\n",
       "1  0.223817  0.375  0.333333  0.875  1.0\n",
       "2  0.316676  0.375  0.333333  0.500  1.0\n",
       "3  0.304448  0.375  0.333333  0.500  1.0\n",
       "4  0.389686  0.500  0.333333  0.500  1.0"
      ]
     },
     "execution_count": 6,
     "metadata": {},
     "output_type": "execute_result"
    }
   ],
   "source": [
    "from sklearn.preprocessing import MinMaxScaler\n",
    "\n",
    "scaler = MinMaxScaler()\n",
    "\n",
    "scaler.fit(X)\n",
    "\n",
    "X_rescaled = scaler.transform(X)\n",
    "pd.DataFrame(X_rescaled).head()"
   ]
  },
  {
   "cell_type": "code",
   "execution_count": 7,
   "metadata": {},
   "outputs": [
    {
     "data": {
      "text/plain": [
       "0.6514912409729618"
      ]
     },
     "execution_count": 7,
     "metadata": {},
     "output_type": "execute_result"
    }
   ],
   "source": [
    "cv_rescaled = cross_validate(model, X_rescaled, y, cv=5)\n",
    "rescaled_score = cv_rescaled['test_score'].mean()\n",
    "rescaled_score"
   ]
  },
  {
   "cell_type": "markdown",
   "metadata": {},
   "source": [
    "👉 The R2 score should have increased!"
   ]
  },
  {
   "cell_type": "markdown",
   "metadata": {},
   "source": [
    "ℹ️ It is preferrable for features to be in an exact common range when modelling distance based algorithms. However, it does not always garantee a better score. It is a trial and error process."
   ]
  },
  {
   "cell_type": "markdown",
   "metadata": {},
   "source": [
    "### ☑️ Check your code"
   ]
  },
  {
   "cell_type": "code",
   "execution_count": 8,
   "metadata": {},
   "outputs": [
    {
     "name": "stdout",
     "output_type": "stream",
     "text": [
      "\u001b[1m============================= test session starts ==============================\u001b[0m\n",
      "platform darwin -- Python 3.8.6, pytest-6.2.3, py-1.10.0, pluggy-0.13.1 -- /Users/smrack/.pyenv/versions/3.8.6/envs/lewagon/bin/python3.8\n",
      "cachedir: .pytest_cache\n",
      "rootdir: /Users/smrack/code/olushO/data-challenges/05-ML/03-Performance-metrics/01-KNN\n",
      "plugins: anyio-2.2.0, dash-1.20.0\n",
      "\u001b[1mcollecting ... \u001b[0mcollected 2 items\n",
      "\n",
      "tests/test_scale_sensitivity.py::TestScale_sensitivity::test_rescaled_features \u001b[32mPASSED\u001b[0m\u001b[32m [ 50%]\u001b[0m\n",
      "tests/test_scale_sensitivity.py::TestScale_sensitivity::test_score_inscrease \u001b[32mPASSED\u001b[0m\u001b[32m [100%]\u001b[0m\n",
      "\n",
      "\u001b[32m============================== \u001b[32m\u001b[1m2 passed\u001b[0m\u001b[32m in 0.24s\u001b[0m\u001b[32m ===============================\u001b[0m\n",
      "\n",
      "\n",
      "💯 You can commit your code:\n",
      "\n",
      "\u001b[1;32mgit\u001b[39m add tests/scale_sensitivity.pickle\n",
      "\n",
      "\u001b[32mgit\u001b[39m commit -m \u001b[33m'Completed scale_sensitivity step'\u001b[39m\n",
      "\n",
      "\u001b[32mgit\u001b[39m push origin master\n"
     ]
    }
   ],
   "source": [
    "from nbresult import ChallengeResult\n",
    "\n",
    "result = ChallengeResult('scale_sensitivity',\n",
    "                         base_score = base_knn_score,\n",
    "                         rescaled_features = X_rescaled,\n",
    "                         rescaled_score = rescaled_score\n",
    "                         \n",
    "                         \n",
    ")\n",
    "\n",
    "result.write()\n",
    "print(result.check())"
   ]
  },
  {
   "cell_type": "markdown",
   "metadata": {},
   "source": [
    "# Optimizing $k$"
   ]
  },
  {
   "cell_type": "markdown",
   "metadata": {},
   "source": [
    "👇 Fine tune the parameter K of a KNNRegressor on the rescaled features. Plot the evolution of the score as K increases from 2 until 25."
   ]
  },
  {
   "cell_type": "code",
   "execution_count": 9,
   "metadata": {},
   "outputs": [],
   "source": [
    "scores = []\n",
    "for k in range(2, 25):\n",
    "    model_k = KNeighborsRegressor(n_neighbors=k)\n",
    "    cv_k = cross_validate(model_k, X_rescaled, y, cv=5)\n",
    "    scores.append(cv_k['test_score'].mean())"
   ]
  },
  {
   "cell_type": "code",
   "execution_count": 10,
   "metadata": {},
   "outputs": [
    {
     "data": {
      "image/png": "[encoded data removed]",
      "text/plain": [
       "<Figure size 432x288 with 1 Axes>"
      ]
     },
     "metadata": {
      "needs_background": "light"
     },
     "output_type": "display_data"
    }
   ],
   "source": [
    "plt.plot(range(2,25), scores)\n",
    "plt.xlabel('K neighbors')\n",
    "plt.xlabel('Scores')\n",
    "plt.title('KNN score evolution')\n",
    "plt.show()"
   ]
  },
  {
   "cell_type": "markdown",
   "metadata": {},
   "source": [
    "❓ Which value of K produces the best performance? Save your answer under variable name `best_k`."
   ]
  },
  {
   "cell_type": "code",
   "execution_count": 11,
   "metadata": {},
   "outputs": [
    {
     "data": {
      "text/plain": [
       "10"
      ]
     },
     "execution_count": 11,
     "metadata": {},
     "output_type": "execute_result"
    }
   ],
   "source": [
    "best_k = np.argmax(scores) + 1\n",
    "best_k"
   ]
  },
  {
   "cell_type": "markdown",
   "metadata": {},
   "source": [
    "<details>\n",
    "<summary> 👉 Solution 👈</summary>\n",
    "    \n",
    "By looking at your graph, you should see that the score stops increasing around K = 10.\n",
    "\n",
    "</details>\n",
    "\n"
   ]
  },
  {
   "cell_type": "markdown",
   "metadata": {},
   "source": [
    "❓ What is you interpretation of the poor performance of the model for values $k$ < 5?"
   ]
  },
  {
   "cell_type": "markdown",
   "metadata": {},
   "source": [
    "<details>\n",
    "<summary> 👉 Solution 👈</summary>\n",
    "    \n",
    "When K is too small, the model will tend to overfit to the training set. It will focus on too few points to be able to generalize well. Increasing K will give the model more examples to base its predictions on.\n",
    "\n",
    "</details>\n",
    "\n"
   ]
  },
  {
   "cell_type": "markdown",
   "metadata": {},
   "source": [
    "### ☑️ Check your code"
   ]
  },
  {
   "cell_type": "code",
   "execution_count": 12,
   "metadata": {},
   "outputs": [
    {
     "name": "stdout",
     "output_type": "stream",
     "text": [
      "\u001b[1m============================= test session starts ==============================\u001b[0m\n",
      "platform darwin -- Python 3.8.6, pytest-6.2.3, py-1.10.0, pluggy-0.13.1 -- /Users/smrack/.pyenv/versions/3.8.6/envs/lewagon/bin/python3.8\n",
      "cachedir: .pytest_cache\n",
      "rootdir: /Users/smrack/code/olushO/data-challenges/05-ML/03-Performance-metrics/01-KNN\n",
      "plugins: anyio-2.2.0, dash-1.20.0\n",
      "\u001b[1mcollecting ... \u001b[0mcollected 1 item\n",
      "\n",
      "tests/test_optimal_k.py::TestOptimal_k::test_optimal_K_around_10 \u001b[32mPASSED\u001b[0m\u001b[32m  [100%]\u001b[0m\n",
      "\n",
      "\u001b[32m============================== \u001b[32m\u001b[1m1 passed\u001b[0m\u001b[32m in 0.14s\u001b[0m\u001b[32m ===============================\u001b[0m\n",
      "\n",
      "\n",
      "💯 You can commit your code:\n",
      "\n",
      "\u001b[1;32mgit\u001b[39m add tests/optimal_k.pickle\n",
      "\n",
      "\u001b[32mgit\u001b[39m commit -m \u001b[33m'Completed optimal_k step'\u001b[39m\n",
      "\n",
      "\u001b[32mgit\u001b[39m push origin master\n"
     ]
    }
   ],
   "source": [
    "from nbresult import ChallengeResult\n",
    "\n",
    "result = ChallengeResult('optimal_k',\n",
    "                         optimal_k = best_k                   \n",
    ")\n",
    "\n",
    "result.write()\n",
    "print(result.check())"
   ]
  },
  {
   "cell_type": "markdown",
   "metadata": {},
   "source": [
    "# Overfitting a KNN "
   ]
  },
  {
   "cell_type": "markdown",
   "metadata": {},
   "source": [
    "ℹ️ When the parameter K of KNNs is too small, there is a risk of overfitting the training set and not being able to generalize well. \n",
    "\n",
    "👇 Plot the learning curves of a KNN with parameter K=2."
   ]
  },
  {
   "cell_type": "code",
   "execution_count": 13,
   "metadata": {},
   "outputs": [
    {
     "data": {
      "text/plain": [
       "((1460, 5), (1460,))"
      ]
     },
     "execution_count": 13,
     "metadata": {},
     "output_type": "execute_result"
    }
   ],
   "source": [
    "X_rescaled.shape, y.shape"
   ]
  },
  {
   "cell_type": "code",
   "execution_count": 14,
   "metadata": {
    "scrolled": true
   },
   "outputs": [],
   "source": [
    "from sklearn.model_selection import learning_curve\n",
    "\n",
    "train_sizes = [25,50,75,100,250,500,750,1000,1150]"
   ]
  },
  {
   "cell_type": "code",
   "execution_count": 15,
   "metadata": {},
   "outputs": [],
   "source": [
    "# Get train scores (R2), train sizes, and validation scores using `learning_curve`\n",
    "train_sizes, train_scores, test_scores = learning_curve(\n",
    "    estimator=KNeighborsRegressor(n_neighbors=2), X=X_rescaled, y=y, train_sizes=train_sizes, cv=5)\n",
    "\n",
    "# Take the mean of cross-validated train scores and validation scores\n",
    "train_scores_mean = np.mean(train_scores, axis=1)\n",
    "test_scores_mean = np.mean(test_scores, axis=1)"
   ]
  },
  {
   "cell_type": "code",
   "execution_count": 16,
   "metadata": {},
   "outputs": [
    {
     "data": {
      "text/plain": [
       "<matplotlib.legend.Legend at 0x12c2da790>"
      ]
     },
     "execution_count": 16,
     "metadata": {},
     "output_type": "execute_result"
    },
    {
     "data": {
      "image/png": "[encoded data removed]",
      "text/plain": [
       "<Figure size 432x288 with 1 Axes>"
      ]
     },
     "metadata": {
      "needs_background": "light"
     },
     "output_type": "display_data"
    }
   ],
   "source": [
    "plt.plot(train_sizes, train_scores_mean, label = 'Training score')\n",
    "plt.plot(train_sizes, test_scores_mean, label = 'Test score')\n",
    "plt.ylabel('r2 score', fontsize = 14)\n",
    "plt.xlabel('Training set size', fontsize = 14)\n",
    "plt.title('Learning curves - K=2', fontsize = 18, y = 1.03)\n",
    "plt.legend()"
   ]
  },
  {
   "cell_type": "markdown",
   "metadata": {},
   "source": [
    "👉 You should observe a high training score, but a low testing score. ⚠️ Overfitting alert ⚠️ This is due to a parameter K that is too low."
   ]
  },
  {
   "cell_type": "markdown",
   "metadata": {},
   "source": [
    "# Ideal K"
   ]
  },
  {
   "cell_type": "markdown",
   "metadata": {},
   "source": [
    "👇 This time, plot the learning curves for the ideal K value you found in the \"Optimizing $k$\" section."
   ]
  },
  {
   "cell_type": "code",
   "execution_count": 17,
   "metadata": {},
   "outputs": [],
   "source": [
    "# Get train scores (R2), train sizes, and validation scores using `learning_curve`\n",
    "train_sizes, train_scores, test_scores = learning_curve(\n",
    "    estimator=KNeighborsRegressor(n_neighbors=10), X=X_rescaled, y=y, train_sizes=train_sizes, cv=5)\n",
    "\n",
    "# Take the mean of cross-validated train scores and validation scores\n",
    "train_scores_mean = np.mean(train_scores, axis=1)\n",
    "test_scores_mean = np.mean(test_scores, axis=1)"
   ]
  },
  {
   "cell_type": "code",
   "execution_count": 18,
   "metadata": {},
   "outputs": [
    {
     "data": {
      "text/plain": [
       "<matplotlib.legend.Legend at 0x12c4aa9a0>"
      ]
     },
     "execution_count": 18,
     "metadata": {},
     "output_type": "execute_result"
    },
    {
     "data": {
      "image/png": "[encoded data removed]",
      "text/plain": [
       "<Figure size 432x288 with 1 Axes>"
      ]
     },
     "metadata": {
      "needs_background": "light"
     },
     "output_type": "display_data"
    }
   ],
   "source": [
    "plt.plot(train_sizes, train_scores_mean, label = 'Training score')\n",
    "plt.plot(train_sizes, test_scores_mean, label = 'Test score')\n",
    "plt.ylabel('r2 score', fontsize = 14)\n",
    "plt.xlabel('Training set size', fontsize = 14)\n",
    "plt.title('Learning curves - K=best_k=10', fontsize = 18, y = 1.03)\n",
    "plt.legend()"
   ]
  },
  {
   "cell_type": "markdown",
   "metadata": {},
   "source": [
    "👉 The curves should be close to converging, which indicates that the model is overfitting less and generalizing better."
   ]
  },
  {
   "cell_type": "markdown",
   "metadata": {},
   "source": [
    "ℹ️ There are two key elements to remember when modelling with KNN models:\n",
    "    1. Distance algorithms are extremely sensitive to the scale of features\n",
    "    2. K must be tuned: it controls the tradeoff between performance, generalization, and overfitting"
   ]
  },
  {
   "cell_type": "markdown",
   "metadata": {},
   "source": [
    "❓ What is the average difference between actual price and predicted price of the optimized KNN model? Compute your answer and save it under variable name `price_error`"
   ]
  },
  {
   "cell_type": "code",
   "execution_count": 19,
   "metadata": {},
   "outputs": [],
   "source": [
    "from sklearn.model_selection import train_test_split\n",
    "\n",
    "X_train, X_test, y_train, y_test = train_test_split(X_rescaled, y, test_size=0.3)"
   ]
  },
  {
   "cell_type": "code",
   "execution_count": 20,
   "metadata": {},
   "outputs": [],
   "source": [
    "optimized_model = KNeighborsRegressor(n_neighbors=best_k)\n",
    "optimized_model.fit(X_train, y_train)\n",
    "\n",
    "y_predicted = optimized_model.predict(X_test)"
   ]
  },
  {
   "cell_type": "code",
   "execution_count": 21,
   "metadata": {},
   "outputs": [
    {
     "data": {
      "text/plain": [
       "(438, 1)"
      ]
     },
     "execution_count": 21,
     "metadata": {},
     "output_type": "execute_result"
    }
   ],
   "source": [
    "y_predicted[:,np.newaxis].shape"
   ]
  },
  {
   "cell_type": "code",
   "execution_count": 22,
   "metadata": {},
   "outputs": [
    {
     "name": "stdout",
     "output_type": "stream",
     "text": [
      "[[116000.  120150. ]\n",
      " [108000.  152290. ]\n",
      " [267000.  301600. ]\n",
      " [257500.  178170. ]\n",
      " [187100.  181418. ]\n",
      " [219500.  297344.4]\n",
      " [106000.  119940. ]\n",
      " [231500.  238071.3]\n",
      " [386250.  322870. ]\n",
      " [139000.  133085. ]\n",
      " [207000.  207400. ]\n",
      " [204000.  235346.3]\n",
      " [120500.  118545.8]\n",
      " [221000.  206513.5]\n",
      " [281213.  301600. ]\n",
      " [228500.  221162.5]\n",
      " [215000.  202451. ]\n",
      " [191000.  181750. ]\n",
      " [155000.  178490. ]\n",
      " [ 97500.  185097.2]\n",
      " [252678.  249531.3]\n",
      " [195000.  220180. ]\n",
      " [187000.  193195. ]\n",
      " [402000.  233300. ]\n",
      " [143750.  119940. ]\n",
      " [136905.  139212.2]\n",
      " [104900.  146803.7]\n",
      " [100000.  110836. ]\n",
      " [224000.  182161.5]\n",
      " [137000.  140372.2]\n",
      " [200000.  183625.3]\n",
      " [205000.  109400.4]\n",
      " [307000.  216275. ]\n",
      " [466500.  416627.4]\n",
      " [220000.  194370. ]\n",
      " [227000.  184077.8]\n",
      " [140000.  120096. ]\n",
      " [112500.  116108.3]\n",
      " [149900.  145000. ]\n",
      " [140000.  149050. ]\n",
      " [207500.  188040. ]\n",
      " [157000.  197940. ]\n",
      " [130500.  161695. ]\n",
      " [167500.  153957.5]\n",
      " [210000.  181508. ]\n",
      " [149000.  123240. ]\n",
      " [380000.  319551.1]\n",
      " [204900.  228752.2]\n",
      " [157900.  138940. ]\n",
      " [197900.  203970. ]\n",
      " [225000.  250008. ]\n",
      " [340000.  321470. ]\n",
      " [183000.  234947. ]\n",
      " [144000.  150805.9]\n",
      " [180000.  168762.1]\n",
      " [114500.  126146. ]\n",
      " [194500.  158937.3]\n",
      " [145000.  121950. ]\n",
      " [212000.  243821.3]\n",
      " [120000.  130077.6]\n",
      " [274970.  214800. ]\n",
      " [145000.  137790. ]\n",
      " [118000.  120150. ]\n",
      " [233230.  265512.7]\n",
      " [241000.  208132.2]\n",
      " [272000.  194370. ]\n",
      " [157000.  191890. ]\n",
      " [248000.  264048. ]\n",
      " [ 85000.  103110. ]\n",
      " [128000.  124567.6]\n",
      " [178000.  152290. ]\n",
      " [138000.  120150. ]\n",
      " [170000.  145600. ]\n",
      " [200100.  177270. ]\n",
      " [105000.  133970. ]\n",
      " [138800.  121950. ]\n",
      " [130000.  122845.8]\n",
      " [140000.  152290. ]\n",
      " [156500.  128470. ]\n",
      " [125000.  133990. ]\n",
      " [148000.  140140. ]\n",
      " [378500.  297944.4]\n",
      " [147000.  116388. ]\n",
      " [133000.  188440. ]\n",
      " [ 90000.  114080. ]\n",
      " [172500.  197552.2]\n",
      " [184900.  155375.2]\n",
      " [104000.  196730. ]\n",
      " [110000.  116018.3]\n",
      " [214000.  202451. ]\n",
      " [ 81000.  117440. ]\n",
      " [132500.  136800. ]\n",
      " [206300.  112452.2]\n",
      " [134432.  154400. ]\n",
      " [230500.  277252.7]\n",
      " [118500.  138485. ]\n",
      " [424870.  380311.5]\n",
      " [167900.  197940. ]\n",
      " [202500.  181520. ]\n",
      " [120000.  140140. ]\n",
      " [197000.  185315.3]\n",
      " [164500.  167483.3]\n",
      " [131500.  133070. ]\n",
      " [ 73000.   77949.3]\n",
      " [229000.  244880. ]\n",
      " [192000.  185097.2]\n",
      " [135000.  152585. ]\n",
      " [107500.  115330. ]\n",
      " [147000.  125077.6]\n",
      " [155000.  134085. ]\n",
      " [236500.  224165. ]\n",
      " [185500.  166621.2]\n",
      " [158000.  136300. ]\n",
      " [166000.  126490. ]\n",
      " [181000.  196872.8]\n",
      " [102000.   89339.3]\n",
      " [150500.  137990. ]\n",
      " [145000.  138910. ]\n",
      " [ 64500.  137355. ]\n",
      " [134500.  123030. ]\n",
      " [175000.  133085. ]\n",
      " [297000.  221080. ]\n",
      " [159500.  148735. ]\n",
      " [272000.  241850. ]\n",
      " [278000.  239150. ]\n",
      " [145000.  137900. ]\n",
      " [179900.  177644. ]\n",
      " [190000.  282062.7]\n",
      " [115000.  109400.4]\n",
      " [124000.  121496. ]\n",
      " [172000.  187980. ]\n",
      " [135000.  131690. ]\n",
      " [160000.  133085. ]\n",
      " [164000.  167483.3]\n",
      " [ 94000.  105140.4]\n",
      " [147000.  140780. ]\n",
      " [318000.  216275. ]\n",
      " [178400.  159300. ]\n",
      " [173000.  152290. ]\n",
      " [115000.  234947. ]\n",
      " [132500.  147575. ]\n",
      " [274725.  297944.4]\n",
      " [175900.  194370. ]\n",
      " [239686.  356453.1]\n",
      " [198900.  158190. ]\n",
      " [244400.  233300. ]\n",
      " [130500.  148335. ]\n",
      " [110000.  133970. ]\n",
      " [271900.  214200. ]\n",
      " [197000.  200472.8]\n",
      " [176000.  210251. ]\n",
      " [144500.  157010. ]\n",
      " [277500.  208132.2]\n",
      " [175000.  166621.2]\n",
      " [119000.  158258.5]\n",
      " [180000.  181418. ]\n",
      " [120000.  135240. ]\n",
      " [178000.  187140. ]\n",
      " [112000.  140372.2]\n",
      " [274000.  220009.4]\n",
      " [128950.  158190. ]\n",
      " [212000.  220009.4]\n",
      " [115000.  140670. ]\n",
      " [128500.  121260. ]\n",
      " [131500.  125100. ]\n",
      " [ 96500.  145380. ]\n",
      " [162000.  155375.2]\n",
      " [135000.  157457.5]\n",
      " [176432.  166912.1]\n",
      " [ 72500.   83289.3]\n",
      " [262500.  193520. ]\n",
      " [160000.  172055.5]\n",
      " [158000.  222775. ]\n",
      " [124500.  140372.2]\n",
      " [215000.  206513.5]\n",
      " [403000.  380311.5]\n",
      " [255500.  220980. ]\n",
      " [119000.  121530. ]\n",
      " [110000.   77949.3]\n",
      " [136500.  141450. ]\n",
      " [118500.  167483.3]\n",
      " [115000.  134567.5]\n",
      " [187500.  197753.5]\n",
      " [103200.  125400. ]\n",
      " [155000.  152290. ]\n",
      " [129500.  112260. ]\n",
      " [149900.  140670. ]\n",
      " [181000.  212315. ]\n",
      " [200500.  332064.1]\n",
      " [187750.  189727.4]\n",
      " [305900.  294065.1]\n",
      " [ 76500.  105610. ]\n",
      " [149500.  199642.2]\n",
      " [192500.  208132.2]\n",
      " [192000.  234947. ]\n",
      " [361919.  306328.8]\n",
      " [485000.  422663.8]\n",
      " [156000.  116500. ]\n",
      " [160000.  162180. ]\n",
      " [170000.  179141.6]\n",
      " [214000.  198952.8]\n",
      " [143000.  136172.2]\n",
      " [250000.  241850. ]\n",
      " [110000.  116843.3]\n",
      " [168500.  161463.4]\n",
      " [159000.  181520. ]\n",
      " [ 40000.  110400. ]\n",
      " [235000.  194837. ]\n",
      " [116000.  138910. ]\n",
      " [127500.  137900. ]\n",
      " [112000.  101500.4]\n",
      " [290000.  312281.1]\n",
      " [143000.  186645. ]\n",
      " [213000.  197390. ]\n",
      " [149900.  134700. ]\n",
      " [179500.  224150. ]\n",
      " [148000.  148735. ]\n",
      " [108000.  119140. ]\n",
      " [ 84500.   99850. ]\n",
      " [130500.  140550. ]\n",
      " [134000.  122530. ]\n",
      " [214000.  280804.3]\n",
      " [200141.  166912.1]\n",
      " [258000.  261848. ]\n",
      " [310000.  246750. ]\n",
      " [319000.  245681.3]\n",
      " [180000.  192245. ]\n",
      " [178740.  183636.6]\n",
      " [325624.  264229.8]\n",
      " [335000.  309864.3]\n",
      " [140000.  220980. ]\n",
      " [318000.  218300. ]\n",
      " [120000.  123155. ]\n",
      " [144900.  138430. ]\n",
      " [178900.  197390. ]\n",
      " [179900.  152695. ]\n",
      " [197900.  213690. ]\n",
      " [ 90350.   83289.3]\n",
      " [143000.  152290. ]\n",
      " [123000.  137790. ]\n",
      " [122000.  120960. ]\n",
      " [216500.  202451. ]\n",
      " [183200.  185013.5]\n",
      " [203000.  194963.5]\n",
      " [130000.  199790. ]\n",
      " [313000.  264229.8]\n",
      " [ 67000.  129293.2]\n",
      " [122900.  124460. ]\n",
      " [287090.  200472.8]\n",
      " [151000.  142260. ]\n",
      " [236500.  225600. ]\n",
      " [175000.  173655. ]\n",
      " [119000.  150175.3]\n",
      " [106000.  162762.1]\n",
      " [119500.  138240. ]\n",
      " [200000.  199525. ]\n",
      " [202500.  180611.5]\n",
      " [ 87000.   83289.3]\n",
      " [182900.  153882.5]\n",
      " [132000.  160000. ]\n",
      " [230000.  249531.3]\n",
      " [160000.  152585. ]\n",
      " [150000.  152585. ]\n",
      " [125000.  140490. ]\n",
      " [153000.  155450. ]\n",
      " [127000.  179327.4]\n",
      " [199900.  200415. ]\n",
      " [224900.  220180. ]\n",
      " [290000.  233300. ]\n",
      " [200500.  208460. ]\n",
      " [192500.  227171.3]\n",
      " [143000.  157630. ]\n",
      " [160000.  164623.5]\n",
      " [205000.  260604.8]\n",
      " [174900.  139140. ]\n",
      " [191000.  310418. ]\n",
      " [107000.  118970. ]\n",
      " [ 55000.  110780. ]\n",
      " [235000.  422663.8]\n",
      " [205000.  221162.5]\n",
      " [ 82000.  110680. ]\n",
      " [369900.  336817.8]\n",
      " [171000.  144575.3]\n",
      " [159950.  124180. ]\n",
      " [110000.  140372.2]\n",
      " [259000.  196960. ]\n",
      " [311872.  201490. ]\n",
      " [190000.  195782.5]\n",
      " [ 34900.   77949.3]\n",
      " [115000.  116108.3]\n",
      " [157000.  194370. ]\n",
      " [140000.  179077.8]\n",
      " [200000.  153403.7]\n",
      " [193000.  225600. ]\n",
      " [153337.  112452.2]\n",
      " [ 80000.  103110. ]\n",
      " [105000.  162595. ]\n",
      " [317000.  301600. ]\n",
      " [149300.  144250. ]\n",
      " [181500.  134867.5]\n",
      " [142000.  145000. ]\n",
      " [253000.  271279.9]\n",
      " [381000.  286930. ]\n",
      " [235000.  124437.6]\n",
      " [260000.  196960. ]\n",
      " [106250.  126430.4]\n",
      " [223500.  234611.3]\n",
      " [213000.  227171.3]\n",
      " [ 89500.  141682.5]\n",
      " [176000.  153957.5]\n",
      " [118400.  116286. ]\n",
      " [160000.  209250. ]\n",
      " [260000.  332041.2]\n",
      " [168500.  232402.2]\n",
      " [113000.  112452.2]\n",
      " [185750.  160640. ]\n",
      " [211000.  221340. ]\n",
      " [132000.  159245. ]\n",
      " [187000.  180770. ]\n",
      " [239000.  140408.3]\n",
      " [154000.  142260. ]\n",
      " [144000.  191257. ]\n",
      " [277000.  208500. ]\n",
      " [237000.  297344.4]\n",
      " [225000.  278079.9]\n",
      " [126000.  140372.2]\n",
      " [137500.  154500. ]\n",
      " [105000.  162423.5]\n",
      " [149000.  155945. ]\n",
      " [392500.  244100. ]\n",
      " [145000.  136802.2]\n",
      " [122000.  127690. ]\n",
      " [143500.  138910. ]\n",
      " [284000.  237007. ]\n",
      " [136000.  140372.2]\n",
      " [119200.  145600. ]\n",
      " [177000.  204082.5]\n",
      " [180000.  219730. ]\n",
      " [122500.  149006.4]\n",
      " [190000.  140950. ]\n",
      " [171750.  175841.6]\n",
      " [159000.  132100. ]\n",
      " [ 81000.  129880. ]\n",
      " [125000.  122050. ]\n",
      " [148000.  137900. ]\n",
      " [129900.  140840. ]\n",
      " [345000.  264048. ]\n",
      " [159434.  191157. ]\n",
      " [320000.  409266.8]\n",
      " [625000.  450961.4]\n",
      " [173000.  141985. ]\n",
      " [ 93000.  132800. ]\n",
      " [328900.  310418. ]\n",
      " [153500.  134700. ]\n",
      " [ 87000.  117990. ]\n",
      " [193000.  224165. ]\n",
      " [167500.  132658.3]\n",
      " [239000.  224300. ]\n",
      " [123000.  116108.3]\n",
      " [141000.  135090. ]\n",
      " [268000.  264048. ]\n",
      " [377426.  282062.7]\n",
      " [176500.  239747. ]\n",
      " [126000.  102350. ]\n",
      " [ 91000.  105600. ]\n",
      " [185000.  175580. ]\n",
      " [165000.  161723. ]\n",
      " [155900.  144250. ]\n",
      " [130000.  141700. ]\n",
      " [128000.  135375. ]\n",
      " [109900.  118770. ]\n",
      " [120000.  147785. ]\n",
      " [175000.  185013.5]\n",
      " [194000.  159547.3]\n",
      " [150750.  137790. ]\n",
      " [264561.  244309.4]\n",
      " [141000.  150400. ]\n",
      " [173000.  220265. ]\n",
      " [216837.  247831.3]\n",
      " [227000.  198952.8]\n",
      " [225000.  206513.5]\n",
      " [135500.  130825. ]\n",
      " [109000.  119738. ]\n",
      " [175000.  211937.7]\n",
      " [119000.  123095.8]\n",
      " [223500.  155945. ]\n",
      " [115000.  114886. ]\n",
      " [135000.  130575. ]\n",
      " [246578.  228752.2]\n",
      " [185000.  170595. ]\n",
      " [195000.  202451. ]\n",
      " [236000.  261848. ]\n",
      " [143000.  195782.5]\n",
      " [239900.  223275. ]\n",
      " [ 82500.  144250. ]\n",
      " [ 96500.   77949.3]\n",
      " [165000.  194480. ]\n",
      " [193500.  194480. ]\n",
      " [179900.  154400. ]\n",
      " [141000.  122530. ]\n",
      " [130000.  121260. ]\n",
      " [165600.  197353.5]\n",
      " [222500.  294044.4]\n",
      " [217000.  206513.5]\n",
      " [118500.  116108.3]\n",
      " [179900.  134867.5]\n",
      " [219500.  202465. ]\n",
      " [ 89471.  119727.6]\n",
      " [175500.  152585. ]\n",
      " [142125.  127338. ]\n",
      " [221000.  180768.7]\n",
      " [245000.  200790. ]\n",
      " [135000.  225390. ]\n",
      " [152000.  121950. ]\n",
      " [178000.  180770. ]\n",
      " [200624.  146820. ]\n",
      " [180000.  185315.3]\n",
      " [128500.  130575. ]\n",
      " [181900.  159350. ]\n",
      " [189000.  273838.8]\n",
      " [ 98300.  139715. ]\n",
      " [125000.  161695. ]\n",
      " [ 98000.   85939.3]\n",
      " [200000.  249531.3]\n",
      " [184000.  172990. ]\n",
      " [135900.  146957.9]\n",
      " [249700.  221877.7]\n",
      " [ 79900.  144250. ]\n",
      " [305000.  261848. ]\n",
      " [194000.  167483.3]\n",
      " [142500.  133100. ]\n",
      " [220000.  197960. ]\n",
      " [112000.  116108.3]\n",
      " [197000.  178930. ]\n",
      " [140000.  127338. ]\n",
      " [176000.  161723. ]\n",
      " [311500.  218500. ]\n",
      " [137500.  159365.2]]\n"
     ]
    }
   ],
   "source": [
    "print(np.concatenate((np.array(y_test)[:,np.newaxis], np.array(y_predicted)[:,np.newaxis]), axis=1))"
   ]
  },
  {
   "cell_type": "code",
   "execution_count": 23,
   "metadata": {},
   "outputs": [
    {
     "data": {
      "text/plain": [
       "29135.324657534245"
      ]
     },
     "execution_count": 23,
     "metadata": {},
     "output_type": "execute_result"
    }
   ],
   "source": [
    "from sklearn.metrics import mean_absolute_error\n",
    "price_error = mean_absolute_error(y_test, y_predicted)\n",
    "price_error"
   ]
  },
  {
   "cell_type": "markdown",
   "metadata": {},
   "source": [
    "### ☑️ Check your code"
   ]
  },
  {
   "cell_type": "code",
   "execution_count": 24,
   "metadata": {},
   "outputs": [
    {
     "name": "stdout",
     "output_type": "stream",
     "text": [
      "\u001b[1m============================= test session starts ==============================\u001b[0m\n",
      "platform darwin -- Python 3.8.6, pytest-6.2.3, py-1.10.0, pluggy-0.13.1 -- /Users/smrack/.pyenv/versions/3.8.6/envs/lewagon/bin/python3.8\n",
      "cachedir: .pytest_cache\n",
      "rootdir: /Users/smrack/code/olushO/data-challenges/05-ML/03-Performance-metrics/01-KNN\n",
      "plugins: anyio-2.2.0, dash-1.20.0\n",
      "\u001b[1mcollecting ... \u001b[0mcollected 1 item\n",
      "\n",
      "tests/test_price_error.py::TestPrice_error::test_price_error_range \u001b[32mPASSED\u001b[0m\u001b[32m [100%]\u001b[0m\n",
      "\n",
      "\u001b[32m============================== \u001b[32m\u001b[1m1 passed\u001b[0m\u001b[32m in 0.62s\u001b[0m\u001b[32m ===============================\u001b[0m\n",
      "\n",
      "\n",
      "💯 You can commit your code:\n",
      "\n",
      "\u001b[1;32mgit\u001b[39m add tests/price_error.pickle\n",
      "\n",
      "\u001b[32mgit\u001b[39m commit -m \u001b[33m'Completed price_error step'\u001b[39m\n",
      "\n",
      "\u001b[32mgit\u001b[39m push origin master\n"
     ]
    }
   ],
   "source": [
    "from nbresult import ChallengeResult\n",
    "\n",
    "result = ChallengeResult('price_error',\n",
    "                         error = price_error\n",
    ")\n",
    "\n",
    "result.write()\n",
    "print(result.check())"
   ]
  },
  {
   "cell_type": "markdown",
   "metadata": {},
   "source": [
    "# Model Selection"
   ]
  },
  {
   "cell_type": "markdown",
   "metadata": {},
   "source": [
    "❓ Which of those two models would you chose to perform the task of predicting house prices:\n",
    "- The KNN model you just tuned\n",
    "- A Linear Regression model\n",
    "\n",
    "Save your answer as a string under variable name `best_model` as either \"KNN\" or \"LinearReg\"."
   ]
  },
  {
   "cell_type": "markdown",
   "metadata": {},
   "source": [
    "<details>\n",
    "<summary> 💡 Hint </summary>\n",
    "    \n",
    "To chose either or, you'll have to evaluate the score of a Linear Regression on the same task and compare it to the score of the KNN. Make sure you are comparing the same metrics!!\n",
    "\n",
    "</details>\n",
    "\n",
    "\n"
   ]
  },
  {
   "cell_type": "code",
   "execution_count": 25,
   "metadata": {},
   "outputs": [
    {
     "data": {
      "text/plain": [
       "32613.51677370829"
      ]
     },
     "execution_count": 25,
     "metadata": {},
     "output_type": "execute_result"
    }
   ],
   "source": [
    "from sklearn.linear_model import LinearRegression\n",
    "\n",
    "lin_mondel = LinearRegression()\n",
    "\n",
    "lin_mondel.fit(X_train, y_train)\n",
    "\n",
    "y_predicted_lin = lin_mondel.predict(X_test)\n",
    "\n",
    "price_error_lin = mean_absolute_error(y_test, y_predicted_lin)\n",
    "price_error_lin"
   ]
  },
  {
   "cell_type": "code",
   "execution_count": 26,
   "metadata": {},
   "outputs": [],
   "source": [
    "if price_error_lin < price_error:\n",
    "    best_model = 'LinearReg'\n",
    "else:\n",
    "    best_model = 'KNN'"
   ]
  },
  {
   "cell_type": "markdown",
   "metadata": {},
   "source": [
    "ℹ️ When comparing either metric of both models, the KNN model should outperform the Linear Regression. This could be due to its ability to capture non-linear patterns in the data."
   ]
  },
  {
   "cell_type": "markdown",
   "metadata": {},
   "source": [
    "### ☑️ Check your code"
   ]
  },
  {
   "cell_type": "code",
   "execution_count": 27,
   "metadata": {},
   "outputs": [
    {
     "name": "stdout",
     "output_type": "stream",
     "text": [
      "\u001b[1m============================= test session starts ==============================\u001b[0m\n",
      "platform darwin -- Python 3.8.6, pytest-6.2.3, py-1.10.0, pluggy-0.13.1 -- /Users/smrack/.pyenv/versions/3.8.6/envs/lewagon/bin/python3.8\n",
      "cachedir: .pytest_cache\n",
      "rootdir: /Users/smrack/code/olushO/data-challenges/05-ML/03-Performance-metrics/01-KNN\n",
      "plugins: anyio-2.2.0, dash-1.20.0\n",
      "\u001b[1mcollecting ... \u001b[0mcollected 1 item\n",
      "\n",
      "tests/test_best_model.py::TestBest_model::test_best_model \u001b[32mPASSED\u001b[0m\u001b[32m         [100%]\u001b[0m\n",
      "\n",
      "\u001b[32m============================== \u001b[32m\u001b[1m1 passed\u001b[0m\u001b[32m in 0.03s\u001b[0m\u001b[32m ===============================\u001b[0m\n",
      "\n",
      "\n",
      "💯 You can commit your code:\n",
      "\n",
      "\u001b[1;32mgit\u001b[39m add tests/best_model.pickle\n",
      "\n",
      "\u001b[32mgit\u001b[39m commit -m \u001b[33m'Completed best_model step'\u001b[39m\n",
      "\n",
      "\u001b[32mgit\u001b[39m push origin master\n"
     ]
    }
   ],
   "source": [
    "from nbresult import ChallengeResult\n",
    "\n",
    "result = ChallengeResult('best_model',\n",
    "                         model = best_model\n",
    ")\n",
    "\n",
    "result.write()\n",
    "print(result.check())"
   ]
  },
  {
   "cell_type": "markdown",
   "metadata": {
    "heading_collapsed": true
   },
   "source": [
    "# 🏁"
   ]
  }
 ],
 "metadata": {
  "kernelspec": {
   "display_name": "Python 3",
   "language": "python",
   "name": "python3"
  },
  "language_info": {
   "codemirror_mode": {
    "name": "ipython",
    "version": 3
   },
   "file_extension": ".py",
   "mimetype": "text/x-python",
   "name": "python",
   "nbconvert_exporter": "python",
   "pygments_lexer": "ipython3",
   "version": "3.8.6"
  },
  "toc": {
   "base_numbering": 1,
   "nav_menu": {},
   "number_sections": false,
   "sideBar": true,
   "skip_h1_title": false,
   "title_cell": "Table of Contents",
   "title_sidebar": "Contents",
   "toc_cell": false,
   "toc_position": {},
   "toc_section_display": true,
   "toc_window_display": false
  },
  "varInspector": {
   "cols": {
    "lenName": 16,
    "lenType": 16,
    "lenVar": 40
   },
   "kernels_config": {
    "python": {
     "delete_cmd_postfix": "",
     "delete_cmd_prefix": "del ",
     "library": "var_list.py",
     "varRefreshCmd": "print(var_dic_list())"
    },
    "r": {
     "delete_cmd_postfix": ") ",
     "delete_cmd_prefix": "rm(",
     "library": "var_list.r",
     "varRefreshCmd": "cat(var_dic_list()) "
    }
   },
   "types_to_exclude": [
    "module",
    "function",
    "builtin_function_or_method",
    "instance",
    "_Feature"
   ],
   "window_display": false
  }
 },
 "nbformat": 4,
 "nbformat_minor": 4
}
