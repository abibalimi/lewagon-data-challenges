{
 "cells": [
  {
   "cell_type": "markdown",
   "metadata": {},
   "source": [
    "# Tuning Pipeline"
   ]
  },
  {
   "cell_type": "markdown",
   "metadata": {},
   "source": [
    "👇 Consider the following dataset."
   ]
  },
  {
   "cell_type": "code",
   "execution_count": 1,
   "metadata": {
    "scrolled": true
   },
   "outputs": [
    {
     "data": {
      "text/html": [
       "<div>\n",
       "<style scoped>\n",
       "    .dataframe tbody tr th:only-of-type {\n",
       "        vertical-align: middle;\n",
       "    }\n",
       "\n",
       "    .dataframe tbody tr th {\n",
       "        vertical-align: top;\n",
       "    }\n",
       "\n",
       "    .dataframe thead th {\n",
       "        text-align: right;\n",
       "    }\n",
       "</style>\n",
       "<table border=\"1\" class=\"dataframe\">\n",
       "  <thead>\n",
       "    <tr style=\"text-align: right;\">\n",
       "      <th></th>\n",
       "      <th>games played</th>\n",
       "      <th>minutes played</th>\n",
       "      <th>points per game</th>\n",
       "      <th>field goals made</th>\n",
       "      <th>field goal attempts</th>\n",
       "      <th>field goal percent</th>\n",
       "      <th>3 point made</th>\n",
       "      <th>3 point attempt</th>\n",
       "      <th>3 point %</th>\n",
       "      <th>free throw made</th>\n",
       "      <th>free throw attempts</th>\n",
       "      <th>free throw %</th>\n",
       "      <th>offensive rebounds</th>\n",
       "      <th>defensive rebounds</th>\n",
       "      <th>rebounds</th>\n",
       "      <th>assists</th>\n",
       "      <th>steals</th>\n",
       "      <th>blocks</th>\n",
       "      <th>turnovers</th>\n",
       "      <th>target_5y</th>\n",
       "    </tr>\n",
       "  </thead>\n",
       "  <tbody>\n",
       "    <tr>\n",
       "      <th>0</th>\n",
       "      <td>36.0</td>\n",
       "      <td>27.4</td>\n",
       "      <td>7.4</td>\n",
       "      <td>2.6</td>\n",
       "      <td>7.6</td>\n",
       "      <td>NaN</td>\n",
       "      <td>0.5</td>\n",
       "      <td>2.1</td>\n",
       "      <td>25.0</td>\n",
       "      <td>1.6</td>\n",
       "      <td>2.3</td>\n",
       "      <td>69.9</td>\n",
       "      <td>0.7</td>\n",
       "      <td>3.4</td>\n",
       "      <td>4.1</td>\n",
       "      <td>1.9</td>\n",
       "      <td>0.4</td>\n",
       "      <td>0.4</td>\n",
       "      <td>1.3</td>\n",
       "      <td>0</td>\n",
       "    </tr>\n",
       "    <tr>\n",
       "      <th>1</th>\n",
       "      <td>35.0</td>\n",
       "      <td>26.9</td>\n",
       "      <td>NaN</td>\n",
       "      <td>2.0</td>\n",
       "      <td>6.7</td>\n",
       "      <td>29.6</td>\n",
       "      <td>0.7</td>\n",
       "      <td>2.8</td>\n",
       "      <td>23.5</td>\n",
       "      <td>2.6</td>\n",
       "      <td>3.4</td>\n",
       "      <td>76.5</td>\n",
       "      <td>0.5</td>\n",
       "      <td>2.0</td>\n",
       "      <td>2.4</td>\n",
       "      <td>3.7</td>\n",
       "      <td>1.1</td>\n",
       "      <td>0.5</td>\n",
       "      <td>1.6</td>\n",
       "      <td>0</td>\n",
       "    </tr>\n",
       "    <tr>\n",
       "      <th>2</th>\n",
       "      <td>NaN</td>\n",
       "      <td>15.3</td>\n",
       "      <td>5.2</td>\n",
       "      <td>2.0</td>\n",
       "      <td>4.7</td>\n",
       "      <td>42.2</td>\n",
       "      <td>0.4</td>\n",
       "      <td>1.7</td>\n",
       "      <td>24.4</td>\n",
       "      <td>0.9</td>\n",
       "      <td>1.3</td>\n",
       "      <td>67.0</td>\n",
       "      <td>0.5</td>\n",
       "      <td>1.7</td>\n",
       "      <td>2.2</td>\n",
       "      <td>1.0</td>\n",
       "      <td>0.5</td>\n",
       "      <td>0.3</td>\n",
       "      <td>1.0</td>\n",
       "      <td>0</td>\n",
       "    </tr>\n",
       "    <tr>\n",
       "      <th>3</th>\n",
       "      <td>58.0</td>\n",
       "      <td>11.6</td>\n",
       "      <td>5.7</td>\n",
       "      <td>2.3</td>\n",
       "      <td>5.5</td>\n",
       "      <td>42.6</td>\n",
       "      <td>0.1</td>\n",
       "      <td>0.5</td>\n",
       "      <td>22.6</td>\n",
       "      <td>0.9</td>\n",
       "      <td>1.3</td>\n",
       "      <td>68.9</td>\n",
       "      <td>1.0</td>\n",
       "      <td>0.9</td>\n",
       "      <td>1.9</td>\n",
       "      <td>0.8</td>\n",
       "      <td>0.6</td>\n",
       "      <td>0.1</td>\n",
       "      <td>1.0</td>\n",
       "      <td>1</td>\n",
       "    </tr>\n",
       "    <tr>\n",
       "      <th>4</th>\n",
       "      <td>48.0</td>\n",
       "      <td>11.5</td>\n",
       "      <td>4.5</td>\n",
       "      <td>1.6</td>\n",
       "      <td>3.0</td>\n",
       "      <td>52.4</td>\n",
       "      <td>0.0</td>\n",
       "      <td>0.1</td>\n",
       "      <td>0.0</td>\n",
       "      <td>1.3</td>\n",
       "      <td>1.9</td>\n",
       "      <td>67.4</td>\n",
       "      <td>1.0</td>\n",
       "      <td>1.5</td>\n",
       "      <td>2.5</td>\n",
       "      <td>0.3</td>\n",
       "      <td>0.3</td>\n",
       "      <td>0.4</td>\n",
       "      <td>0.8</td>\n",
       "      <td>1</td>\n",
       "    </tr>\n",
       "  </tbody>\n",
       "</table>\n",
       "</div>"
      ],
      "text/plain": [
       "   games played  minutes played  points per game  field goals made  \\\n",
       "0          36.0            27.4              7.4               2.6   \n",
       "1          35.0            26.9              NaN               2.0   \n",
       "2           NaN            15.3              5.2               2.0   \n",
       "3          58.0            11.6              5.7               2.3   \n",
       "4          48.0            11.5              4.5               1.6   \n",
       "\n",
       "   field goal attempts  field goal percent  3 point made  3 point attempt  \\\n",
       "0                  7.6                 NaN           0.5              2.1   \n",
       "1                  6.7                29.6           0.7              2.8   \n",
       "2                  4.7                42.2           0.4              1.7   \n",
       "3                  5.5                42.6           0.1              0.5   \n",
       "4                  3.0                52.4           0.0              0.1   \n",
       "\n",
       "   3 point %  free throw made  free throw attempts  free throw %  \\\n",
       "0       25.0              1.6                  2.3          69.9   \n",
       "1       23.5              2.6                  3.4          76.5   \n",
       "2       24.4              0.9                  1.3          67.0   \n",
       "3       22.6              0.9                  1.3          68.9   \n",
       "4        0.0              1.3                  1.9          67.4   \n",
       "\n",
       "   offensive rebounds  defensive rebounds  rebounds  assists  steals  blocks  \\\n",
       "0                 0.7                 3.4       4.1      1.9     0.4     0.4   \n",
       "1                 0.5                 2.0       2.4      3.7     1.1     0.5   \n",
       "2                 0.5                 1.7       2.2      1.0     0.5     0.3   \n",
       "3                 1.0                 0.9       1.9      0.8     0.6     0.1   \n",
       "4                 1.0                 1.5       2.5      0.3     0.3     0.4   \n",
       "\n",
       "   turnovers  target_5y  \n",
       "0        1.3          0  \n",
       "1        1.6          0  \n",
       "2        1.0          0  \n",
       "3        1.0          1  \n",
       "4        0.8          1  "
      ]
     },
     "execution_count": 1,
     "metadata": {},
     "output_type": "execute_result"
    }
   ],
   "source": [
    "import pandas as pd\n",
    "\n",
    "data = pd.read_csv(\"data.csv\")\n",
    "\n",
    "data.head()"
   ]
  },
  {
   "cell_type": "code",
   "execution_count": 2,
   "metadata": {},
   "outputs": [
    {
     "data": {
      "text/plain": [
       "(1340, 20)"
      ]
     },
     "execution_count": 2,
     "metadata": {},
     "output_type": "execute_result"
    }
   ],
   "source": [
    "data.shape"
   ]
  },
  {
   "cell_type": "code",
   "execution_count": 3,
   "metadata": {
    "scrolled": false
   },
   "outputs": [
    {
     "name": "stdout",
     "output_type": "stream",
     "text": [
      "<class 'pandas.core.frame.DataFrame'>\n",
      "RangeIndex: 1340 entries, 0 to 1339\n",
      "Data columns (total 20 columns):\n",
      " #   Column               Non-Null Count  Dtype  \n",
      "---  ------               --------------  -----  \n",
      " 0   games played         1336 non-null   float64\n",
      " 1   minutes played       1340 non-null   float64\n",
      " 2   points per game      1339 non-null   float64\n",
      " 3   field goals made     1339 non-null   float64\n",
      " 4   field goal attempts  1338 non-null   float64\n",
      " 5   field goal percent   1338 non-null   float64\n",
      " 6   3 point made         1339 non-null   float64\n",
      " 7   3 point attempt      1338 non-null   float64\n",
      " 8   3 point %            1328 non-null   float64\n",
      " 9   free throw made      1340 non-null   float64\n",
      " 10  free throw attempts  1340 non-null   float64\n",
      " 11  free throw %         1340 non-null   float64\n",
      " 12  offensive rebounds   1339 non-null   float64\n",
      " 13  defensive rebounds   1339 non-null   float64\n",
      " 14  rebounds             1339 non-null   float64\n",
      " 15  assists              1340 non-null   float64\n",
      " 16  steals               1340 non-null   float64\n",
      " 17  blocks               1339 non-null   float64\n",
      " 18  turnovers            1340 non-null   float64\n",
      " 19  target_5y            1340 non-null   int64  \n",
      "dtypes: float64(19), int64(1)\n",
      "memory usage: 209.5 KB\n"
     ]
    }
   ],
   "source": [
    "data.info()"
   ]
  },
  {
   "cell_type": "code",
   "execution_count": 4,
   "metadata": {
    "scrolled": false
   },
   "outputs": [
    {
     "data": {
      "text/plain": [
       "games played           0.002985\n",
       "minutes played         0.000000\n",
       "points per game        0.000746\n",
       "field goals made       0.000746\n",
       "field goal attempts    0.001493\n",
       "field goal percent     0.001493\n",
       "3 point made           0.000746\n",
       "3 point attempt        0.001493\n",
       "3 point %              0.008955\n",
       "free throw made        0.000000\n",
       "free throw attempts    0.000000\n",
       "free throw %           0.000000\n",
       "offensive rebounds     0.000746\n",
       "defensive rebounds     0.000746\n",
       "rebounds               0.000746\n",
       "assists                0.000000\n",
       "steals                 0.000000\n",
       "blocks                 0.000746\n",
       "turnovers              0.000000\n",
       "target_5y              0.000000\n",
       "dtype: float64"
      ]
     },
     "execution_count": 4,
     "metadata": {},
     "output_type": "execute_result"
    }
   ],
   "source": [
    "data.isnull().sum()/len(data)"
   ]
  },
  {
   "cell_type": "code",
   "execution_count": 5,
   "metadata": {},
   "outputs": [],
   "source": [
    "# ====> no feture contains more than 1 % Null "
   ]
  },
  {
   "cell_type": "code",
   "execution_count": 6,
   "metadata": {},
   "outputs": [
    {
     "data": {
      "image/png": "[encoded data removed]",
      "text/plain": [
       "<Figure size 1080x576 with 20 Axes>"
      ]
     },
     "metadata": {
      "needs_background": "light"
     },
     "output_type": "display_data"
    }
   ],
   "source": [
    "import matplotlib.pyplot as plt\n",
    "data.hist(bins=50, figsize=(15,8))\n",
    "plt.show()"
   ]
  },
  {
   "cell_type": "code",
   "execution_count": 7,
   "metadata": {},
   "outputs": [
    {
     "data": {
      "image/png": "[encoded data removed]",
      "text/plain": [
       "<Figure size 1080x576 with 1 Axes>"
      ]
     },
     "metadata": {
      "needs_background": "light"
     },
     "output_type": "display_data"
    }
   ],
   "source": [
    "data.boxplot(figsize=(15, 8))\n",
    "plt.show()"
   ]
  },
  {
   "cell_type": "code",
   "execution_count": 8,
   "metadata": {},
   "outputs": [],
   "source": [
    "X = data.drop(columns='target_5y')\n",
    "y = data['target_5y']"
   ]
  },
  {
   "cell_type": "code",
   "execution_count": 9,
   "metadata": {},
   "outputs": [
    {
     "data": {
      "text/plain": [
       "1    0.620149\n",
       "0    0.379851\n",
       "Name: target_5y, dtype: float64"
      ]
     },
     "execution_count": 9,
     "metadata": {},
     "output_type": "execute_result"
    }
   ],
   "source": [
    "y.value_counts()/len(y)  # check class balance ====> imbalance"
   ]
  },
  {
   "cell_type": "markdown",
   "metadata": {},
   "source": [
    "Each observations represents a player and each column a characteristic of performance. The target defines whether the player last less than 5 years [0] or 5 years or more [1] as a professional.\n",
    "\n",
    "The task is to build a model to assist the recruitment process of promising young players. The model should limit false alarms as much as possible to avoid recruiting players that will flop."
   ]
  },
  {
   "cell_type": "markdown",
   "metadata": {},
   "source": [
    "👇 In a pipeline:\n",
    "\n",
    "- Impute missing values using a `SimpleImputer` an find out which strategy works best\n",
    "- Scale the features\n",
    "- Model with an `svm.SVC` and tune its parameters `C` and `kernel` using a `RandomSearch`\n",
    "- Use the scoring metric appropriate for the task\n",
    "\n",
    "Once you have built your optimal pipeline, export it as a pickle file."
   ]
  },
  {
   "cell_type": "markdown",
   "metadata": {},
   "source": [
    "## Pipeline"
   ]
  },
  {
   "cell_type": "code",
   "execution_count": 10,
   "metadata": {},
   "outputs": [],
   "source": [
    "from sklearn.impute import SimpleImputer\n",
    "from sklearn.preprocessing import MinMaxScaler\n",
    "from sklearn.pipeline import Pipeline\n",
    "\n",
    "preprocessor = Pipeline([\n",
    "    ('imputer', SimpleImputer()),\n",
    "    ('scaler', MinMaxScaler())\n",
    "])"
   ]
  },
  {
   "cell_type": "code",
   "execution_count": 11,
   "metadata": {},
   "outputs": [],
   "source": [
    "from sklearn.svm import SVC\n",
    "\n",
    "final_pipe = Pipeline([\n",
    "    ('preprocessor', preprocessor),\n",
    "    ('classifier', SVC())\n",
    "])"
   ]
  },
  {
   "cell_type": "code",
   "execution_count": 12,
   "metadata": {},
   "outputs": [],
   "source": [
    "from sklearn import set_config; set_config(display='diagram')"
   ]
  },
  {
   "cell_type": "code",
   "execution_count": 13,
   "metadata": {},
   "outputs": [
    {
     "data": {
      "text/html": [
       "<style>div.sk-top-container {color: black;background-color: white;}div.sk-toggleable {background-color: white;}label.sk-toggleable__label {cursor: pointer;display: block;width: 100%;margin-bottom: 0;padding: 0.2em 0.3em;box-sizing: border-box;text-align: center;}div.sk-toggleable__content {max-height: 0;max-width: 0;overflow: hidden;text-align: left;background-color: #f0f8ff;}div.sk-toggleable__content pre {margin: 0.2em;color: black;border-radius: 0.25em;background-color: #f0f8ff;}input.sk-toggleable__control:checked~div.sk-toggleable__content {max-height: 200px;max-width: 100%;overflow: auto;}div.sk-estimator input.sk-toggleable__control:checked~label.sk-toggleable__label {background-color: #d4ebff;}div.sk-label input.sk-toggleable__control:checked~label.sk-toggleable__label {background-color: #d4ebff;}input.sk-hidden--visually {border: 0;clip: rect(1px 1px 1px 1px);clip: rect(1px, 1px, 1px, 1px);height: 1px;margin: -1px;overflow: hidden;padding: 0;position: absolute;width: 1px;}div.sk-estimator {font-family: monospace;background-color: #f0f8ff;margin: 0.25em 0.25em;border: 1px dotted black;border-radius: 0.25em;box-sizing: border-box;}div.sk-estimator:hover {background-color: #d4ebff;}div.sk-parallel-item::after {content: \"\";width: 100%;border-bottom: 1px solid gray;flex-grow: 1;}div.sk-label:hover label.sk-toggleable__label {background-color: #d4ebff;}div.sk-serial::before {content: \"\";position: absolute;border-left: 1px solid gray;box-sizing: border-box;top: 2em;bottom: 0;left: 50%;}div.sk-serial {display: flex;flex-direction: column;align-items: center;background-color: white;}div.sk-item {z-index: 1;}div.sk-parallel {display: flex;align-items: stretch;justify-content: center;background-color: white;}div.sk-parallel-item {display: flex;flex-direction: column;position: relative;background-color: white;}div.sk-parallel-item:first-child::after {align-self: flex-end;width: 50%;}div.sk-parallel-item:last-child::after {align-self: flex-start;width: 50%;}div.sk-parallel-item:only-child::after {width: 0;}div.sk-dashed-wrapped {border: 1px dashed gray;margin: 0.2em;box-sizing: border-box;padding-bottom: 0.1em;background-color: white;position: relative;}div.sk-label label {font-family: monospace;font-weight: bold;background-color: white;display: inline-block;line-height: 1.2em;}div.sk-label-container {position: relative;z-index: 2;text-align: center;}div.sk-container {display: inline-block;position: relative;}</style><div class=\"sk-top-container\"><div class=\"sk-container\"><div class=\"sk-item sk-dashed-wrapped\"><div class=\"sk-label-container\"><div class=\"sk-label sk-toggleable\"><input class=\"sk-toggleable__control sk-hidden--visually\" id=\"0b362457-96e5-41f0-808b-812b71459b78\" type=\"checkbox\" ><label class=\"sk-toggleable__label\" for=\"0b362457-96e5-41f0-808b-812b71459b78\">Pipeline</label><div class=\"sk-toggleable__content\"><pre>Pipeline(steps=[('preprocessor',\n",
       "                 Pipeline(steps=[('imputer', SimpleImputer()),\n",
       "                                 ('scaler', MinMaxScaler())])),\n",
       "                ('classifier', SVC())])</pre></div></div></div><div class=\"sk-serial\"><div class=\"sk-item\"><div class=\"sk-label-container\"><div class=\"sk-label sk-toggleable\"><input class=\"sk-toggleable__control sk-hidden--visually\" id=\"49509efe-23c8-403a-8982-891d288711a7\" type=\"checkbox\" ><label class=\"sk-toggleable__label\" for=\"49509efe-23c8-403a-8982-891d288711a7\">preprocessor: Pipeline</label><div class=\"sk-toggleable__content\"><pre>Pipeline(steps=[('imputer', SimpleImputer()), ('scaler', MinMaxScaler())])</pre></div></div></div><div class=\"sk-serial\"><div class=\"sk-item\"><div class=\"sk-estimator sk-toggleable\"><input class=\"sk-toggleable__control sk-hidden--visually\" id=\"1fce57a0-5a62-45b1-b3b4-3a0f82baedb6\" type=\"checkbox\" ><label class=\"sk-toggleable__label\" for=\"1fce57a0-5a62-45b1-b3b4-3a0f82baedb6\">SimpleImputer</label><div class=\"sk-toggleable__content\"><pre>SimpleImputer()</pre></div></div></div><div class=\"sk-item\"><div class=\"sk-estimator sk-toggleable\"><input class=\"sk-toggleable__control sk-hidden--visually\" id=\"3ebf401b-cf6f-4321-8e25-253fd676bb51\" type=\"checkbox\" ><label class=\"sk-toggleable__label\" for=\"3ebf401b-cf6f-4321-8e25-253fd676bb51\">MinMaxScaler</label><div class=\"sk-toggleable__content\"><pre>MinMaxScaler()</pre></div></div></div></div></div><div class=\"sk-item\"><div class=\"sk-estimator sk-toggleable\"><input class=\"sk-toggleable__control sk-hidden--visually\" id=\"9a73e4ad-7b54-4b5f-b3eb-7104204a7343\" type=\"checkbox\" ><label class=\"sk-toggleable__label\" for=\"9a73e4ad-7b54-4b5f-b3eb-7104204a7343\">SVC</label><div class=\"sk-toggleable__content\"><pre>SVC()</pre></div></div></div></div></div></div></div>"
      ],
      "text/plain": [
       "Pipeline(steps=[('preprocessor',\n",
       "                 Pipeline(steps=[('imputer', SimpleImputer()),\n",
       "                                 ('scaler', MinMaxScaler())])),\n",
       "                ('classifier', SVC())])"
      ]
     },
     "execution_count": 13,
     "metadata": {},
     "output_type": "execute_result"
    }
   ],
   "source": [
    "final_pipe"
   ]
  },
  {
   "cell_type": "markdown",
   "metadata": {},
   "source": [
    "## Random Search"
   ]
  },
  {
   "cell_type": "code",
   "execution_count": 14,
   "metadata": {
    "scrolled": false
   },
   "outputs": [
    {
     "data": {
      "text/plain": [
       "{'memory': None,\n",
       " 'steps': [('preprocessor',\n",
       "   Pipeline(steps=[('imputer', SimpleImputer()), ('scaler', MinMaxScaler())])),\n",
       "  ('classifier', SVC())],\n",
       " 'verbose': False,\n",
       " 'preprocessor': Pipeline(steps=[('imputer', SimpleImputer()), ('scaler', MinMaxScaler())]),\n",
       " 'classifier': SVC(),\n",
       " 'preprocessor__memory': None,\n",
       " 'preprocessor__steps': [('imputer', SimpleImputer()),\n",
       "  ('scaler', MinMaxScaler())],\n",
       " 'preprocessor__verbose': False,\n",
       " 'preprocessor__imputer': SimpleImputer(),\n",
       " 'preprocessor__scaler': MinMaxScaler(),\n",
       " 'preprocessor__imputer__add_indicator': False,\n",
       " 'preprocessor__imputer__copy': True,\n",
       " 'preprocessor__imputer__fill_value': None,\n",
       " 'preprocessor__imputer__missing_values': nan,\n",
       " 'preprocessor__imputer__strategy': 'mean',\n",
       " 'preprocessor__imputer__verbose': 0,\n",
       " 'preprocessor__scaler__clip': False,\n",
       " 'preprocessor__scaler__copy': True,\n",
       " 'preprocessor__scaler__feature_range': (0, 1),\n",
       " 'classifier__C': 1.0,\n",
       " 'classifier__break_ties': False,\n",
       " 'classifier__cache_size': 200,\n",
       " 'classifier__class_weight': None,\n",
       " 'classifier__coef0': 0.0,\n",
       " 'classifier__decision_function_shape': 'ovr',\n",
       " 'classifier__degree': 3,\n",
       " 'classifier__gamma': 'scale',\n",
       " 'classifier__kernel': 'rbf',\n",
       " 'classifier__max_iter': -1,\n",
       " 'classifier__probability': False,\n",
       " 'classifier__random_state': None,\n",
       " 'classifier__shrinking': True,\n",
       " 'classifier__tol': 0.001,\n",
       " 'classifier__verbose': False}"
      ]
     },
     "execution_count": 14,
     "metadata": {},
     "output_type": "execute_result"
    }
   ],
   "source": [
    "final_pipe.get_params()"
   ]
  },
  {
   "cell_type": "code",
   "execution_count": 15,
   "metadata": {},
   "outputs": [],
   "source": [
    "from sklearn.model_selection import cross_val_score, train_test_split\n",
    "X_train, X_test, y_train, y_test = train_test_split(X, y, test_size=0.3)"
   ]
  },
  {
   "cell_type": "code",
   "execution_count": 16,
   "metadata": {},
   "outputs": [],
   "source": [
    "from sklearn.model_selection import RandomizedSearchCV\n",
    "from scipy import stats\n",
    "\n",
    "# Hyperparameter Grid\n",
    "grid = {'preprocessor__imputer__strategy': ['mean', 'median','most_frequent'],\n",
    "        'classifier__C': stats.uniform(1, 10), \n",
    "        'classifier__kernel': ['rbf', 'poly', 'sigmoid'],\n",
    "        'classifier__degree': [2, 3, 4, 6]\n",
    "       }\n",
    "\n",
    "# Instanciate Grid Search\n",
    "search = RandomizedSearchCV(final_pipe, \n",
    "                            grid, \n",
    "                            scoring='precision',\n",
    "                            n_iter=100,  # number of draws\n",
    "                            cv=5, n_jobs=-1)"
   ]
  },
  {
   "cell_type": "code",
   "execution_count": 17,
   "metadata": {},
   "outputs": [
    {
     "data": {
      "text/plain": [
       "{'classifier__C': 1.683461903614101,\n",
       " 'classifier__degree': 2,\n",
       " 'classifier__kernel': 'poly',\n",
       " 'preprocessor__imputer__strategy': 'median'}"
      ]
     },
     "execution_count": 17,
     "metadata": {},
     "output_type": "execute_result"
    }
   ],
   "source": [
    "search.fit(X_train, y_train)\n",
    "search.best_params_"
   ]
  },
  {
   "cell_type": "code",
   "execution_count": 18,
   "metadata": {},
   "outputs": [
    {
     "data": {
      "text/html": [
       "<style>div.sk-top-container {color: black;background-color: white;}div.sk-toggleable {background-color: white;}label.sk-toggleable__label {cursor: pointer;display: block;width: 100%;margin-bottom: 0;padding: 0.2em 0.3em;box-sizing: border-box;text-align: center;}div.sk-toggleable__content {max-height: 0;max-width: 0;overflow: hidden;text-align: left;background-color: #f0f8ff;}div.sk-toggleable__content pre {margin: 0.2em;color: black;border-radius: 0.25em;background-color: #f0f8ff;}input.sk-toggleable__control:checked~div.sk-toggleable__content {max-height: 200px;max-width: 100%;overflow: auto;}div.sk-estimator input.sk-toggleable__control:checked~label.sk-toggleable__label {background-color: #d4ebff;}div.sk-label input.sk-toggleable__control:checked~label.sk-toggleable__label {background-color: #d4ebff;}input.sk-hidden--visually {border: 0;clip: rect(1px 1px 1px 1px);clip: rect(1px, 1px, 1px, 1px);height: 1px;margin: -1px;overflow: hidden;padding: 0;position: absolute;width: 1px;}div.sk-estimator {font-family: monospace;background-color: #f0f8ff;margin: 0.25em 0.25em;border: 1px dotted black;border-radius: 0.25em;box-sizing: border-box;}div.sk-estimator:hover {background-color: #d4ebff;}div.sk-parallel-item::after {content: \"\";width: 100%;border-bottom: 1px solid gray;flex-grow: 1;}div.sk-label:hover label.sk-toggleable__label {background-color: #d4ebff;}div.sk-serial::before {content: \"\";position: absolute;border-left: 1px solid gray;box-sizing: border-box;top: 2em;bottom: 0;left: 50%;}div.sk-serial {display: flex;flex-direction: column;align-items: center;background-color: white;}div.sk-item {z-index: 1;}div.sk-parallel {display: flex;align-items: stretch;justify-content: center;background-color: white;}div.sk-parallel-item {display: flex;flex-direction: column;position: relative;background-color: white;}div.sk-parallel-item:first-child::after {align-self: flex-end;width: 50%;}div.sk-parallel-item:last-child::after {align-self: flex-start;width: 50%;}div.sk-parallel-item:only-child::after {width: 0;}div.sk-dashed-wrapped {border: 1px dashed gray;margin: 0.2em;box-sizing: border-box;padding-bottom: 0.1em;background-color: white;position: relative;}div.sk-label label {font-family: monospace;font-weight: bold;background-color: white;display: inline-block;line-height: 1.2em;}div.sk-label-container {position: relative;z-index: 2;text-align: center;}div.sk-container {display: inline-block;position: relative;}</style><div class=\"sk-top-container\"><div class=\"sk-container\"><div class=\"sk-item sk-dashed-wrapped\"><div class=\"sk-label-container\"><div class=\"sk-label sk-toggleable\"><input class=\"sk-toggleable__control sk-hidden--visually\" id=\"7110f73d-c09b-41d0-a20a-483af079b0d3\" type=\"checkbox\" ><label class=\"sk-toggleable__label\" for=\"7110f73d-c09b-41d0-a20a-483af079b0d3\">Pipeline</label><div class=\"sk-toggleable__content\"><pre>Pipeline(steps=[('preprocessor',\n",
       "                 Pipeline(steps=[('imputer', SimpleImputer(strategy='median')),\n",
       "                                 ('scaler', MinMaxScaler())])),\n",
       "                ('classifier',\n",
       "                 SVC(C=1.683461903614101, degree=2, kernel='poly'))])</pre></div></div></div><div class=\"sk-serial\"><div class=\"sk-item\"><div class=\"sk-label-container\"><div class=\"sk-label sk-toggleable\"><input class=\"sk-toggleable__control sk-hidden--visually\" id=\"f4b5c3ef-5f08-4179-95ed-0d40f96e8100\" type=\"checkbox\" ><label class=\"sk-toggleable__label\" for=\"f4b5c3ef-5f08-4179-95ed-0d40f96e8100\">preprocessor: Pipeline</label><div class=\"sk-toggleable__content\"><pre>Pipeline(steps=[('imputer', SimpleImputer(strategy='median')),\n",
       "                ('scaler', MinMaxScaler())])</pre></div></div></div><div class=\"sk-serial\"><div class=\"sk-item\"><div class=\"sk-estimator sk-toggleable\"><input class=\"sk-toggleable__control sk-hidden--visually\" id=\"71a6fd04-57eb-4cb5-b6b4-286f536a7485\" type=\"checkbox\" ><label class=\"sk-toggleable__label\" for=\"71a6fd04-57eb-4cb5-b6b4-286f536a7485\">SimpleImputer</label><div class=\"sk-toggleable__content\"><pre>SimpleImputer(strategy='median')</pre></div></div></div><div class=\"sk-item\"><div class=\"sk-estimator sk-toggleable\"><input class=\"sk-toggleable__control sk-hidden--visually\" id=\"f2ac4dd8-f36d-43a6-b27a-f9a99b8e43e8\" type=\"checkbox\" ><label class=\"sk-toggleable__label\" for=\"f2ac4dd8-f36d-43a6-b27a-f9a99b8e43e8\">MinMaxScaler</label><div class=\"sk-toggleable__content\"><pre>MinMaxScaler()</pre></div></div></div></div></div><div class=\"sk-item\"><div class=\"sk-estimator sk-toggleable\"><input class=\"sk-toggleable__control sk-hidden--visually\" id=\"34816b34-72a7-4c27-baff-31c926ec7a65\" type=\"checkbox\" ><label class=\"sk-toggleable__label\" for=\"34816b34-72a7-4c27-baff-31c926ec7a65\">SVC</label><div class=\"sk-toggleable__content\"><pre>SVC(C=1.683461903614101, degree=2, kernel='poly')</pre></div></div></div></div></div></div></div>"
      ],
      "text/plain": [
       "Pipeline(steps=[('preprocessor',\n",
       "                 Pipeline(steps=[('imputer', SimpleImputer(strategy='median')),\n",
       "                                 ('scaler', MinMaxScaler())])),\n",
       "                ('classifier',\n",
       "                 SVC(C=1.683461903614101, degree=2, kernel='poly'))])"
      ]
     },
     "execution_count": 18,
     "metadata": {},
     "output_type": "execute_result"
    }
   ],
   "source": [
    "optimal_pipeline = search.best_estimator_\n",
    "optimal_pipeline"
   ]
  },
  {
   "cell_type": "code",
   "execution_count": 19,
   "metadata": {},
   "outputs": [
    {
     "data": {
      "text/plain": [
       "0.7338308457711443"
      ]
     },
     "execution_count": 19,
     "metadata": {},
     "output_type": "execute_result"
    }
   ],
   "source": [
    "optimal_pipeline.score(X_test, y_test)"
   ]
  },
  {
   "cell_type": "code",
   "execution_count": 20,
   "metadata": {},
   "outputs": [
    {
     "data": {
      "text/plain": [
       "0.7473263755521821"
      ]
     },
     "execution_count": 20,
     "metadata": {},
     "output_type": "execute_result"
    }
   ],
   "source": [
    "cross_val_score(optimal_pipeline, X_train, y_train, cv=5, scoring='precision').mean()"
   ]
  },
  {
   "cell_type": "code",
   "execution_count": 21,
   "metadata": {},
   "outputs": [
    {
     "data": {
      "text/plain": [
       "0.750208904118316"
      ]
     },
     "execution_count": 21,
     "metadata": {},
     "output_type": "execute_result"
    }
   ],
   "source": [
    "cross_val_score(optimal_pipeline, X_train, y_train, cv=5, scoring='f1').mean()"
   ]
  },
  {
   "cell_type": "markdown",
   "metadata": {},
   "source": [
    "## Export"
   ]
  },
  {
   "cell_type": "code",
   "execution_count": 22,
   "metadata": {},
   "outputs": [],
   "source": [
    "import pickle\n",
    "\n",
    "# Export pipeline as pickle file\n",
    "with open(\"optimal_pipeline.pkl\", \"wb\") as file:\n",
    "    pickle.dump(optimal_pipeline, file)"
   ]
  },
  {
   "cell_type": "code",
   "execution_count": 23,
   "metadata": {},
   "outputs": [
    {
     "data": {
      "text/plain": [
       "0.7338308457711443"
      ]
     },
     "execution_count": 23,
     "metadata": {},
     "output_type": "execute_result"
    }
   ],
   "source": [
    "reloaded_opt_pipe = pickle.load(open('optimal_pipeline.pkl', 'rb'))\n",
    "reloaded_opt_pipe.score(X_test, y_test)"
   ]
  }
 ],
 "metadata": {
  "kernelspec": {
   "display_name": "Python 3",
   "language": "python",
   "name": "python3"
  },
  "language_info": {
   "codemirror_mode": {
    "name": "ipython",
    "version": 3
   },
   "file_extension": ".py",
   "mimetype": "text/x-python",
   "name": "python",
   "nbconvert_exporter": "python",
   "pygments_lexer": "ipython3",
   "version": "3.8.6"
  },
  "toc": {
   "base_numbering": 1,
   "nav_menu": {},
   "number_sections": false,
   "sideBar": true,
   "skip_h1_title": false,
   "title_cell": "Table of Contents",
   "title_sidebar": "Contents",
   "toc_cell": false,
   "toc_position": {},
   "toc_section_display": true,
   "toc_window_display": false
  },
  "varInspector": {
   "cols": {
    "lenName": 16,
    "lenType": 16,
    "lenVar": 40
   },
   "kernels_config": {
    "python": {
     "delete_cmd_postfix": "",
     "delete_cmd_prefix": "del ",
     "library": "var_list.py",
     "varRefreshCmd": "print(var_dic_list())"
    },
    "r": {
     "delete_cmd_postfix": ") ",
     "delete_cmd_prefix": "rm(",
     "library": "var_list.r",
     "varRefreshCmd": "cat(var_dic_list()) "
    }
   },
   "types_to_exclude": [
    "module",
    "function",
    "builtin_function_or_method",
    "instance",
    "_Feature"
   ],
   "window_display": false
  }
 },
 "nbformat": 4,
 "nbformat_minor": 4
}
