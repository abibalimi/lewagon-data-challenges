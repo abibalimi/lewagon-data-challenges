{
 "cells": [
  {
   "cell_type": "code",
   "execution_count": 1,
   "metadata": {},
   "outputs": [],
   "source": [
    "%load_ext autoreload\n",
    "%autoreload 2\n",
    "import pandas as pd\n",
    "import numpy as np\n",
    "import matplotlib.pyplot as plt\n",
    "import seaborn as sns\n",
    "from sklearn import set_config; set_config(display='diagram')"
   ]
  },
  {
   "cell_type": "markdown",
   "metadata": {},
   "source": [
    "# Houses Kaggle Competition (bis 🔥) "
   ]
  },
  {
   "cell_type": "markdown",
   "metadata": {},
   "source": [
    "[<img src='https://github.com/lewagon/data-images/blob/master/ML/kaggle-batch-challenge.png?raw=true' width=600>](https://www.kaggle.com/c/house-prices-advanced-regression-techniques/data)\n",
    "\n",
    "Let's re-use our previous pipeline build in module `05-07-Ensemble-Methods` and improve final predictions using a Neural Network!"
   ]
  },
  {
   "cell_type": "markdown",
   "metadata": {},
   "source": [
    "# Re-use already-built preprocessing"
   ]
  },
  {
   "cell_type": "markdown",
   "metadata": {},
   "source": [
    "### Load data"
   ]
  },
  {
   "cell_type": "code",
   "execution_count": 2,
   "metadata": {},
   "outputs": [
    {
     "name": "stdout",
     "output_type": "stream",
     "text": [
      "(1460, 80) (1460,) (1459, 80)\n"
     ]
    }
   ],
   "source": [
    "# Let's load our training dataset\n",
    "data = pd.read_csv(\"https://wagon-public-datasets.s3.amazonaws.com/houses_train_raw.csv\")\n",
    "X = data.drop(columns='SalePrice')\n",
    "y = data['SalePrice']\n",
    "\n",
    "# You don't have access to y_yest! Only Kaggle has it.\n",
    "X_test = pd.read_csv(\"https://wagon-public-datasets.s3.amazonaws.com/houses_test_raw.csv\")\n",
    "\n",
    "print(X.shape, y.shape, X_test.shape)"
   ]
  },
  {
   "cell_type": "code",
   "execution_count": 33,
   "metadata": {},
   "outputs": [
    {
     "data": {
      "text/plain": [
       "0       208500\n",
       "1       181500\n",
       "2       223500\n",
       "3       140000\n",
       "4       250000\n",
       "         ...  \n",
       "1455    175000\n",
       "1456    210000\n",
       "1457    266500\n",
       "1458    142125\n",
       "1459    147500\n",
       "Name: SalePrice, Length: 1460, dtype: int64"
      ]
     },
     "execution_count": 33,
     "metadata": {},
     "output_type": "execute_result"
    }
   ],
   "source": [
    "y"
   ]
  },
  {
   "cell_type": "markdown",
   "metadata": {},
   "source": [
    "### Import preprocessor"
   ]
  },
  {
   "cell_type": "markdown",
   "metadata": {},
   "source": [
    "You will find in `utils/preprocessor.py` the data-preprocessing pipeline that was built in our previous iteration.\n",
    "\n",
    "❓ Run the cell below, and make sure you understand what the pipeline does. Look at the code in `preprocessor.py`"
   ]
  },
  {
   "cell_type": "code",
   "execution_count": 3,
   "metadata": {},
   "outputs": [
    {
     "data": {
      "text/html": [
       "<style>#sk-8b3a9ef1-d6e6-4997-81a2-648cb213f93b {color: black;background-color: white;}#sk-8b3a9ef1-d6e6-4997-81a2-648cb213f93b pre{padding: 0;}#sk-8b3a9ef1-d6e6-4997-81a2-648cb213f93b div.sk-toggleable {background-color: white;}#sk-8b3a9ef1-d6e6-4997-81a2-648cb213f93b label.sk-toggleable__label {cursor: pointer;display: block;width: 100%;margin-bottom: 0;padding: 0.2em 0.3em;box-sizing: border-box;text-align: center;}#sk-8b3a9ef1-d6e6-4997-81a2-648cb213f93b div.sk-toggleable__content {max-height: 0;max-width: 0;overflow: hidden;text-align: left;background-color: #f0f8ff;}#sk-8b3a9ef1-d6e6-4997-81a2-648cb213f93b div.sk-toggleable__content pre {margin: 0.2em;color: black;border-radius: 0.25em;background-color: #f0f8ff;}#sk-8b3a9ef1-d6e6-4997-81a2-648cb213f93b input.sk-toggleable__control:checked~div.sk-toggleable__content {max-height: 200px;max-width: 100%;overflow: auto;}#sk-8b3a9ef1-d6e6-4997-81a2-648cb213f93b div.sk-estimator input.sk-toggleable__control:checked~label.sk-toggleable__label {background-color: #d4ebff;}#sk-8b3a9ef1-d6e6-4997-81a2-648cb213f93b div.sk-label input.sk-toggleable__control:checked~label.sk-toggleable__label {background-color: #d4ebff;}#sk-8b3a9ef1-d6e6-4997-81a2-648cb213f93b input.sk-hidden--visually {border: 0;clip: rect(1px 1px 1px 1px);clip: rect(1px, 1px, 1px, 1px);height: 1px;margin: -1px;overflow: hidden;padding: 0;position: absolute;width: 1px;}#sk-8b3a9ef1-d6e6-4997-81a2-648cb213f93b div.sk-estimator {font-family: monospace;background-color: #f0f8ff;margin: 0.25em 0.25em;border: 1px dotted black;border-radius: 0.25em;box-sizing: border-box;}#sk-8b3a9ef1-d6e6-4997-81a2-648cb213f93b div.sk-estimator:hover {background-color: #d4ebff;}#sk-8b3a9ef1-d6e6-4997-81a2-648cb213f93b div.sk-parallel-item::after {content: \"\";width: 100%;border-bottom: 1px solid gray;flex-grow: 1;}#sk-8b3a9ef1-d6e6-4997-81a2-648cb213f93b div.sk-label:hover label.sk-toggleable__label {background-color: #d4ebff;}#sk-8b3a9ef1-d6e6-4997-81a2-648cb213f93b div.sk-serial::before {content: \"\";position: absolute;border-left: 1px solid gray;box-sizing: border-box;top: 2em;bottom: 0;left: 50%;}#sk-8b3a9ef1-d6e6-4997-81a2-648cb213f93b div.sk-serial {display: flex;flex-direction: column;align-items: center;background-color: white;}#sk-8b3a9ef1-d6e6-4997-81a2-648cb213f93b div.sk-item {z-index: 1;}#sk-8b3a9ef1-d6e6-4997-81a2-648cb213f93b div.sk-parallel {display: flex;align-items: stretch;justify-content: center;background-color: white;}#sk-8b3a9ef1-d6e6-4997-81a2-648cb213f93b div.sk-parallel-item {display: flex;flex-direction: column;position: relative;background-color: white;}#sk-8b3a9ef1-d6e6-4997-81a2-648cb213f93b div.sk-parallel-item:first-child::after {align-self: flex-end;width: 50%;}#sk-8b3a9ef1-d6e6-4997-81a2-648cb213f93b div.sk-parallel-item:last-child::after {align-self: flex-start;width: 50%;}#sk-8b3a9ef1-d6e6-4997-81a2-648cb213f93b div.sk-parallel-item:only-child::after {width: 0;}#sk-8b3a9ef1-d6e6-4997-81a2-648cb213f93b div.sk-dashed-wrapped {border: 1px dashed gray;margin: 0.2em;box-sizing: border-box;padding-bottom: 0.1em;background-color: white;position: relative;}#sk-8b3a9ef1-d6e6-4997-81a2-648cb213f93b div.sk-label label {font-family: monospace;font-weight: bold;background-color: white;display: inline-block;line-height: 1.2em;}#sk-8b3a9ef1-d6e6-4997-81a2-648cb213f93b div.sk-label-container {position: relative;z-index: 2;text-align: center;}#sk-8b3a9ef1-d6e6-4997-81a2-648cb213f93b div.sk-container {display: inline-block;position: relative;}</style><div id=\"sk-8b3a9ef1-d6e6-4997-81a2-648cb213f93b\" class\"sk-top-container\"><div class=\"sk-container\"><div class=\"sk-item sk-dashed-wrapped\"><div class=\"sk-label-container\"><div class=\"sk-label sk-toggleable\"><input class=\"sk-toggleable__control sk-hidden--visually\" id=\"84f3d224-f335-406f-a7c6-4a89e143fede\" type=\"checkbox\" ><label class=\"sk-toggleable__label\" for=\"84f3d224-f335-406f-a7c6-4a89e143fede\">Pipeline</label><div class=\"sk-toggleable__content\"><pre>Pipeline(steps=[('columntransformer',\n",
       "                 ColumnTransformer(transformers=[('numerical_encoder',\n",
       "                                                  Pipeline(steps=[('knnimputer',\n",
       "                                                                   KNNImputer()),\n",
       "                                                                  ('minmaxscaler',\n",
       "                                                                   MinMaxScaler())]),\n",
       "                                                  ['1stFlrSF', '2ndFlrSF',\n",
       "                                                   '3SsnPorch', 'BedroomAbvGr',\n",
       "                                                   'BsmtFinSF1', 'BsmtFinSF2',\n",
       "                                                   'BsmtFullBath',\n",
       "                                                   'BsmtHalfBath', 'BsmtUnfSF',\n",
       "                                                   'EnclosedPorch',\n",
       "                                                   'Fireplaces', 'FullBath',\n",
       "                                                   'GarageArea', 'GarageCars...\n",
       "                                                   'CentralAir', 'Condition1',\n",
       "                                                   'Condition2', 'Exterior1st',\n",
       "                                                   'Exterior2nd', 'Foundation',\n",
       "                                                   'GarageType', 'Heating',\n",
       "                                                   'HouseStyle', 'LotConfig',\n",
       "                                                   'MSZoning', 'MasVnrType',\n",
       "                                                   'MiscFeature',\n",
       "                                                   'Neighborhood', 'RoofMatl',\n",
       "                                                   'RoofStyle', 'SaleCondition',\n",
       "                                                   'SaleType', 'Street',\n",
       "                                                   'Utilities'])])),\n",
       "                ('selectpercentile',\n",
       "                 SelectPercentile(percentile=75,\n",
       "                                  score_func=<function mutual_info_regression at 0x12e9d5430>))])</pre></div></div></div><div class=\"sk-serial\"><div class=\"sk-item sk-dashed-wrapped\"><div class=\"sk-label-container\"><div class=\"sk-label sk-toggleable\"><input class=\"sk-toggleable__control sk-hidden--visually\" id=\"3670db26-c441-41ed-8d3c-3fdc7ed4a74e\" type=\"checkbox\" ><label class=\"sk-toggleable__label\" for=\"3670db26-c441-41ed-8d3c-3fdc7ed4a74e\">columntransformer: ColumnTransformer</label><div class=\"sk-toggleable__content\"><pre>ColumnTransformer(transformers=[('numerical_encoder',\n",
       "                                 Pipeline(steps=[('knnimputer', KNNImputer()),\n",
       "                                                 ('minmaxscaler',\n",
       "                                                  MinMaxScaler())]),\n",
       "                                 ['1stFlrSF', '2ndFlrSF', '3SsnPorch',\n",
       "                                  'BedroomAbvGr', 'BsmtFinSF1', 'BsmtFinSF2',\n",
       "                                  'BsmtFullBath', 'BsmtHalfBath', 'BsmtUnfSF',\n",
       "                                  'EnclosedPorch', 'Fireplaces', 'FullBath',\n",
       "                                  'GarageArea', 'GarageCars', 'GarageYrBlt',\n",
       "                                  'GrLivArea', 'HalfBath...\n",
       "                                                  SimpleImputer(strategy='most_frequent')),\n",
       "                                                 ('onehotencoder',\n",
       "                                                  OneHotEncoder(handle_unknown='ignore'))]),\n",
       "                                 ['Alley', 'BldgType', 'CentralAir',\n",
       "                                  'Condition1', 'Condition2', 'Exterior1st',\n",
       "                                  'Exterior2nd', 'Foundation', 'GarageType',\n",
       "                                  'Heating', 'HouseStyle', 'LotConfig',\n",
       "                                  'MSZoning', 'MasVnrType', 'MiscFeature',\n",
       "                                  'Neighborhood', 'RoofMatl', 'RoofStyle',\n",
       "                                  'SaleCondition', 'SaleType', 'Street',\n",
       "                                  'Utilities'])])</pre></div></div></div><div class=\"sk-parallel\"><div class=\"sk-parallel-item\"><div class=\"sk-item\"><div class=\"sk-label-container\"><div class=\"sk-label sk-toggleable\"><input class=\"sk-toggleable__control sk-hidden--visually\" id=\"b3c8d43e-ced6-4c06-b604-0b7b00cf63ec\" type=\"checkbox\" ><label class=\"sk-toggleable__label\" for=\"b3c8d43e-ced6-4c06-b604-0b7b00cf63ec\">numerical_encoder</label><div class=\"sk-toggleable__content\"><pre>['1stFlrSF', '2ndFlrSF', '3SsnPorch', 'BedroomAbvGr', 'BsmtFinSF1', 'BsmtFinSF2', 'BsmtFullBath', 'BsmtHalfBath', 'BsmtUnfSF', 'EnclosedPorch', 'Fireplaces', 'FullBath', 'GarageArea', 'GarageCars', 'GarageYrBlt', 'GrLivArea', 'HalfBath', 'Id', 'KitchenAbvGr', 'LotArea', 'LotFrontage', 'LowQualFinSF', 'MSSubClass', 'MasVnrArea', 'MiscVal', 'MoSold', 'OpenPorchSF', 'OverallCond', 'OverallQual', 'PoolArea', 'ScreenPorch', 'TotRmsAbvGrd', 'TotalBsmtSF', 'WoodDeckSF', 'YearBuilt', 'YearRemodAdd', 'YrSold']</pre></div></div></div><div class=\"sk-serial\"><div class=\"sk-item\"><div class=\"sk-serial\"><div class=\"sk-item\"><div class=\"sk-estimator sk-toggleable\"><input class=\"sk-toggleable__control sk-hidden--visually\" id=\"49bc1379-f1cd-4078-9923-70d0d5bdb048\" type=\"checkbox\" ><label class=\"sk-toggleable__label\" for=\"49bc1379-f1cd-4078-9923-70d0d5bdb048\">KNNImputer</label><div class=\"sk-toggleable__content\"><pre>KNNImputer()</pre></div></div></div><div class=\"sk-item\"><div class=\"sk-estimator sk-toggleable\"><input class=\"sk-toggleable__control sk-hidden--visually\" id=\"052eeabb-25bf-4348-aad2-2ce086ddfe35\" type=\"checkbox\" ><label class=\"sk-toggleable__label\" for=\"052eeabb-25bf-4348-aad2-2ce086ddfe35\">MinMaxScaler</label><div class=\"sk-toggleable__content\"><pre>MinMaxScaler()</pre></div></div></div></div></div></div></div></div><div class=\"sk-parallel-item\"><div class=\"sk-item\"><div class=\"sk-label-container\"><div class=\"sk-label sk-toggleable\"><input class=\"sk-toggleable__control sk-hidden--visually\" id=\"0fe7b268-532d-4cb9-9ca5-4d187336654e\" type=\"checkbox\" ><label class=\"sk-toggleable__label\" for=\"0fe7b268-532d-4cb9-9ca5-4d187336654e\">ordinal_encoder</label><div class=\"sk-toggleable__content\"><pre>['BsmtCond', 'BsmtExposure', 'BsmtFinType1', 'BsmtFinType2', 'BsmtQual', 'Electrical', 'ExterCond', 'ExterQual', 'Fence', 'FireplaceQu', 'Functional', 'GarageCond', 'GarageFinish', 'GarageQual', 'HeatingQC', 'KitchenQual', 'LandContour', 'LandSlope', 'LotShape', 'PavedDrive', 'PoolQC']</pre></div></div></div><div class=\"sk-serial\"><div class=\"sk-item\"><div class=\"sk-serial\"><div class=\"sk-item\"><div class=\"sk-estimator sk-toggleable\"><input class=\"sk-toggleable__control sk-hidden--visually\" id=\"650cde18-ae49-47f2-a319-77d9452cdbe2\" type=\"checkbox\" ><label class=\"sk-toggleable__label\" for=\"650cde18-ae49-47f2-a319-77d9452cdbe2\">SimpleImputer</label><div class=\"sk-toggleable__content\"><pre>SimpleImputer(fill_value='missing', strategy='constant')</pre></div></div></div><div class=\"sk-item\"><div class=\"sk-estimator sk-toggleable\"><input class=\"sk-toggleable__control sk-hidden--visually\" id=\"48fa0cd2-32fd-489b-9546-1da8bcf209d4\" type=\"checkbox\" ><label class=\"sk-toggleable__label\" for=\"48fa0cd2-32fd-489b-9546-1da8bcf209d4\">OrdinalEncoder</label><div class=\"sk-toggleable__content\"><pre>OrdinalEncoder(categories=[['missing', 'Po', 'Fa', 'TA', 'Gd'],\n",
       "                           ['missing', 'No', 'Mn', 'Av', 'Gd'],\n",
       "                           ['missing', 'Unf', 'LwQ', 'Rec', 'BLQ', 'ALQ',\n",
       "                            'GLQ'],\n",
       "                           ['missing', 'Unf', 'LwQ', 'Rec', 'BLQ', 'ALQ',\n",
       "                            'GLQ'],\n",
       "                           ['missing', 'Fa', 'TA', 'Gd', 'Ex'],\n",
       "                           ['missing', 'Mix', 'FuseP', 'FuseF', 'FuseA',\n",
       "                            'SBrkr'],\n",
       "                           ['missing', 'Po', 'Fa', 'TA', 'Gd', 'Ex'],\n",
       "                           ['missing', 'Fa', 'TA', 'Gd', 'Ex'],\n",
       "                           ['missing', '...\n",
       "                           ['missing', 'Po', 'Fa', 'TA', 'Gd', 'Ex'],\n",
       "                           ['missing', 'Unf', 'RFn', 'Fin'],\n",
       "                           ['missing', 'Po', 'Fa', 'TA', 'Gd', 'Ex'],\n",
       "                           ['missing', 'Po', 'Fa', 'TA', 'Gd', 'Ex'],\n",
       "                           ['missing', 'Fa', 'TA', 'Gd', 'Ex'],\n",
       "                           ['missing', 'Low', 'Bnk', 'HLS', 'Lvl'],\n",
       "                           ['missing', 'Sev', 'Mod', 'Gtl'],\n",
       "                           ['missing', 'IR3', 'IR2', 'IR1', 'Reg'],\n",
       "                           ['missing', 'N', 'P', 'Y'],\n",
       "                           ['missing', 'Fa', 'Gd', 'Ex']],\n",
       "               handle_unknown='use_encoded_value', unknown_value=-1)</pre></div></div></div><div class=\"sk-item\"><div class=\"sk-estimator sk-toggleable\"><input class=\"sk-toggleable__control sk-hidden--visually\" id=\"fb01ef0d-9a5f-4299-ac96-fa46ada10be7\" type=\"checkbox\" ><label class=\"sk-toggleable__label\" for=\"fb01ef0d-9a5f-4299-ac96-fa46ada10be7\">MinMaxScaler</label><div class=\"sk-toggleable__content\"><pre>MinMaxScaler()</pre></div></div></div></div></div></div></div></div><div class=\"sk-parallel-item\"><div class=\"sk-item\"><div class=\"sk-label-container\"><div class=\"sk-label sk-toggleable\"><input class=\"sk-toggleable__control sk-hidden--visually\" id=\"0cc968e4-ffb5-4806-98f9-6da8ca4f0e84\" type=\"checkbox\" ><label class=\"sk-toggleable__label\" for=\"0cc968e4-ffb5-4806-98f9-6da8ca4f0e84\">nominal_encoder</label><div class=\"sk-toggleable__content\"><pre>['Alley', 'BldgType', 'CentralAir', 'Condition1', 'Condition2', 'Exterior1st', 'Exterior2nd', 'Foundation', 'GarageType', 'Heating', 'HouseStyle', 'LotConfig', 'MSZoning', 'MasVnrType', 'MiscFeature', 'Neighborhood', 'RoofMatl', 'RoofStyle', 'SaleCondition', 'SaleType', 'Street', 'Utilities']</pre></div></div></div><div class=\"sk-serial\"><div class=\"sk-item\"><div class=\"sk-serial\"><div class=\"sk-item\"><div class=\"sk-estimator sk-toggleable\"><input class=\"sk-toggleable__control sk-hidden--visually\" id=\"f6847499-8034-4285-82e0-0a1e7b5b61e9\" type=\"checkbox\" ><label class=\"sk-toggleable__label\" for=\"f6847499-8034-4285-82e0-0a1e7b5b61e9\">SimpleImputer</label><div class=\"sk-toggleable__content\"><pre>SimpleImputer(strategy='most_frequent')</pre></div></div></div><div class=\"sk-item\"><div class=\"sk-estimator sk-toggleable\"><input class=\"sk-toggleable__control sk-hidden--visually\" id=\"fbc8f1c9-75d3-43a2-8ed2-3d6bab63e66d\" type=\"checkbox\" ><label class=\"sk-toggleable__label\" for=\"fbc8f1c9-75d3-43a2-8ed2-3d6bab63e66d\">OneHotEncoder</label><div class=\"sk-toggleable__content\"><pre>OneHotEncoder(handle_unknown='ignore')</pre></div></div></div></div></div></div></div></div></div></div><div class=\"sk-item\"><div class=\"sk-estimator sk-toggleable\"><input class=\"sk-toggleable__control sk-hidden--visually\" id=\"974378a9-5498-4ce8-b696-2d7622aff85d\" type=\"checkbox\" ><label class=\"sk-toggleable__label\" for=\"974378a9-5498-4ce8-b696-2d7622aff85d\">SelectPercentile</label><div class=\"sk-toggleable__content\"><pre>SelectPercentile(percentile=75,\n",
       "                 score_func=<function mutual_info_regression at 0x12e9d5430>)</pre></div></div></div></div></div></div></div>"
      ],
      "text/plain": [
       "Pipeline(steps=[('columntransformer',\n",
       "                 ColumnTransformer(transformers=[('numerical_encoder',\n",
       "                                                  Pipeline(steps=[('knnimputer',\n",
       "                                                                   KNNImputer()),\n",
       "                                                                  ('minmaxscaler',\n",
       "                                                                   MinMaxScaler())]),\n",
       "                                                  ['1stFlrSF', '2ndFlrSF',\n",
       "                                                   '3SsnPorch', 'BedroomAbvGr',\n",
       "                                                   'BsmtFinSF1', 'BsmtFinSF2',\n",
       "                                                   'BsmtFullBath',\n",
       "                                                   'BsmtHalfBath', 'BsmtUnfSF',\n",
       "                                                   'EnclosedPorch',\n",
       "                                                   'Fireplaces', 'FullBath',\n",
       "                                                   'GarageArea', 'GarageCars...\n",
       "                                                   'CentralAir', 'Condition1',\n",
       "                                                   'Condition2', 'Exterior1st',\n",
       "                                                   'Exterior2nd', 'Foundation',\n",
       "                                                   'GarageType', 'Heating',\n",
       "                                                   'HouseStyle', 'LotConfig',\n",
       "                                                   'MSZoning', 'MasVnrType',\n",
       "                                                   'MiscFeature',\n",
       "                                                   'Neighborhood', 'RoofMatl',\n",
       "                                                   'RoofStyle', 'SaleCondition',\n",
       "                                                   'SaleType', 'Street',\n",
       "                                                   'Utilities'])])),\n",
       "                ('selectpercentile',\n",
       "                 SelectPercentile(percentile=75,\n",
       "                                  score_func=<function mutual_info_regression at 0x12e9d5430>))])"
      ]
     },
     "execution_count": 3,
     "metadata": {},
     "output_type": "execute_result"
    }
   ],
   "source": [
    "from utils.preprocessor import create_preproc\n",
    "preproc = create_preproc(X)\n",
    "preproc"
   ]
  },
  {
   "cell_type": "code",
   "execution_count": 31,
   "metadata": {},
   "outputs": [],
   "source": [
    "#!cat utils/preprocessor.py"
   ]
  },
  {
   "cell_type": "markdown",
   "metadata": {},
   "source": [
    "❓ Fit the preprocessor you your train set and create your feature matrix `X_preproc` that will be used by the Neural Network"
   ]
  },
  {
   "cell_type": "code",
   "execution_count": 7,
   "metadata": {},
   "outputs": [],
   "source": [
    "preproc.fit(X, y)\n",
    "X_preproc = preproc.transform(X)"
   ]
  },
  {
   "cell_type": "code",
   "execution_count": 9,
   "metadata": {},
   "outputs": [
    {
     "data": {
      "text/plain": [
       "(1460, 162)"
      ]
     },
     "execution_count": 9,
     "metadata": {},
     "output_type": "execute_result"
    }
   ],
   "source": [
    "X_preproc.shape"
   ]
  },
  {
   "cell_type": "markdown",
   "metadata": {},
   "source": [
    "# Your prediction in Keras"
   ]
  },
  {
   "cell_type": "markdown",
   "metadata": {},
   "source": [
    "This is your first **regression** task with Keras! \n",
    "- The cell below contains compiler and fit hyper-parameters we recommend you to start with.\n",
    "- Kaggle's [rule](https://www.kaggle.com/c/house-prices-advanced-regression-techniques/overview/evaluation) requires to minimize `rmsle` (Root Mean Square Log Error). As you can see, we have been able to specify `msle` direcly as loss-function with Keras! Just remember to take square-root of your loss results to read your rmsle metric.\n",
    "- The best boosted-tree `rmsle` score to beat is around **0.13**\n",
    "\n",
    "❓ **Question** ❓\n",
    "- Your responsibility is to build the best model architecture, and to control the epoch number to avoid overfitting.\n",
    "- We recommand you to create a train/val split upfront to visually control the validation loss thanks to `plot_history`"
   ]
  },
  {
   "cell_type": "code",
   "execution_count": 14,
   "metadata": {},
   "outputs": [],
   "source": [
    "# Create a train-val split here\n",
    "from sklearn.model_selection import train_test_split\n",
    "X_train, X_val, y_train, y_val = train_test_split(X_preproc, y, test_size=0.3)"
   ]
  },
  {
   "cell_type": "code",
   "execution_count": 15,
   "metadata": {},
   "outputs": [
    {
     "data": {
      "text/plain": [
       "(1022, 162)"
      ]
     },
     "execution_count": 15,
     "metadata": {},
     "output_type": "execute_result"
    }
   ],
   "source": [
    "X_train.shape"
   ]
  },
  {
   "cell_type": "code",
   "execution_count": 16,
   "metadata": {},
   "outputs": [],
   "source": [
    "from tensorflow.keras import models, layers"
   ]
  },
  {
   "cell_type": "code",
   "execution_count": 170,
   "metadata": {},
   "outputs": [],
   "source": [
    "def initialize_model():\n",
    "\n",
    "    ### YOUR MODEL ARCHITECTURE HERE\n",
    "    model = models.Sequential()\n",
    "    \n",
    "    model.add(layers.Dense(200, activation='relu', input_dim=162))\n",
    "    model.add(layers.Dense(75, activation='relu'))\n",
    "    model.add(layers.Dense(50, activation='relu'))     \n",
    "    model.add(layers.Dense(25, activation='relu'))    \n",
    "\n",
    "    model.add(layers.Dense(1, activation='linear'))\n",
    "\n",
    "    \n",
    "    # Recommended compilator\n",
    "    model.compile(optimizer='adam',\n",
    "                  loss='msle',\n",
    "                  metrics=['msle']) # directly optimize for the squared log error!\n",
    "    return model\n",
    "\n",
    "model = initialize_model()\n",
    "\n",
    "history = model.fit(X_train, y_train,\n",
    "                    validation_data=(X_val, y_val),\n",
    "                    epochs=150, # Play with this until your validation loss overfit\n",
    "                    batch_size=16, # Keep batch size to 16 today\n",
    "                    verbose=0)"
   ]
  },
  {
   "cell_type": "code",
   "execution_count": 171,
   "metadata": {},
   "outputs": [],
   "source": [
    "def plot_history(history):\n",
    "    plt.plot(np.sqrt(history.history['loss']))\n",
    "    plt.plot(np.sqrt(history.history['val_loss']))\n",
    "    plt.title('Model Loss')\n",
    "    plt.ylabel('MSLE')\n",
    "    plt.xlabel('Epoch')\n",
    "    plt.ylim(0, 1)\n",
    "    plt.legend(['Train', 'Val'], loc='best')\n",
    "    plt.show()"
   ]
  },
  {
   "cell_type": "code",
   "execution_count": 172,
   "metadata": {},
   "outputs": [
    {
     "data": {
      "image/png": "[encoded data removed]",
      "text/plain": [
       "<Figure size 432x288 with 1 Axes>"
      ]
     },
     "metadata": {
      "needs_background": "light"
     },
     "output_type": "display_data"
    }
   ],
   "source": [
    "plot_history(history)"
   ]
  },
  {
   "cell_type": "code",
   "execution_count": 173,
   "metadata": {},
   "outputs": [
    {
     "data": {
      "text/plain": [
       "0.14403414941717788"
      ]
     },
     "execution_count": 173,
     "metadata": {},
     "output_type": "execute_result"
    }
   ],
   "source": [
    "model.evaluate(X_val, y_val, verbose=0)[1] ** 0.5"
   ]
  },
  {
   "cell_type": "markdown",
   "metadata": {},
   "source": [
    "❓ **Question** ❓\n",
    "- Are you satisfied with your score?\n",
    "- Before you publish it, ask yourself if you can trust it entirely? Has it been cross-validated? \n",
    "- Feel free to cross-validate it manually with a for loop in python if you want before submitting to Kaggle"
   ]
  },
  {
   "cell_type": "code",
   "execution_count": null,
   "metadata": {},
   "outputs": [],
   "source": []
  },
  {
   "cell_type": "markdown",
   "metadata": {},
   "source": [
    "# 🏅FINAL SUBMISSION"
   ]
  },
  {
   "cell_type": "markdown",
   "metadata": {},
   "source": [
    "Predict the house prices of your test set and submit results to kaggle! Be carefull with the format"
   ]
  },
  {
   "cell_type": "code",
   "execution_count": null,
   "metadata": {
    "ExecuteTime": {
     "end_time": "2021-01-27T14:05:37.861551Z",
     "start_time": "2021-01-27T14:04:03.536Z"
    }
   },
   "outputs": [],
   "source": []
  }
 ],
 "metadata": {
  "kernelspec": {
   "display_name": "Python 3",
   "language": "python",
   "name": "python3"
  },
  "language_info": {
   "codemirror_mode": {
    "name": "ipython",
    "version": 3
   },
   "file_extension": ".py",
   "mimetype": "text/x-python",
   "name": "python",
   "nbconvert_exporter": "python",
   "pygments_lexer": "ipython3",
   "version": "3.8.6"
  },
  "toc": {
   "base_numbering": 1,
   "nav_menu": {},
   "number_sections": true,
   "sideBar": true,
   "skip_h1_title": false,
   "title_cell": "Table of Contents",
   "title_sidebar": "Contents",
   "toc_cell": false,
   "toc_position": {
    "height": "calc(100% - 180px)",
    "left": "10px",
    "top": "150px",
    "width": "282.997px"
   },
   "toc_section_display": true,
   "toc_window_display": false
  },
  "varInspector": {
   "cols": {
    "lenName": 16,
    "lenType": 16,
    "lenVar": 40
   },
   "kernels_config": {
    "python": {
     "delete_cmd_postfix": "",
     "delete_cmd_prefix": "del ",
     "library": "var_list.py",
     "varRefreshCmd": "print(var_dic_list())"
    },
    "r": {
     "delete_cmd_postfix": ") ",
     "delete_cmd_prefix": "rm(",
     "library": "var_list.r",
     "varRefreshCmd": "cat(var_dic_list()) "
    }
   },
   "types_to_exclude": [
    "module",
    "function",
    "builtin_function_or_method",
    "instance",
    "_Feature"
   ],
   "window_display": false
  }
 },
 "nbformat": 4,
 "nbformat_minor": 4
}
