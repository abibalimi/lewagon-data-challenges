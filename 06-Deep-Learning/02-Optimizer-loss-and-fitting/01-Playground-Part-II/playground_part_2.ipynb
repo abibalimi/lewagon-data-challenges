{
 "cells": [
  {
   "cell_type": "markdown",
   "metadata": {},
   "source": [
    "# Deep Learning - Day 2 - Playground Part II\n",
    "\n",
    "### objective:\n",
    "Better understand Neural Network hyperparameters\n",
    "\n",
    "<hr>\n",
    "<hr>\n",
    "\n",
    "Open again the [Playground](https://playground.tensorflow.org/#activation=tanh&batchSize=10&dataset=circle&regDataset=reg-plane&learningRate=0.03&regularizationRate=0&noise=0&networkShape=3&seed=0.06711&showTestData=false&discretize=false&percTrainData=50&x=true&y=true&xTimesY=false&xSquared=false&ySquared=false&cosX=false&sinX=false&cosY=false&sinY=false&collectStats=false&problem=classification&initZero=false&hideText=false&regularization_hide=false&regularizationRate_hide=false) to learn about Neural Network. \n",
    "\n",
    "Keep in mind that as the algorithm is stochastic, the results might differ from one run to the other. For that reason, do not hesitate to rerun the algorithms multiple times to be sure of your deduction and reasonings.\n",
    "\n",
    "### Let's explore the different things we have seen  during the lectures."
   ]
  },
  {
   "cell_type": "markdown",
   "metadata": {},
   "source": [
    "## 1. The batch size\n",
    "\n",
    "❓ **Question** ❓ Select the circle dataset (classification). Build a model with one hidden layer with 3 neurons, a learning rate of 0.03 and the tanh activation function. Do not put any noise (=0).\n",
    "\n",
    "Now, select a batch size of 30 and look at the convergence of the algorithm. Does it seem slow or fast?"
   ]
  },
  {
   "cell_type": "code",
   "execution_count": 0,
   "metadata": {},
   "outputs": [],
   "source": []
  },
  {
   "cell_type": "markdown",
   "metadata": {},
   "source": [
    "❓ **Question** ❓ Now, run the same neural network on the same data but with a batch-size of 1? Be sure to run at least 150 epochs. What do you notice on the train and test loss? What is the reason of this instability? "
   ]
  },
  {
   "cell_type": "code",
   "execution_count": 0,
   "metadata": {},
   "outputs": [],
   "source": []
  },
  {
   "cell_type": "markdown",
   "metadata": {},
   "source": [
    "❓ **Question** ❓ Now, you can see the effect by reading the values of the train and test loss: pause the iterations and run it step by step (iteration per iteration) thanks to the \"Step\" button (at the right side of the play/stop button)."
   ]
  },
  {
   "cell_type": "code",
   "execution_count": 0,
   "metadata": {},
   "outputs": [],
   "source": []
  },
  {
   "cell_type": "markdown",
   "metadata": {},
   "source": [
    "## 2. Regularization"
   ]
  },
  {
   "cell_type": "markdown",
   "metadata": {},
   "source": [
    "❓ **Question** ❓ To observe once again the **lack of generalization** select the \"Exclusive or\" dataset, with a noise of 50. Keep add a second hidden layer with again 8 neurons. Try to fit your model: it should overfit!\n",
    "\n",
    "Smaller batch size will end up overfitting faster, so let's keep batch size = 1 for the next question."
   ]
  },
  {
   "cell_type": "code",
   "execution_count": 0,
   "metadata": {},
   "outputs": [],
   "source": []
  },
  {
   "cell_type": "markdown",
   "metadata": {},
   "source": [
    "❓ **Question** ❓ Can we **regularize** your network to avoid overfitting? Keep batch size to 1, and add L2 regularization. Increase it until it smooth-out the prediction! Notice how the test loss doesn't increase anymore with the epochs"
   ]
  },
  {
   "cell_type": "code",
   "execution_count": 0,
   "metadata": {},
   "outputs": [],
   "source": []
  },
  {
   "cell_type": "markdown",
   "metadata": {},
   "source": [
    "❓ **Question** ❓ Change now to the spiral dataset, remove regularization, and increase ratio of training to test data of 80%. For the neural network, use 3 hidden layers with 8 neurons on the first layer, 7 on the second and 6 on the third. Run the algorithm with a batch size of 30. Be sure to run it for at least 1500 epochs. Then, compare it to the same run but with a batch size of 1. You can check what happens on the train and test loss step by step."
   ]
  },
  {
   "cell_type": "code",
   "execution_count": 0,
   "metadata": {},
   "outputs": [],
   "source": []
  },
  {
   "cell_type": "markdown",
   "metadata": {},
   "source": [
    "## 3. The learning rate\n",
    "\n",
    "Go back to the circle dataset with no noise and a ratio of training to test data of 50%. Use a batch size of 20. \n",
    "\n",
    "Use a neural netwok with one layer of 5 neurons (no regularization, and the tanh activation function)\n",
    "\n",
    "❓ **Question** ❓ For each learning rate (from 0.0001 to 10), run the algorithm during 1000 epochs and report the values of the test loss in the list below. Then, plot the test loss with respect to the learning rates. \n",
    "\n",
    "⚠️ Warning ⚠️ When you change the learning rate, be sure to reinitialize the neural network (circular arrow, left to the play/pause button)."
   ]
  },
  {
   "cell_type": "code",
   "execution_count": 0,
   "metadata": {},
   "outputs": [],
   "source": [
    "import matplotlib.pyplot as plt\n",
    "%matplotlib inline\n",
    "\n",
    "import numpy as np\n",
    "\n",
    "learning_rates = [0.0001, 0.001, 0.01, 0.1, 1, 10]\n",
    "test_loss = [### YOUR LOSS VALUES]\n",
    "\n",
    "\n",
    "plt.plot(np.log(learning_rates), test_loss)"
   ]
  },
  {
   "cell_type": "markdown",
   "metadata": {},
   "source": [
    "⚠️ Warning ⚠️ It is important to understand that, even though small and high learning rates have high test loss, this is absolutely not for the same reason. \n",
    "- On the one hand, small learning rates do converge as middle learning rate, but way slower. \n",
    "- On the other hand, large learning rates make the algorithm diverge.\n",
    "\n",
    "\n",
    "To convince yourself of the lack of convergence of high learning rates, select a learning equal to 10 and run it multiple times, each time with 400 epochs: your should see the variability of values, which corresponds to the fact that the algorithms converge to different local minima"
   ]
  },
  {
   "cell_type": "markdown",
   "metadata": {},
   "source": [
    "🏁 **Congratulation! Don't forget to commit and push your notebook** "
   ]
  }
 ],
 "metadata": {
  "kernelspec": {
   "display_name": "Python 3",
   "language": "python",
   "name": "python3"
  },
  "language_info": {
   "codemirror_mode": {
    "name": "ipython",
    "version": 3
   },
   "file_extension": ".py",
   "mimetype": "text/x-python",
   "name": "python",
   "nbconvert_exporter": "python",
   "pygments_lexer": "ipython3",
   "version": "3.8.6"
  },
  "toc": {
   "base_numbering": 1,
   "nav_menu": {},
   "number_sections": false,
   "sideBar": true,
   "skip_h1_title": false,
   "title_cell": "Table of Contents",
   "title_sidebar": "Contents",
   "toc_cell": false,
   "toc_position": {},
   "toc_section_display": true,
   "toc_window_display": false
  }
 },
 "nbformat": 4,
 "nbformat_minor": 2
}
