{
 "cells": [
  {
   "cell_type": "markdown",
   "id": "golden-accounting",
   "metadata": {},
   "source": [
    "# Credit Card Fraud Detection"
   ]
  },
  {
   "cell_type": "markdown",
   "id": "adverse-advisory",
   "metadata": {},
   "source": [
    "All the previous exercises made you take a closer look at all the different parts of a neural network: the architecture, the compilation and the fitting.\n",
    "\n",
    "Let's now work on a real-life dataset that has **a lot of data**!\n",
    "\n",
    "The data\n",
    "For this open challenge, you will work with data extracted from credit card transactions. As these are sensitive data, from all the 31 columns, only 3 are known: the rest are data that have been transformed to anonymize them (in fact, they are PCA projections of initial data).\n",
    "\n",
    "The other three known columns are:\n",
    "\n",
    "- \"TIME\": the time elapsed between the transaction and the first transaction in the dataset\n",
    "- \"AMOUNT\": the amount of the transaction\n",
    "- \"CLASS\" (our target): 0 means that the transaction is valid whereas 1 means that it is a fraud.\n",
    "\n",
    "❓ **Question** ❓ Start by downloading the data on the Kaggle website here [here](https://www.kaggle.com/mlg-ulb/creditcardfraud) and load data to create `X` and `y`"
   ]
  },
  {
   "cell_type": "markdown",
   "id": "descending-glasgow",
   "metadata": {},
   "source": [
    "## 1. Rebalancing classes"
   ]
  },
  {
   "cell_type": "code",
   "execution_count": 4,
   "id": "2f5462da",
   "metadata": {
    "ExecuteTime": {
     "end_time": "2021-04-19T10:08:38.156709Z",
     "start_time": "2021-04-19T10:08:38.145874Z"
    }
   },
   "outputs": [],
   "source": [
    "# Let's check class balance\n",
    "pd.Series(y).value_counts()"
   ]
  },
  {
   "cell_type": "markdown",
   "id": "dc611794",
   "metadata": {},
   "source": [
    "☝️ in this `fraud detection` challenge, the classes are extremely imbalanced:\n",
    "* 99.8 % of normal transactions\n",
    "* 0.2 % of fraudulent transactions\n",
    "\n",
    "We won't be able to detect frauds unless we apply some serious rebalancing strategies!\n",
    "\n",
    "❓ **Question** ❓\n",
    "1. **First**, create three separate Train/Val/Test splits from your dataset. It is extremely important to keep validation and testing sets **not rebalanced** so as to evaluate your model in true conditions without data leak. Keep your test set for the very last cell of this notebook only.\n",
    "\n",
    "&nbsp;\n",
    "2. **Second**, rebalance you training set (and only this one). You have many choices:\n",
    "\n",
    "- Simply oversample the minority class randomly using plain numpy functions.\n",
    "- Or use <a href=\"https://machinelearningmastery.com/smote-oversampling-for-imbalanced-classification/\">Synthetic Minority Oversampling Technique</a> to generate new datapoints by weighting the existing ones\n",
    "- In addition, try also <a href=\"https://machinelearningmastery.com/random-oversampling-and-undersampling-for-imbalanced-classification/\">RandomUnderSampler</a> to downsample a little bit the majority class"
   ]
  },
  {
   "cell_type": "code",
   "execution_count": 5,
   "id": "44628a97",
   "metadata": {
    "ExecuteTime": {
     "end_time": "2021-04-19T10:08:38.160660Z",
     "start_time": "2021-04-19T10:08:38.158321Z"
    }
   },
   "outputs": [],
   "source": [
    "# YOUR CODE HERE"
   ]
  },
  {
   "cell_type": "markdown",
   "id": "subsequent-blues",
   "metadata": {},
   "source": [
    "## 2. Neural Network iterations\n",
    "\n",
    "Now that you have rebalanced your classes, try to fit a neural network to optimize your test score. Feel free to use the following hints:\n",
    "\n",
    "- Normalize your inputs!\n",
    "    - Use preferably a [`Normalization`](https://www.tensorflow.org/api_docs/python/tf/keras/layers/experimental/preprocessing/Normalization) layer inside the model to \"pipeline\" your preprocessing within your model. \n",
    "    - Or use sklearn's [`StandardScaler`](https://scikit-learn.org/stable/modules/generated/sklearn.preprocessing.StandardScaler.html) outside of your model, applied your `X_train` and `X_val` and `X_test`.\n",
    "- Make model overfit, then, regularize using\n",
    "    - Early Stopping criteria \n",
    "    - [`Dropout`](https://www.tensorflow.org/api_docs/python/tf/keras/layers/Dropout) layers\n",
    "    - or [`regularizers`](https://www.tensorflow.org/api_docs/python/tf/keras/regularizers) layers\n",
    "- 🚨 Think carefully about the metric you want to track and the loss you want to use ?\n"
   ]
  },
  {
   "cell_type": "code",
   "execution_count": 15,
   "id": "98cc692d",
   "metadata": {
    "ExecuteTime": {
     "end_time": "2021-04-19T10:08:39.112654Z",
     "start_time": "2021-04-19T10:08:39.110882Z"
    }
   },
   "outputs": [],
   "source": [
    "# YOUR CODE HERE"
   ]
  },
  {
   "cell_type": "markdown",
   "id": "particular-thomas",
   "metadata": {},
   "source": [
    "## 3. Score your model on unseen Test set\n",
    "\n",
    "❓ **Question** ❓: Compute your confusion matrix and classification report on the test set"
   ]
  },
  {
   "cell_type": "markdown",
   "id": "1a810a23",
   "metadata": {},
   "source": [
    "### 🧪 Test your score"
   ]
  },
  {
   "cell_type": "markdown",
   "id": "c6ae64bb",
   "metadata": {},
   "source": [
    "Store below your real test performance on a (`X_test`, `y_test`) representative sample of the original unbalance dataset"
   ]
  },
  {
   "cell_type": "code",
   "execution_count": 32,
   "id": "ff087118",
   "metadata": {
    "ExecuteTime": {
     "end_time": "2021-04-19T10:08:57.085268Z",
     "start_time": "2021-04-19T10:08:57.082369Z"
    }
   },
   "outputs": [],
   "source": [
    "precision = 0 # ??\n",
    "recall = 0 # ??"
   ]
  },
  {
   "cell_type": "code",
   "execution_count": 39,
   "id": "576560b4",
   "metadata": {
    "ExecuteTime": {
     "end_time": "2021-04-19T10:13:51.168605Z",
     "start_time": "2021-04-19T10:13:49.951848Z"
    }
   },
   "outputs": [],
   "source": [
    "from nbresult import ChallengeResult\n",
    "\n",
    "result = ChallengeResult('solution',\n",
    "    precision=precision,\n",
    "    recall=recall,\n",
    "    fraud_number=len(y_test[y_test == 1]),\n",
    "    non_fraud_number=len(y_test[y_test == 0]),\n",
    ")\n",
    "\n",
    "result.write()\n",
    "print(result.check())"
   ]
  },
  {
   "cell_type": "markdown",
   "id": "3db1e216",
   "metadata": {},
   "source": [
    "## 🏁 Optional : Read Google's solution for this challenge\n",
    "Congratulation for finishing all challenges for this session!\n",
    "\n",
    "To conclude, take some time to read Google's own solution direcly [on Colab here](https://colab.research.google.com/github/tensorflow/docs/blob/master/site/en/tutorials/structured_data/imbalanced_data.ipynb). You will discover interesting techniques and best practices\n"
   ]
  }
 ],
 "metadata": {
  "kernelspec": {
   "display_name": "Python 3",
   "language": "python",
   "name": "python3"
  },
  "language_info": {
   "codemirror_mode": {
    "name": "ipython",
    "version": 3
   },
   "file_extension": ".py",
   "mimetype": "text/x-python",
   "name": "python",
   "nbconvert_exporter": "python",
   "pygments_lexer": "ipython3",
   "version": "3.8.6"
  },
  "toc": {
   "base_numbering": 1,
   "nav_menu": {},
   "number_sections": false,
   "sideBar": true,
   "skip_h1_title": true,
   "title_cell": "Table of Contents",
   "title_sidebar": "Contents",
   "toc_cell": false,
   "toc_position": {
    "height": "calc(100% - 180px)",
    "left": "10px",
    "top": "150px",
    "width": "165px"
   },
   "toc_section_display": true,
   "toc_window_display": true
  },
  "varInspector": {
   "cols": {
    "lenName": 16,
    "lenType": 16,
    "lenVar": 40
   },
   "kernels_config": {
    "python": {
     "delete_cmd_postfix": "",
     "delete_cmd_prefix": "del ",
     "library": "var_list.py",
     "varRefreshCmd": "print(var_dic_list())"
    },
    "r": {
     "delete_cmd_postfix": ") ",
     "delete_cmd_prefix": "rm(",
     "library": "var_list.r",
     "varRefreshCmd": "cat(var_dic_list()) "
    }
   },
   "types_to_exclude": [
    "module",
    "function",
    "builtin_function_or_method",
    "instance",
    "_Feature"
   ],
   "window_display": false
  }
 },
 "nbformat": 4,
 "nbformat_minor": 5
}
