{
 "cells": [
  {
   "cell_type": "markdown",
   "metadata": {},
   "source": [
    "# Orders - Multivariate Regression of review_score"
   ]
  },
  {
   "cell_type": "code",
   "execution_count": 1,
   "metadata": {},
   "outputs": [],
   "source": [
    "%load_ext autoreload\n",
    "%autoreload 2"
   ]
  },
  {
   "cell_type": "code",
   "execution_count": 2,
   "metadata": {},
   "outputs": [],
   "source": [
    "# import modules \n",
    "import pandas as pd\n",
    "import numpy as np \n",
    "import seaborn as sns\n",
    "import matplotlib.pyplot as plt"
   ]
  },
  {
   "cell_type": "code",
   "execution_count": 3,
   "metadata": {
    "scrolled": true
   },
   "outputs": [],
   "source": [
    "''' You can download the solution for yesterday's optional distance_seller_customer function from Kitt \n",
    "and paste it into your olist/orders.py file, if you weren't able to complete it '''\n",
    "# import orders dataset\n",
    "from olist.order import Order\n",
    "orders = Order().get_training_data(with_distance_seller_customer=True)"
   ]
  },
  {
   "cell_type": "code",
   "execution_count": 4,
   "metadata": {},
   "outputs": [
    {
     "name": "stdout",
     "output_type": "stream",
     "text": [
      "<class 'pandas.core.frame.DataFrame'>\n",
      "Int64Index: 96525 entries, 0 to 96532\n",
      "Data columns (total 13 columns):\n",
      " #   Column                    Non-Null Count  Dtype  \n",
      "---  ------                    --------------  -----  \n",
      " 0   order_id                  96525 non-null  object \n",
      " 1   wait_time                 96525 non-null  float64\n",
      " 2   expected_wait_time        96525 non-null  int64  \n",
      " 3   delay_vs_expected         96525 non-null  float64\n",
      " 4   order_status              96525 non-null  object \n",
      " 5   dim_is_five_star          96525 non-null  int64  \n",
      " 6   dim_is_one_star           96525 non-null  int64  \n",
      " 7   review_score              96525 non-null  int64  \n",
      " 8   number_of_products        96525 non-null  int64  \n",
      " 9   number_of_sellers         96525 non-null  int64  \n",
      " 10  price                     96525 non-null  float64\n",
      " 11  freight_value             96525 non-null  float64\n",
      " 12  distance_seller_customer  96525 non-null  float64\n",
      "dtypes: float64(5), int64(6), object(2)\n",
      "memory usage: 10.3+ MB\n"
     ]
    }
   ],
   "source": [
    "orders.info()"
   ]
  },
  {
   "cell_type": "code",
   "execution_count": 5,
   "metadata": {},
   "outputs": [
    {
     "data": {
      "text/html": [
       "<div>\n",
       "<style scoped>\n",
       "    .dataframe tbody tr th:only-of-type {\n",
       "        vertical-align: middle;\n",
       "    }\n",
       "\n",
       "    .dataframe tbody tr th {\n",
       "        vertical-align: top;\n",
       "    }\n",
       "\n",
       "    .dataframe thead th {\n",
       "        text-align: right;\n",
       "    }\n",
       "</style>\n",
       "<table border=\"1\" class=\"dataframe\">\n",
       "  <thead>\n",
       "    <tr style=\"text-align: right;\">\n",
       "      <th></th>\n",
       "      <th>wait_time</th>\n",
       "      <th>expected_wait_time</th>\n",
       "      <th>delay_vs_expected</th>\n",
       "      <th>dim_is_five_star</th>\n",
       "      <th>dim_is_one_star</th>\n",
       "      <th>review_score</th>\n",
       "      <th>number_of_products</th>\n",
       "      <th>number_of_sellers</th>\n",
       "      <th>price</th>\n",
       "      <th>freight_value</th>\n",
       "      <th>distance_seller_customer</th>\n",
       "    </tr>\n",
       "  </thead>\n",
       "  <tbody>\n",
       "    <tr>\n",
       "      <th>count</th>\n",
       "      <td>96525.000000</td>\n",
       "      <td>96525.000000</td>\n",
       "      <td>96525.00000</td>\n",
       "      <td>96525.000000</td>\n",
       "      <td>96525.000000</td>\n",
       "      <td>96525.000000</td>\n",
       "      <td>96525.000000</td>\n",
       "      <td>96525.000000</td>\n",
       "      <td>96525.000000</td>\n",
       "      <td>96525.000000</td>\n",
       "      <td>96525.000000</td>\n",
       "    </tr>\n",
       "    <tr>\n",
       "      <th>mean</th>\n",
       "      <td>12.090743</td>\n",
       "      <td>23.380679</td>\n",
       "      <td>0.76460</td>\n",
       "      <td>0.588977</td>\n",
       "      <td>0.100596</td>\n",
       "      <td>4.142005</td>\n",
       "      <td>1.142699</td>\n",
       "      <td>1.142699</td>\n",
       "      <td>136.935472</td>\n",
       "      <td>22.773011</td>\n",
       "      <td>601.058677</td>\n",
       "    </tr>\n",
       "    <tr>\n",
       "      <th>std</th>\n",
       "      <td>9.545650</td>\n",
       "      <td>8.767081</td>\n",
       "      <td>4.73508</td>\n",
       "      <td>0.492022</td>\n",
       "      <td>0.300794</td>\n",
       "      <td>1.296748</td>\n",
       "      <td>0.540518</td>\n",
       "      <td>0.540518</td>\n",
       "      <td>208.935017</td>\n",
       "      <td>21.553810</td>\n",
       "      <td>595.216682</td>\n",
       "    </tr>\n",
       "    <tr>\n",
       "      <th>min</th>\n",
       "      <td>0.000000</td>\n",
       "      <td>2.000000</td>\n",
       "      <td>0.00000</td>\n",
       "      <td>0.000000</td>\n",
       "      <td>0.000000</td>\n",
       "      <td>1.000000</td>\n",
       "      <td>1.000000</td>\n",
       "      <td>1.000000</td>\n",
       "      <td>0.850000</td>\n",
       "      <td>0.000000</td>\n",
       "      <td>0.000000</td>\n",
       "    </tr>\n",
       "    <tr>\n",
       "      <th>25%</th>\n",
       "      <td>6.000000</td>\n",
       "      <td>18.000000</td>\n",
       "      <td>0.00000</td>\n",
       "      <td>0.000000</td>\n",
       "      <td>0.000000</td>\n",
       "      <td>4.000000</td>\n",
       "      <td>1.000000</td>\n",
       "      <td>1.000000</td>\n",
       "      <td>45.900000</td>\n",
       "      <td>13.830000</td>\n",
       "      <td>187.358391</td>\n",
       "    </tr>\n",
       "    <tr>\n",
       "      <th>50%</th>\n",
       "      <td>10.000000</td>\n",
       "      <td>23.000000</td>\n",
       "      <td>0.00000</td>\n",
       "      <td>1.000000</td>\n",
       "      <td>0.000000</td>\n",
       "      <td>5.000000</td>\n",
       "      <td>1.000000</td>\n",
       "      <td>1.000000</td>\n",
       "      <td>86.000000</td>\n",
       "      <td>17.160000</td>\n",
       "      <td>434.070859</td>\n",
       "    </tr>\n",
       "    <tr>\n",
       "      <th>75%</th>\n",
       "      <td>15.000000</td>\n",
       "      <td>28.000000</td>\n",
       "      <td>0.00000</td>\n",
       "      <td>1.000000</td>\n",
       "      <td>0.000000</td>\n",
       "      <td>5.000000</td>\n",
       "      <td>1.000000</td>\n",
       "      <td>1.000000</td>\n",
       "      <td>149.900000</td>\n",
       "      <td>24.000000</td>\n",
       "      <td>797.860262</td>\n",
       "    </tr>\n",
       "    <tr>\n",
       "      <th>max</th>\n",
       "      <td>209.000000</td>\n",
       "      <td>155.000000</td>\n",
       "      <td>189.00000</td>\n",
       "      <td>1.000000</td>\n",
       "      <td>1.000000</td>\n",
       "      <td>5.000000</td>\n",
       "      <td>21.000000</td>\n",
       "      <td>21.000000</td>\n",
       "      <td>13440.000000</td>\n",
       "      <td>1794.960000</td>\n",
       "      <td>8736.947618</td>\n",
       "    </tr>\n",
       "  </tbody>\n",
       "</table>\n",
       "</div>"
      ],
      "text/plain": [
       "          wait_time  expected_wait_time  delay_vs_expected  dim_is_five_star  \\\n",
       "count  96525.000000        96525.000000        96525.00000      96525.000000   \n",
       "mean      12.090743           23.380679            0.76460          0.588977   \n",
       "std        9.545650            8.767081            4.73508          0.492022   \n",
       "min        0.000000            2.000000            0.00000          0.000000   \n",
       "25%        6.000000           18.000000            0.00000          0.000000   \n",
       "50%       10.000000           23.000000            0.00000          1.000000   \n",
       "75%       15.000000           28.000000            0.00000          1.000000   \n",
       "max      209.000000          155.000000          189.00000          1.000000   \n",
       "\n",
       "       dim_is_one_star  review_score  number_of_products  number_of_sellers  \\\n",
       "count     96525.000000  96525.000000        96525.000000       96525.000000   \n",
       "mean          0.100596      4.142005            1.142699           1.142699   \n",
       "std           0.300794      1.296748            0.540518           0.540518   \n",
       "min           0.000000      1.000000            1.000000           1.000000   \n",
       "25%           0.000000      4.000000            1.000000           1.000000   \n",
       "50%           0.000000      5.000000            1.000000           1.000000   \n",
       "75%           0.000000      5.000000            1.000000           1.000000   \n",
       "max           1.000000      5.000000           21.000000          21.000000   \n",
       "\n",
       "              price  freight_value  distance_seller_customer  \n",
       "count  96525.000000   96525.000000              96525.000000  \n",
       "mean     136.935472      22.773011                601.058677  \n",
       "std      208.935017      21.553810                595.216682  \n",
       "min        0.850000       0.000000                  0.000000  \n",
       "25%       45.900000      13.830000                187.358391  \n",
       "50%       86.000000      17.160000                434.070859  \n",
       "75%      149.900000      24.000000                797.860262  \n",
       "max    13440.000000    1794.960000               8736.947618  "
      ]
     },
     "execution_count": 5,
     "metadata": {},
     "output_type": "execute_result"
    }
   ],
   "source": [
    "orders.describe()"
   ]
  },
  {
   "cell_type": "markdown",
   "metadata": {},
   "source": [
    "Let's recall our simple analysis from yesterday's exercise: \n",
    "\n",
    "Based on our correlation matrix below, we notice that `review_score` is mostly correlated with the two features `wait_time` and `delay_vs_expected`. However, these two features are also highly correlated with each other. In this exercise, we will use `statsmodels` to distinguish the effect of one feature, **holding the other one constant**."
   ]
  },
  {
   "cell_type": "code",
   "execution_count": 6,
   "metadata": {},
   "outputs": [
    {
     "data": {
      "text/plain": [
       "<AxesSubplot:>"
      ]
     },
     "execution_count": 6,
     "metadata": {},
     "output_type": "execute_result"
    },
    {
     "data": {
      "image/png": "[encoded data removed]",
      "text/plain": [
       "<Figure size 432x288 with 2 Axes>"
      ]
     },
     "metadata": {
      "needs_background": "light"
     },
     "output_type": "display_data"
    }
   ],
   "source": [
    "sns.heatmap(orders.corr(), cmap='coolwarm')"
   ]
  },
  {
   "cell_type": "code",
   "execution_count": 7,
   "metadata": {},
   "outputs": [
    {
     "data": {
      "text/plain": [
       "(0.0, 5.931940795472345)"
      ]
     },
     "execution_count": 7,
     "metadata": {},
     "output_type": "execute_result"
    },
    {
     "data": {
      "image/png": "[encoded data removed]",
      "text/plain": [
       "<Figure size 936x360 with 2 Axes>"
      ]
     },
     "metadata": {
      "needs_background": "light"
     },
     "output_type": "display_data"
    }
   ],
   "source": [
    "sample = orders.sample(10000, random_state=42)\n",
    "plt.figure(figsize=(13,5))\n",
    "plt.suptitle('Regression of review_score, 95% confidence interval')\n",
    "plt.subplot(1,2,1)\n",
    "sns.regplot(x = sample.wait_time, y= sample.review_score, y_jitter=.1, ci=95)\n",
    "plt.xlim(right=70)\n",
    "plt.ylim(bottom=0)\n",
    "\n",
    "plt.subplot(1,2,2)\n",
    "sns.regplot(x = orders.delay_vs_expected, y= orders.review_score, y_jitter=.1, ci=95)\n",
    "plt.xlim(right=70)\n",
    "plt.ylim(bottom=0)"
   ]
  },
  {
   "cell_type": "code",
   "execution_count": 8,
   "metadata": {
    "scrolled": true
   },
   "outputs": [
    {
     "data": {
      "text/html": [
       "<div>\n",
       "<style scoped>\n",
       "    .dataframe tbody tr th:only-of-type {\n",
       "        vertical-align: middle;\n",
       "    }\n",
       "\n",
       "    .dataframe tbody tr th {\n",
       "        vertical-align: top;\n",
       "    }\n",
       "\n",
       "    .dataframe thead th {\n",
       "        text-align: right;\n",
       "    }\n",
       "</style>\n",
       "<table border=\"1\" class=\"dataframe\">\n",
       "  <thead>\n",
       "    <tr style=\"text-align: right;\">\n",
       "      <th></th>\n",
       "      <th>wait_time</th>\n",
       "      <th>expected_wait_time</th>\n",
       "      <th>delay_vs_expected</th>\n",
       "      <th>dim_is_five_star</th>\n",
       "      <th>dim_is_one_star</th>\n",
       "      <th>review_score</th>\n",
       "      <th>number_of_products</th>\n",
       "      <th>number_of_sellers</th>\n",
       "      <th>price</th>\n",
       "      <th>freight_value</th>\n",
       "      <th>distance_seller_customer</th>\n",
       "    </tr>\n",
       "  </thead>\n",
       "  <tbody>\n",
       "    <tr>\n",
       "      <th>wait_time</th>\n",
       "      <td>1.000000</td>\n",
       "      <td>0.382769</td>\n",
       "      <td>0.705804</td>\n",
       "      <td>-0.235160</td>\n",
       "      <td>0.306295</td>\n",
       "      <td>-0.334931</td>\n",
       "      <td>-0.019302</td>\n",
       "      <td>-0.019302</td>\n",
       "      <td>0.055787</td>\n",
       "      <td>0.166976</td>\n",
       "      <td>0.392985</td>\n",
       "    </tr>\n",
       "    <tr>\n",
       "      <th>expected_wait_time</th>\n",
       "      <td>0.382769</td>\n",
       "      <td>1.000000</td>\n",
       "      <td>0.006359</td>\n",
       "      <td>-0.050189</td>\n",
       "      <td>0.034731</td>\n",
       "      <td>-0.052176</td>\n",
       "      <td>0.016050</td>\n",
       "      <td>0.016050</td>\n",
       "      <td>0.076327</td>\n",
       "      <td>0.239133</td>\n",
       "      <td>0.513858</td>\n",
       "    </tr>\n",
       "    <tr>\n",
       "      <th>delay_vs_expected</th>\n",
       "      <td>0.705804</td>\n",
       "      <td>0.006359</td>\n",
       "      <td>1.000000</td>\n",
       "      <td>-0.156504</td>\n",
       "      <td>0.281957</td>\n",
       "      <td>-0.270601</td>\n",
       "      <td>-0.013162</td>\n",
       "      <td>-0.013162</td>\n",
       "      <td>0.016995</td>\n",
       "      <td>0.024152</td>\n",
       "      <td>0.066085</td>\n",
       "    </tr>\n",
       "    <tr>\n",
       "      <th>dim_is_five_star</th>\n",
       "      <td>-0.235160</td>\n",
       "      <td>-0.050189</td>\n",
       "      <td>-0.156504</td>\n",
       "      <td>1.000000</td>\n",
       "      <td>-0.400339</td>\n",
       "      <td>0.792041</td>\n",
       "      <td>-0.073181</td>\n",
       "      <td>-0.073181</td>\n",
       "      <td>-0.013813</td>\n",
       "      <td>-0.059535</td>\n",
       "      <td>-0.056552</td>\n",
       "    </tr>\n",
       "    <tr>\n",
       "      <th>dim_is_one_star</th>\n",
       "      <td>0.306295</td>\n",
       "      <td>0.034731</td>\n",
       "      <td>0.281957</td>\n",
       "      <td>-0.400339</td>\n",
       "      <td>1.000000</td>\n",
       "      <td>-0.810337</td>\n",
       "      <td>0.120458</td>\n",
       "      <td>0.120458</td>\n",
       "      <td>0.046013</td>\n",
       "      <td>0.084189</td>\n",
       "      <td>0.043521</td>\n",
       "    </tr>\n",
       "    <tr>\n",
       "      <th>review_score</th>\n",
       "      <td>-0.334931</td>\n",
       "      <td>-0.052176</td>\n",
       "      <td>-0.270601</td>\n",
       "      <td>0.792041</td>\n",
       "      <td>-0.810337</td>\n",
       "      <td>1.000000</td>\n",
       "      <td>-0.124262</td>\n",
       "      <td>-0.124262</td>\n",
       "      <td>-0.035811</td>\n",
       "      <td>-0.091034</td>\n",
       "      <td>-0.059232</td>\n",
       "    </tr>\n",
       "    <tr>\n",
       "      <th>number_of_products</th>\n",
       "      <td>-0.019302</td>\n",
       "      <td>0.016050</td>\n",
       "      <td>-0.013162</td>\n",
       "      <td>-0.073181</td>\n",
       "      <td>0.120458</td>\n",
       "      <td>-0.124262</td>\n",
       "      <td>1.000000</td>\n",
       "      <td>1.000000</td>\n",
       "      <td>0.153992</td>\n",
       "      <td>0.439729</td>\n",
       "      <td>-0.016683</td>\n",
       "    </tr>\n",
       "    <tr>\n",
       "      <th>number_of_sellers</th>\n",
       "      <td>-0.019302</td>\n",
       "      <td>0.016050</td>\n",
       "      <td>-0.013162</td>\n",
       "      <td>-0.073181</td>\n",
       "      <td>0.120458</td>\n",
       "      <td>-0.124262</td>\n",
       "      <td>1.000000</td>\n",
       "      <td>1.000000</td>\n",
       "      <td>0.153992</td>\n",
       "      <td>0.439729</td>\n",
       "      <td>-0.016683</td>\n",
       "    </tr>\n",
       "    <tr>\n",
       "      <th>price</th>\n",
       "      <td>0.055787</td>\n",
       "      <td>0.076327</td>\n",
       "      <td>0.016995</td>\n",
       "      <td>-0.013813</td>\n",
       "      <td>0.046013</td>\n",
       "      <td>-0.035811</td>\n",
       "      <td>0.153992</td>\n",
       "      <td>0.153992</td>\n",
       "      <td>1.000000</td>\n",
       "      <td>0.411600</td>\n",
       "      <td>0.079705</td>\n",
       "    </tr>\n",
       "    <tr>\n",
       "      <th>freight_value</th>\n",
       "      <td>0.166976</td>\n",
       "      <td>0.239133</td>\n",
       "      <td>0.024152</td>\n",
       "      <td>-0.059535</td>\n",
       "      <td>0.084189</td>\n",
       "      <td>-0.091034</td>\n",
       "      <td>0.439729</td>\n",
       "      <td>0.439729</td>\n",
       "      <td>0.411600</td>\n",
       "      <td>1.000000</td>\n",
       "      <td>0.313953</td>\n",
       "    </tr>\n",
       "    <tr>\n",
       "      <th>distance_seller_customer</th>\n",
       "      <td>0.392985</td>\n",
       "      <td>0.513858</td>\n",
       "      <td>0.066085</td>\n",
       "      <td>-0.056552</td>\n",
       "      <td>0.043521</td>\n",
       "      <td>-0.059232</td>\n",
       "      <td>-0.016683</td>\n",
       "      <td>-0.016683</td>\n",
       "      <td>0.079705</td>\n",
       "      <td>0.313953</td>\n",
       "      <td>1.000000</td>\n",
       "    </tr>\n",
       "  </tbody>\n",
       "</table>\n",
       "</div>"
      ],
      "text/plain": [
       "                          wait_time  expected_wait_time  delay_vs_expected  \\\n",
       "wait_time                  1.000000            0.382769           0.705804   \n",
       "expected_wait_time         0.382769            1.000000           0.006359   \n",
       "delay_vs_expected          0.705804            0.006359           1.000000   \n",
       "dim_is_five_star          -0.235160           -0.050189          -0.156504   \n",
       "dim_is_one_star            0.306295            0.034731           0.281957   \n",
       "review_score              -0.334931           -0.052176          -0.270601   \n",
       "number_of_products        -0.019302            0.016050          -0.013162   \n",
       "number_of_sellers         -0.019302            0.016050          -0.013162   \n",
       "price                      0.055787            0.076327           0.016995   \n",
       "freight_value              0.166976            0.239133           0.024152   \n",
       "distance_seller_customer   0.392985            0.513858           0.066085   \n",
       "\n",
       "                          dim_is_five_star  dim_is_one_star  review_score  \\\n",
       "wait_time                        -0.235160         0.306295     -0.334931   \n",
       "expected_wait_time               -0.050189         0.034731     -0.052176   \n",
       "delay_vs_expected                -0.156504         0.281957     -0.270601   \n",
       "dim_is_five_star                  1.000000        -0.400339      0.792041   \n",
       "dim_is_one_star                  -0.400339         1.000000     -0.810337   \n",
       "review_score                      0.792041        -0.810337      1.000000   \n",
       "number_of_products               -0.073181         0.120458     -0.124262   \n",
       "number_of_sellers                -0.073181         0.120458     -0.124262   \n",
       "price                            -0.013813         0.046013     -0.035811   \n",
       "freight_value                    -0.059535         0.084189     -0.091034   \n",
       "distance_seller_customer         -0.056552         0.043521     -0.059232   \n",
       "\n",
       "                          number_of_products  number_of_sellers     price  \\\n",
       "wait_time                          -0.019302          -0.019302  0.055787   \n",
       "expected_wait_time                  0.016050           0.016050  0.076327   \n",
       "delay_vs_expected                  -0.013162          -0.013162  0.016995   \n",
       "dim_is_five_star                   -0.073181          -0.073181 -0.013813   \n",
       "dim_is_one_star                     0.120458           0.120458  0.046013   \n",
       "review_score                       -0.124262          -0.124262 -0.035811   \n",
       "number_of_products                  1.000000           1.000000  0.153992   \n",
       "number_of_sellers                   1.000000           1.000000  0.153992   \n",
       "price                               0.153992           0.153992  1.000000   \n",
       "freight_value                       0.439729           0.439729  0.411600   \n",
       "distance_seller_customer           -0.016683          -0.016683  0.079705   \n",
       "\n",
       "                          freight_value  distance_seller_customer  \n",
       "wait_time                      0.166976                  0.392985  \n",
       "expected_wait_time             0.239133                  0.513858  \n",
       "delay_vs_expected              0.024152                  0.066085  \n",
       "dim_is_five_star              -0.059535                 -0.056552  \n",
       "dim_is_one_star                0.084189                  0.043521  \n",
       "review_score                  -0.091034                 -0.059232  \n",
       "number_of_products             0.439729                 -0.016683  \n",
       "number_of_sellers              0.439729                 -0.016683  \n",
       "price                          0.411600                  0.079705  \n",
       "freight_value                  1.000000                  0.313953  \n",
       "distance_seller_customer       0.313953                  1.000000  "
      ]
     },
     "execution_count": 8,
     "metadata": {},
     "output_type": "execute_result"
    }
   ],
   "source": [
    "orders.corr()"
   ]
  },
  {
   "cell_type": "code",
   "execution_count": 9,
   "metadata": {},
   "outputs": [
    {
     "name": "stdout",
     "output_type": "stream",
     "text": [
      "R-Squared =  0.11217880408701221\n"
     ]
    }
   ],
   "source": [
    "print('R-Squared = ', (orders.corr()['review_score']['wait_time'])**2)"
   ]
  },
  {
   "cell_type": "code",
   "execution_count": 10,
   "metadata": {},
   "outputs": [
    {
     "name": "stdout",
     "output_type": "stream",
     "text": [
      "R-Squared =  0.07322514881626195\n"
     ]
    }
   ],
   "source": [
    "print('R-Squared = ', (orders.corr()['review_score']['delay_vs_expected'])**2)"
   ]
  },
  {
   "cell_type": "markdown",
   "metadata": {},
   "source": [
    "## 1 - Univariate regression"
   ]
  },
  {
   "cell_type": "markdown",
   "metadata": {},
   "source": [
    "❓Use [statsmodels](https://www.statsmodels.org/stable/generated/statsmodels.formula.api.ols.html) with `statsmodels.formula.api` to quickly make\n",
    " - `model1`: an ols regression of `review_score` over `wait_time`\n",
    " - `model2`: an ols regression of `review_score` over `delay_vs_expected`\n",
    "\n",
    "For each, Print the `summary` table and interpret the results:\n",
    "- Make sure to understand how these results match those of the seaborn regplot\n",
    "- Read the regression performance metric R-squared, as well as individual regression coefficients, t-values, p-values, and 95% confidence intervals"
   ]
  },
  {
   "cell_type": "code",
   "execution_count": 11,
   "metadata": {},
   "outputs": [],
   "source": [
    "import statsmodels.formula.api as smf"
   ]
  },
  {
   "cell_type": "code",
   "execution_count": 12,
   "metadata": {},
   "outputs": [],
   "source": [
    "model1 = smf.ols(formula = 'review_score ~ wait_time', data=orders).fit()"
   ]
  },
  {
   "cell_type": "code",
   "execution_count": 13,
   "metadata": {},
   "outputs": [
    {
     "name": "stdout",
     "output_type": "stream",
     "text": [
      "                            OLS Regression Results                            \n",
      "==============================================================================\n",
      "Dep. Variable:           review_score   R-squared:                       0.112\n",
      "Model:                            OLS   Adj. R-squared:                  0.112\n",
      "Method:                 Least Squares   F-statistic:                 1.220e+04\n",
      "Date:                Wed, 05 May 2021   Prob (F-statistic):               0.00\n",
      "Time:                        15:51:35   Log-Likelihood:            -1.5630e+05\n",
      "No. Observations:               96525   AIC:                         3.126e+05\n",
      "Df Residuals:                   96523   BIC:                         3.126e+05\n",
      "Df Model:                           1                                         \n",
      "Covariance Type:            nonrobust                                         \n",
      "==============================================================================\n",
      "                 coef    std err          t      P>|t|      [0.025      0.975]\n",
      "------------------------------------------------------------------------------\n",
      "Intercept      4.6921      0.006    739.297      0.000       4.680       4.705\n",
      "wait_time     -0.0455      0.000   -110.435      0.000      -0.046      -0.045\n",
      "==============================================================================\n",
      "Omnibus:                    19151.489   Durbin-Watson:                   2.008\n",
      "Prob(Omnibus):                  0.000   Jarque-Bera (JB):            34006.247\n",
      "Skew:                          -1.282   Prob(JB):                         0.00\n",
      "Kurtosis:                       4.372   Cond. No.                         24.9\n",
      "==============================================================================\n",
      "\n",
      "Notes:\n",
      "[1] Standard Errors assume that the covariance matrix of the errors is correctly specified.\n"
     ]
    }
   ],
   "source": [
    "print(model1.summary())"
   ]
  },
  {
   "cell_type": "raw",
   "metadata": {},
   "source": [
    "For each additional day an order takes to deliver, the reveiw_score on average is reduced by 0.04.\n",
    "A delivery without waiting day should receive a score of 4.69.\n",
    "11.2% of the reveiew_score is explained by the variance of wait_time.\n",
    "The ralationship between review_score and wait_time is statiscally significant (P = p_value < 0.05)"
   ]
  },
  {
   "cell_type": "code",
   "execution_count": 14,
   "metadata": {},
   "outputs": [],
   "source": [
    "model2 = smf.ols(formula = 'review_score ~ delay_vs_expected', data=orders).fit()"
   ]
  },
  {
   "cell_type": "code",
   "execution_count": 15,
   "metadata": {},
   "outputs": [
    {
     "name": "stdout",
     "output_type": "stream",
     "text": [
      "                            OLS Regression Results                            \n",
      "==============================================================================\n",
      "Dep. Variable:           review_score   R-squared:                       0.073\n",
      "Model:                            OLS   Adj. R-squared:                  0.073\n",
      "Method:                 Least Squares   F-statistic:                     7626.\n",
      "Date:                Wed, 05 May 2021   Prob (F-statistic):               0.00\n",
      "Time:                        15:51:35   Log-Likelihood:            -1.5838e+05\n",
      "No. Observations:               96525   AIC:                         3.168e+05\n",
      "Df Residuals:                   96523   BIC:                         3.168e+05\n",
      "Df Model:                           1                                         \n",
      "Covariance Type:            nonrobust                                         \n",
      "=====================================================================================\n",
      "                        coef    std err          t      P>|t|      [0.025      0.975]\n",
      "-------------------------------------------------------------------------------------\n",
      "Intercept             4.1987      0.004   1031.565      0.000       4.191       4.207\n",
      "delay_vs_expected    -0.0741      0.001    -87.329      0.000      -0.076      -0.072\n",
      "==============================================================================\n",
      "Omnibus:                    20166.566   Durbin-Watson:                   2.005\n",
      "Prob(Omnibus):                  0.000   Jarque-Bera (JB):            45800.156\n",
      "Skew:                          -1.193   Prob(JB):                         0.00\n",
      "Kurtosis:                       5.386   Cond. No.                         4.86\n",
      "==============================================================================\n",
      "\n",
      "Notes:\n",
      "[1] Standard Errors assume that the covariance matrix of the errors is correctly specified.\n"
     ]
    }
   ],
   "source": [
    "print(model2.summary())"
   ]
  },
  {
   "cell_type": "raw",
   "metadata": {},
   "source": [
    "For each additional day that an order takes to deliver above expected, the reveiw_score on average is reduced by 0.07.\n",
    "A delivery within the expected days should receive a score of 4.20.\n",
    "7.3% of the review_score is explained by the variance of delay_vs_expected.\n",
    "The ralationship between review_score and delay_vs_expected is statiscally significant (P = p_value < 0.05)"
   ]
  },
  {
   "cell_type": "markdown",
   "metadata": {},
   "source": [
    "## 2 - Multivariate regression"
   ]
  },
  {
   "cell_type": "markdown",
   "metadata": {},
   "source": [
    "❓ What is the impact on `review_score` of adding one day of `delay_vs_expected` to the order, **holding `wait_time` constant**? Which of the two features is the most explicative for the low `review_score`?\n",
    "\n",
    "For that purpose, run an OLS model `model3` where both `wait_time` and `delay_vs_expected` are the features (independent variables), and `review_score` is the target (dependent variable)"
   ]
  },
  {
   "cell_type": "code",
   "execution_count": 16,
   "metadata": {},
   "outputs": [],
   "source": [
    "model3 = smf.ols(formula = 'review_score ~ wait_time + delay_vs_expected', data=orders).fit()"
   ]
  },
  {
   "cell_type": "code",
   "execution_count": 17,
   "metadata": {
    "scrolled": false
   },
   "outputs": [
    {
     "name": "stdout",
     "output_type": "stream",
     "text": [
      "                            OLS Regression Results                            \n",
      "==============================================================================\n",
      "Dep. Variable:           review_score   R-squared:                       0.115\n",
      "Model:                            OLS   Adj. R-squared:                  0.114\n",
      "Method:                 Least Squares   F-statistic:                     6241.\n",
      "Date:                Wed, 05 May 2021   Prob (F-statistic):               0.00\n",
      "Time:                        15:51:35   Log-Likelihood:            -1.5618e+05\n",
      "No. Observations:               96525   AIC:                         3.124e+05\n",
      "Df Residuals:                   96522   BIC:                         3.124e+05\n",
      "Df Model:                           2                                         \n",
      "Covariance Type:            nonrobust                                         \n",
      "=====================================================================================\n",
      "                        coef    std err          t      P>|t|      [0.025      0.975]\n",
      "-------------------------------------------------------------------------------------\n",
      "Intercept             4.6274      0.008    614.694      0.000       4.613       4.642\n",
      "wait_time            -0.0390      0.001    -67.084      0.000      -0.040      -0.038\n",
      "delay_vs_expected    -0.0187      0.001    -15.942      0.000      -0.021      -0.016\n",
      "==============================================================================\n",
      "Omnibus:                    19537.429   Durbin-Watson:                   2.008\n",
      "Prob(Omnibus):                  0.000   Jarque-Bera (JB):            37974.648\n",
      "Skew:                          -1.237   Prob(JB):                         0.00\n",
      "Kurtosis:                       4.823   Cond. No.                         30.2\n",
      "==============================================================================\n",
      "\n",
      "Notes:\n",
      "[1] Standard Errors assume that the covariance matrix of the errors is correctly specified.\n"
     ]
    }
   ],
   "source": [
    "print(model3.summary())"
   ]
  },
  {
   "cell_type": "code",
   "execution_count": 18,
   "metadata": {},
   "outputs": [
    {
     "data": {
      "text/plain": [
       "Intercept            4.627382\n",
       "wait_time           -0.038964\n",
       "delay_vs_expected   -0.018666\n",
       "dtype: float64"
      ]
     },
     "execution_count": 18,
     "metadata": {},
     "output_type": "execute_result"
    }
   ],
   "source": [
    "model3.params"
   ]
  },
  {
   "cell_type": "markdown",
   "metadata": {},
   "source": [
    "----\n",
    "❓Our multivariate regression allows us to isolate the impact of one feature, while controlling the effect of other features. These new coefficients are called **partial correlation** coefficients. Can you notice the difference with the **simple regression** coeffients computed with seaborn above? What can you say about the relative slopes for `wait_time` and `delay_vs_expected`? \n"
   ]
  },
  {
   "cell_type": "raw",
   "metadata": {},
   "source": [
    "The partial correlations are smaller than the simple regression coefficients. ==> See Solution"
   ]
  },
  {
   "cell_type": "markdown",
   "metadata": {},
   "source": [
    "<details>\n",
    "    <summary>💡 Solution</summary>\n",
    "\n",
    "- Holding `wait_time` constant, each additional day of `delay` reduces the review_score on average by 0.0191 [0.017 - 0.21] points\n",
    "- Holding `delay` constant, each additional day of `wait_time` reduces the review_score on average by 0.0388 points \n",
    "\n",
    "Contrary to what was found with the simple bivariate correlation analysis, `delay` is actually less impactful than `wait_time` in driving lower `review_score`! This interesting finding demonstrates the importance of multi-variate regression to remove the potential impact of confounding factors"
   ]
  },
  {
   "cell_type": "markdown",
   "metadata": {},
   "source": [
    "---\n",
    "❓ R-squared is quite low: no more than 12% of the variation of review_score is explained by the combined variations of `wait_time` and `delay_vs_expected`. Let's try to add more features to our regression to improve explainability.\n",
    "\n",
    "- Create a new OLS `model4` with more features from `orders` dataset.\n",
    "    - Do not create **data leaks**: do not add features that are directly derived from the `review_score`\n",
    "    - Do not add two features perfectly colinear with each other\n",
    "    - Transform each feature $X_i$ into its respective z-score $Z_i = \\frac{X_i - \\mu_i}{\\sigma_i}$ in order to compare the partial regression coefficients $\\beta_i$ together. Otherwise, the $\\beta_i$ are not of the same dimension, meaning you'll be comparing apples (e.g. \"review_stars per day\") with oranges (e.g. \"review_stars per BRL\")!"
   ]
  },
  {
   "cell_type": "code",
   "execution_count": 19,
   "metadata": {},
   "outputs": [
    {
     "data": {
      "text/html": [
       "<div>\n",
       "<style scoped>\n",
       "    .dataframe tbody tr th:only-of-type {\n",
       "        vertical-align: middle;\n",
       "    }\n",
       "\n",
       "    .dataframe tbody tr th {\n",
       "        vertical-align: top;\n",
       "    }\n",
       "\n",
       "    .dataframe thead th {\n",
       "        text-align: right;\n",
       "    }\n",
       "</style>\n",
       "<table border=\"1\" class=\"dataframe\">\n",
       "  <thead>\n",
       "    <tr style=\"text-align: right;\">\n",
       "      <th></th>\n",
       "      <th>review_score</th>\n",
       "      <th>wait_time</th>\n",
       "      <th>delay_vs_expected</th>\n",
       "      <th>number_of_products</th>\n",
       "      <th>distance_seller_customer</th>\n",
       "    </tr>\n",
       "  </thead>\n",
       "  <tbody>\n",
       "    <tr>\n",
       "      <th>0</th>\n",
       "      <td>4</td>\n",
       "      <td>8.0</td>\n",
       "      <td>0.0</td>\n",
       "      <td>1</td>\n",
       "      <td>18.063837</td>\n",
       "    </tr>\n",
       "    <tr>\n",
       "      <th>1</th>\n",
       "      <td>4</td>\n",
       "      <td>13.0</td>\n",
       "      <td>0.0</td>\n",
       "      <td>1</td>\n",
       "      <td>856.292580</td>\n",
       "    </tr>\n",
       "    <tr>\n",
       "      <th>2</th>\n",
       "      <td>5</td>\n",
       "      <td>9.0</td>\n",
       "      <td>0.0</td>\n",
       "      <td>1</td>\n",
       "      <td>514.130333</td>\n",
       "    </tr>\n",
       "  </tbody>\n",
       "</table>\n",
       "</div>"
      ],
      "text/plain": [
       "   review_score  wait_time  delay_vs_expected  number_of_products  \\\n",
       "0             4        8.0                0.0                   1   \n",
       "1             4       13.0                0.0                   1   \n",
       "2             5        9.0                0.0                   1   \n",
       "\n",
       "   distance_seller_customer  \n",
       "0                 18.063837  \n",
       "1                856.292580  \n",
       "2                514.130333  "
      ]
     },
     "execution_count": 19,
     "metadata": {},
     "output_type": "execute_result"
    }
   ],
   "source": [
    "# Select features\n",
    "selected_orders_features = orders[['review_score','wait_time','delay_vs_expected','number_of_products','distance_seller_customer']]\n",
    "selected_orders_features.head(3)"
   ]
  },
  {
   "cell_type": "code",
   "execution_count": 20,
   "metadata": {
    "scrolled": false
   },
   "outputs": [
    {
     "data": {
      "text/html": [
       "<div>\n",
       "<style scoped>\n",
       "    .dataframe tbody tr th:only-of-type {\n",
       "        vertical-align: middle;\n",
       "    }\n",
       "\n",
       "    .dataframe tbody tr th {\n",
       "        vertical-align: top;\n",
       "    }\n",
       "\n",
       "    .dataframe thead th {\n",
       "        text-align: right;\n",
       "    }\n",
       "</style>\n",
       "<table border=\"1\" class=\"dataframe\">\n",
       "  <thead>\n",
       "    <tr style=\"text-align: right;\">\n",
       "      <th></th>\n",
       "      <th>review_score</th>\n",
       "      <th>wait_time</th>\n",
       "      <th>delay_vs_expected</th>\n",
       "      <th>number_of_products</th>\n",
       "      <th>distance_seller_customer</th>\n",
       "    </tr>\n",
       "  </thead>\n",
       "  <tbody>\n",
       "    <tr>\n",
       "      <th>0</th>\n",
       "      <td>-0.109509</td>\n",
       "      <td>-0.428548</td>\n",
       "      <td>-0.161476</td>\n",
       "      <td>-0.264005</td>\n",
       "      <td>-0.979472</td>\n",
       "    </tr>\n",
       "    <tr>\n",
       "      <th>1</th>\n",
       "      <td>-0.109509</td>\n",
       "      <td>0.095254</td>\n",
       "      <td>-0.161476</td>\n",
       "      <td>-0.264005</td>\n",
       "      <td>0.428811</td>\n",
       "    </tr>\n",
       "    <tr>\n",
       "      <th>2</th>\n",
       "      <td>0.661655</td>\n",
       "      <td>-0.323787</td>\n",
       "      <td>-0.161476</td>\n",
       "      <td>-0.264005</td>\n",
       "      <td>-0.146046</td>\n",
       "    </tr>\n",
       "  </tbody>\n",
       "</table>\n",
       "</div>"
      ],
      "text/plain": [
       "   review_score  wait_time  delay_vs_expected  number_of_products  \\\n",
       "0     -0.109509  -0.428548          -0.161476           -0.264005   \n",
       "1     -0.109509   0.095254          -0.161476           -0.264005   \n",
       "2      0.661655  -0.323787          -0.161476           -0.264005   \n",
       "\n",
       "   distance_seller_customer  \n",
       "0                 -0.979472  \n",
       "1                  0.428811  \n",
       "2                 -0.146046  "
      ]
     },
     "execution_count": 20,
     "metadata": {},
     "output_type": "execute_result"
    }
   ],
   "source": [
    "# standardize features (transform them into their respective z-scores)\n",
    "from scipy import stats\n",
    "selected_orders_features = selected_orders_features.apply(stats.zscore)\n",
    "selected_orders_features.head(3)"
   ]
  },
  {
   "cell_type": "code",
   "execution_count": 21,
   "metadata": {},
   "outputs": [
    {
     "data": {
      "text/plain": [
       "array([-0.97947164,  0.4288106 , -0.14604563, ...,  0.6165728 ,\n",
       "       -0.38794783,  0.05167743])"
      ]
     },
     "execution_count": 21,
     "metadata": {},
     "output_type": "execute_result"
    }
   ],
   "source": [
    "stats.zscore(selected_orders_features['distance_seller_customer'])"
   ]
  },
  {
   "cell_type": "code",
   "execution_count": 22,
   "metadata": {},
   "outputs": [],
   "source": [
    "# Create and train model4\n",
    "model4 = smf.ols(formula = 'review_score ~ wait_time + delay_vs_expected + \\\n",
    "                            number_of_products + distance_seller_customer',\\\n",
    "                    data = selected_orders_features).fit()"
   ]
  },
  {
   "cell_type": "code",
   "execution_count": 23,
   "metadata": {},
   "outputs": [
    {
     "name": "stdout",
     "output_type": "stream",
     "text": [
      "                            OLS Regression Results                            \n",
      "==============================================================================\n",
      "Dep. Variable:           review_score   R-squared:                       0.136\n",
      "Model:                            OLS   Adj. R-squared:                  0.136\n",
      "Method:                 Least Squares   F-statistic:                     3794.\n",
      "Date:                Wed, 05 May 2021   Prob (F-statistic):               0.00\n",
      "Time:                        15:51:36   Log-Likelihood:            -1.2992e+05\n",
      "No. Observations:               96525   AIC:                         2.598e+05\n",
      "Df Residuals:                   96520   BIC:                         2.599e+05\n",
      "Df Model:                           4                                         \n",
      "Covariance Type:            nonrobust                                         \n",
      "============================================================================================\n",
      "                               coef    std err          t      P>|t|      [0.025      0.975]\n",
      "--------------------------------------------------------------------------------------------\n",
      "Intercept                 1.557e-16      0.003    5.2e-14      1.000      -0.006       0.006\n",
      "wait_time                   -0.3413      0.005    -70.430      0.000      -0.351      -0.332\n",
      "delay_vs_expected           -0.0364      0.004     -8.156      0.000      -0.045      -0.028\n",
      "number_of_products          -0.1301      0.003    -43.462      0.000      -0.136      -0.124\n",
      "distance_seller_customer     0.0751      0.003     21.835      0.000       0.068       0.082\n",
      "==============================================================================\n",
      "Omnibus:                    18345.991   Durbin-Watson:                   2.010\n",
      "Prob(Omnibus):                  0.000   Jarque-Bera (JB):            34957.181\n",
      "Skew:                          -1.174   Prob(JB):                         0.00\n",
      "Kurtosis:                       4.782   Cond. No.                         2.90\n",
      "==============================================================================\n",
      "\n",
      "Notes:\n",
      "[1] Standard Errors assume that the covariance matrix of the errors is correctly specified.\n"
     ]
    }
   ],
   "source": [
    "print(model4.summary())"
   ]
  },
  {
   "cell_type": "markdown",
   "metadata": {},
   "source": [
    "---\n",
    "❓ What are the most important features? (make a bar chart to visualize them well)\n",
    "- How has the overall regression performance changed?\n",
    "- Is this regression statistically significant?"
   ]
  },
  {
   "cell_type": "code",
   "execution_count": 24,
   "metadata": {},
   "outputs": [],
   "source": [
    "#selected_orders_features.plot(kind='bar')"
   ]
  },
  {
   "cell_type": "markdown",
   "metadata": {},
   "source": [
    "<details>\n",
    "    <summary>💡Explanations</summary>\n",
    "    \n",
    "\n",
    "- `wait_time` is the biggest explanatory variable\n",
    "- The more `products` and `sellers` there are for a single order, the lower the `review_score`. \n",
    "- Distance also plays a role.\n",
    "- Depending on your choice of feature, you may not be able to conclude anything about `price` and `freight_value` if their p-values are too high\n",
    "    \n",
    "- Overall, this multivariate regression remains statistically significant, because its F-statistics are much greater than 1 (at least one feature has a very low p-value)\n",
    "\n",
    "- R-squared hasn't increased by much. Most of the explanability of review_score lies outside of the orders dataset.\n",
    "\n",
    "Low R-squared is common when the number of observations (n) is much higher than the number of features (p). Relevant insights can still be derived from such regressions, provided they are statistically significant\n",
    "</details>\n",
    "\n"
   ]
  },
  {
   "cell_type": "markdown",
   "metadata": {},
   "source": [
    "## 3 - Check model performance"
   ]
  },
  {
   "cell_type": "markdown",
   "metadata": {},
   "source": [
    "Regression performance should not be measured only by it's R-squared!  \n",
    "Always visualize the distribution of the predictions, and especially the residuals.\n",
    "\n",
    "❓ Compute the residuals, notice how their mean is equal to 0 (always the case in linear regression), and compute the associated RMSE.   \n",
    "Plot the `residuals` in a histogram."
   ]
  },
  {
   "cell_type": "code",
   "execution_count": 36,
   "metadata": {},
   "outputs": [
    {
     "name": "stdout",
     "output_type": "stream",
     "text": [
      "Mean of residuals = -3.820478423822761e-17\n"
     ]
    },
    {
     "data": {
      "text/plain": [
       "(0        0.222403\n",
       " 1        0.149433\n",
       " 2       -0.521909\n",
       " 3       -0.499760\n",
       " 4       -0.332731\n",
       "            ...   \n",
       " 96528   -0.542272\n",
       " 96529   -0.220551\n",
       " 96530   -1.000880\n",
       " 96531    1.246759\n",
       " 96532   -0.435557\n",
       " Length: 96525, dtype: float64,\n",
       " None)"
      ]
     },
     "execution_count": 36,
     "metadata": {},
     "output_type": "execute_result"
    }
   ],
   "source": [
    "predicted_review_score = model4.predict(selected_orders_features)\n",
    "residuals = predicted_review_score - selected_orders_features['review_score']\n",
    "residuals, print(f'Mean of residuals = {residuals.mean()}')"
   ]
  },
  {
   "cell_type": "code",
   "execution_count": 34,
   "metadata": {},
   "outputs": [
    {
     "data": {
      "text/plain": [
       "<AxesSubplot:ylabel='Count'>"
      ]
     },
     "execution_count": 34,
     "metadata": {},
     "output_type": "execute_result"
    },
    {
     "data": {
      "image/png": "[encoded data removed]",
      "text/plain": [
       "<Figure size 432x288 with 1 Axes>"
      ]
     },
     "metadata": {
      "needs_background": "light"
     },
     "output_type": "display_data"
    }
   ],
   "source": [
    "# visual check\n",
    "sns.histplot(residuals, kde=True, edgecolor='w')"
   ]
  },
  {
   "cell_type": "markdown",
   "metadata": {},
   "source": [
    "❓ Can you guess why the residual distplot is such a strange shape? To understand, plot on the same axis the histogram of `review_score` as well as that of the `predicted_review_score` for each row of the dataset"
   ]
  },
  {
   "cell_type": "code",
   "execution_count": 44,
   "metadata": {},
   "outputs": [
    {
     "data": {
      "text/plain": [
       "Text(0.5, 1.0, 'Review_score')"
      ]
     },
     "execution_count": 44,
     "metadata": {},
     "output_type": "execute_result"
    },
    {
     "data": {
      "image/png": "[encoded data removed]",
      "text/plain": [
       "<Figure size 936x504 with 2 Axes>"
      ]
     },
     "metadata": {
      "needs_background": "light"
     },
     "output_type": "display_data"
    }
   ],
   "source": [
    "plt.figure(figsize=(13,7))\n",
    "plt.suptitle('predicted_eview_score vs. review_score')\n",
    "\n",
    "plt.subplot(1,2,1)\n",
    "sns.histplot(predicted_review_score, kde=False, edgecolor='w')\n",
    "plt.title(\"Predicted_review_score\")\n",
    "\n",
    "plt.subplot(1,2,2)\n",
    "sns.histplot(selected_orders_features['review_score'], kde=False, edgecolor='w')\n",
    "plt.title(\"Review_score\")"
   ]
  },
  {
   "cell_type": "markdown",
   "metadata": {},
   "source": [
    "<details>\n",
    "    <summary>💡Explanations</summary>\n",
    "\n",
    "☝️ Our model is not so great, for two reasons\n",
    "- First, because we don't have enough features to explain a significant proportion of the review_scores (low R-squared)\n",
    "- Secondly, because we are trying to fit a \"linear regression\" function to a discreet classification problem\n",
    "\n",
    "Tomorrow, you will discover a new model: the logistic regression classifier\n",
    "    \n",
    "</details>"
   ]
  },
  {
   "cell_type": "markdown",
   "metadata": {},
   "source": [
    "🏁 Great job! Don't forget to *save*, *commit* and *push* this notebook when you are done"
   ]
  }
 ],
 "metadata": {
  "kernelspec": {
   "display_name": "Python 3",
   "language": "python",
   "name": "python3"
  },
  "language_info": {
   "codemirror_mode": {
    "name": "ipython",
    "version": 3
   },
   "file_extension": ".py",
   "mimetype": "text/x-python",
   "name": "python",
   "nbconvert_exporter": "python",
   "pygments_lexer": "ipython3",
   "version": "3.8.6"
  },
  "toc": {
   "base_numbering": 1,
   "nav_menu": {},
   "number_sections": false,
   "sideBar": true,
   "skip_h1_title": false,
   "title_cell": "Table of Contents",
   "title_sidebar": "Contents",
   "toc_cell": false,
   "toc_position": {
    "height": "calc(100% - 180px)",
    "left": "10px",
    "top": "150px",
    "width": "384px"
   },
   "toc_section_display": true,
   "toc_window_display": false
  },
  "varInspector": {
   "cols": {
    "lenName": 16,
    "lenType": 16,
    "lenVar": 40
   },
   "kernels_config": {
    "python": {
     "delete_cmd_postfix": "",
     "delete_cmd_prefix": "del ",
     "library": "var_list.py",
     "varRefreshCmd": "print(var_dic_list())"
    },
    "r": {
     "delete_cmd_postfix": ") ",
     "delete_cmd_prefix": "rm(",
     "library": "var_list.r",
     "varRefreshCmd": "cat(var_dic_list()) "
    }
   },
   "types_to_exclude": [
    "module",
    "function",
    "builtin_function_or_method",
    "instance",
    "_Feature"
   ],
   "window_display": false
  }
 },
 "nbformat": 4,
 "nbformat_minor": 4
}
