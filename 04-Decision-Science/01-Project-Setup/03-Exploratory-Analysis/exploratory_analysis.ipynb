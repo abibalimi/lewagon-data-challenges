{
 "cells": [
  {
   "cell_type": "markdown",
   "metadata": {},
   "source": [
    "# Exploratory Analysis"
   ]
  },
  {
   "cell_type": "code",
   "execution_count": 1,
   "metadata": {},
   "outputs": [],
   "source": [
    "%load_ext autoreload\n",
    "%autoreload 2"
   ]
  },
  {
   "cell_type": "code",
   "execution_count": 2,
   "metadata": {},
   "outputs": [],
   "source": [
    "from olist.data import Olist\n",
    "data = Olist().get_data()"
   ]
  },
  {
   "cell_type": "markdown",
   "metadata": {},
   "source": [
    "### 1 - Run an exploratory analysis with [pandas profiling](https://github.com/pandas-profiling/pandas-profiling)"
   ]
  },
  {
   "cell_type": "code",
   "execution_count": 3,
   "metadata": {
    "collapsed": true
   },
   "outputs": [
    {
     "name": "stdout",
     "output_type": "stream",
     "text": [
      "Requirement already satisfied: pandas-profiling in /Users/smrack/.pyenv/versions/3.8.6/envs/lewagon/lib/python3.8/site-packages (2.11.0)\n",
      "Requirement already satisfied: pandas!=1.0.0,!=1.0.1,!=1.0.2,!=1.1.0,>=0.25.3 in /Users/smrack/.pyenv/versions/3.8.6/envs/lewagon/lib/python3.8/site-packages (from pandas-profiling) (1.2.4)\n",
      "Requirement already satisfied: confuse>=1.0.0 in /Users/smrack/.pyenv/versions/3.8.6/envs/lewagon/lib/python3.8/site-packages (from pandas-profiling) (1.4.0)\n",
      "Requirement already satisfied: numpy>=1.16.0 in /Users/smrack/.pyenv/versions/3.8.6/envs/lewagon/lib/python3.8/site-packages (from pandas-profiling) (1.19.5)\n",
      "Requirement already satisfied: scipy>=1.4.1 in /Users/smrack/.pyenv/versions/3.8.6/envs/lewagon/lib/python3.8/site-packages (from pandas-profiling) (1.6.2)\n",
      "Requirement already satisfied: matplotlib>=3.2.0 in /Users/smrack/.pyenv/versions/3.8.6/envs/lewagon/lib/python3.8/site-packages (from pandas-profiling) (3.4.1)\n",
      "Requirement already satisfied: jinja2>=2.11.1 in /Users/smrack/.pyenv/versions/3.8.6/envs/lewagon/lib/python3.8/site-packages (from pandas-profiling) (2.11.3)\n",
      "Requirement already satisfied: attrs>=19.3.0 in /Users/smrack/.pyenv/versions/3.8.6/envs/lewagon/lib/python3.8/site-packages (from pandas-profiling) (20.3.0)\n",
      "Requirement already satisfied: missingno>=0.4.2 in /Users/smrack/.pyenv/versions/3.8.6/envs/lewagon/lib/python3.8/site-packages (from pandas-profiling) (0.4.2)\n",
      "Requirement already satisfied: tangled-up-in-unicode>=0.0.6 in /Users/smrack/.pyenv/versions/3.8.6/envs/lewagon/lib/python3.8/site-packages (from pandas-profiling) (0.0.7)\n",
      "Requirement already satisfied: tqdm>=4.48.2 in /Users/smrack/.pyenv/versions/3.8.6/envs/lewagon/lib/python3.8/site-packages (from pandas-profiling) (4.60.0)\n",
      "Requirement already satisfied: seaborn>=0.10.1 in /Users/smrack/.pyenv/versions/3.8.6/envs/lewagon/lib/python3.8/site-packages (from pandas-profiling) (0.11.1)\n",
      "Requirement already satisfied: ipywidgets>=7.5.1 in /Users/smrack/.pyenv/versions/3.8.6/envs/lewagon/lib/python3.8/site-packages (from pandas-profiling) (7.6.3)\n",
      "Requirement already satisfied: visions[type_image_path]==0.6.0 in /Users/smrack/.pyenv/versions/3.8.6/envs/lewagon/lib/python3.8/site-packages (from pandas-profiling) (0.6.0)\n",
      "Requirement already satisfied: requests>=2.24.0 in /Users/smrack/.pyenv/versions/3.8.6/envs/lewagon/lib/python3.8/site-packages (from pandas-profiling) (2.25.1)\n",
      "Requirement already satisfied: joblib in /Users/smrack/.pyenv/versions/3.8.6/envs/lewagon/lib/python3.8/site-packages (from pandas-profiling) (1.0.1)\n",
      "Requirement already satisfied: htmlmin>=0.1.12 in /Users/smrack/.pyenv/versions/3.8.6/envs/lewagon/lib/python3.8/site-packages (from pandas-profiling) (0.1.12)\n",
      "Requirement already satisfied: phik>=0.10.0 in /Users/smrack/.pyenv/versions/3.8.6/envs/lewagon/lib/python3.8/site-packages (from pandas-profiling) (0.11.2)\n",
      "Requirement already satisfied: networkx>=2.4 in /Users/smrack/.pyenv/versions/3.8.6/envs/lewagon/lib/python3.8/site-packages (from visions[type_image_path]==0.6.0->pandas-profiling) (2.5.1)\n",
      "Requirement already satisfied: Pillow in /Users/smrack/.pyenv/versions/3.8.6/envs/lewagon/lib/python3.8/site-packages (from visions[type_image_path]==0.6.0->pandas-profiling) (8.2.0)\n",
      "Requirement already satisfied: imagehash in /Users/smrack/.pyenv/versions/3.8.6/envs/lewagon/lib/python3.8/site-packages (from visions[type_image_path]==0.6.0->pandas-profiling) (4.2.0)\n",
      "Requirement already satisfied: pyyaml in /Users/smrack/.pyenv/versions/3.8.6/envs/lewagon/lib/python3.8/site-packages (from confuse>=1.0.0->pandas-profiling) (5.4.1)\n",
      "Requirement already satisfied: ipython>=4.0.0 in /Users/smrack/.pyenv/versions/3.8.6/envs/lewagon/lib/python3.8/site-packages (from ipywidgets>=7.5.1->pandas-profiling) (7.22.0)\n",
      "Requirement already satisfied: traitlets>=4.3.1 in /Users/smrack/.pyenv/versions/3.8.6/envs/lewagon/lib/python3.8/site-packages (from ipywidgets>=7.5.1->pandas-profiling) (5.0.5)\n",
      "Requirement already satisfied: widgetsnbextension~=3.5.0 in /Users/smrack/.pyenv/versions/3.8.6/envs/lewagon/lib/python3.8/site-packages (from ipywidgets>=7.5.1->pandas-profiling) (3.5.1)\n",
      "Requirement already satisfied: jupyterlab-widgets>=1.0.0 in /Users/smrack/.pyenv/versions/3.8.6/envs/lewagon/lib/python3.8/site-packages (from ipywidgets>=7.5.1->pandas-profiling) (1.0.0)\n",
      "Requirement already satisfied: nbformat>=4.2.0 in /Users/smrack/.pyenv/versions/3.8.6/envs/lewagon/lib/python3.8/site-packages (from ipywidgets>=7.5.1->pandas-profiling) (5.1.3)\n",
      "Requirement already satisfied: ipykernel>=4.5.1 in /Users/smrack/.pyenv/versions/3.8.6/envs/lewagon/lib/python3.8/site-packages (from ipywidgets>=7.5.1->pandas-profiling) (5.5.3)\n",
      "Requirement already satisfied: appnope in /Users/smrack/.pyenv/versions/3.8.6/envs/lewagon/lib/python3.8/site-packages (from ipykernel>=4.5.1->ipywidgets>=7.5.1->pandas-profiling) (0.1.2)\n",
      "Requirement already satisfied: tornado>=4.2 in /Users/smrack/.pyenv/versions/3.8.6/envs/lewagon/lib/python3.8/site-packages (from ipykernel>=4.5.1->ipywidgets>=7.5.1->pandas-profiling) (6.1)\n",
      "Requirement already satisfied: jupyter-client in /Users/smrack/.pyenv/versions/3.8.6/envs/lewagon/lib/python3.8/site-packages (from ipykernel>=4.5.1->ipywidgets>=7.5.1->pandas-profiling) (6.1.12)\n",
      "Requirement already satisfied: backcall in /Users/smrack/.pyenv/versions/3.8.6/envs/lewagon/lib/python3.8/site-packages (from ipython>=4.0.0->ipywidgets>=7.5.1->pandas-profiling) (0.2.0)\n",
      "Requirement already satisfied: prompt-toolkit!=3.0.0,!=3.0.1,<3.1.0,>=2.0.0 in /Users/smrack/.pyenv/versions/3.8.6/envs/lewagon/lib/python3.8/site-packages (from ipython>=4.0.0->ipywidgets>=7.5.1->pandas-profiling) (3.0.18)\n",
      "Requirement already satisfied: pickleshare in /Users/smrack/.pyenv/versions/3.8.6/envs/lewagon/lib/python3.8/site-packages (from ipython>=4.0.0->ipywidgets>=7.5.1->pandas-profiling) (0.7.5)\n",
      "Requirement already satisfied: pygments in /Users/smrack/.pyenv/versions/3.8.6/envs/lewagon/lib/python3.8/site-packages (from ipython>=4.0.0->ipywidgets>=7.5.1->pandas-profiling) (2.8.1)\n",
      "Requirement already satisfied: pexpect>4.3 in /Users/smrack/.pyenv/versions/3.8.6/envs/lewagon/lib/python3.8/site-packages (from ipython>=4.0.0->ipywidgets>=7.5.1->pandas-profiling) (4.8.0)\n",
      "Requirement already satisfied: decorator in /Users/smrack/.pyenv/versions/3.8.6/envs/lewagon/lib/python3.8/site-packages (from ipython>=4.0.0->ipywidgets>=7.5.1->pandas-profiling) (4.4.2)\n",
      "Requirement already satisfied: jedi>=0.16 in /Users/smrack/.pyenv/versions/3.8.6/envs/lewagon/lib/python3.8/site-packages (from ipython>=4.0.0->ipywidgets>=7.5.1->pandas-profiling) (0.18.0)\n",
      "Requirement already satisfied: setuptools>=18.5 in /Users/smrack/.pyenv/versions/3.8.6/envs/lewagon/lib/python3.8/site-packages (from ipython>=4.0.0->ipywidgets>=7.5.1->pandas-profiling) (49.2.1)\n",
      "Requirement already satisfied: parso<0.9.0,>=0.8.0 in /Users/smrack/.pyenv/versions/3.8.6/envs/lewagon/lib/python3.8/site-packages (from jedi>=0.16->ipython>=4.0.0->ipywidgets>=7.5.1->pandas-profiling) (0.8.2)\n",
      "Requirement already satisfied: MarkupSafe>=0.23 in /Users/smrack/.pyenv/versions/3.8.6/envs/lewagon/lib/python3.8/site-packages (from jinja2>=2.11.1->pandas-profiling) (1.1.1)\n",
      "Requirement already satisfied: cycler>=0.10 in /Users/smrack/.pyenv/versions/3.8.6/envs/lewagon/lib/python3.8/site-packages (from matplotlib>=3.2.0->pandas-profiling) (0.10.0)\n",
      "Requirement already satisfied: kiwisolver>=1.0.1 in /Users/smrack/.pyenv/versions/3.8.6/envs/lewagon/lib/python3.8/site-packages (from matplotlib>=3.2.0->pandas-profiling) (1.3.1)\n",
      "Requirement already satisfied: python-dateutil>=2.7 in /Users/smrack/.pyenv/versions/3.8.6/envs/lewagon/lib/python3.8/site-packages (from matplotlib>=3.2.0->pandas-profiling) (2.8.1)\n",
      "Requirement already satisfied: pyparsing>=2.2.1 in /Users/smrack/.pyenv/versions/3.8.6/envs/lewagon/lib/python3.8/site-packages (from matplotlib>=3.2.0->pandas-profiling) (2.4.7)\n",
      "Requirement already satisfied: six in /Users/smrack/.pyenv/versions/3.8.6/envs/lewagon/lib/python3.8/site-packages (from cycler>=0.10->matplotlib>=3.2.0->pandas-profiling) (1.15.0)\n",
      "Requirement already satisfied: jsonschema!=2.5.0,>=2.4 in /Users/smrack/.pyenv/versions/3.8.6/envs/lewagon/lib/python3.8/site-packages (from nbformat>=4.2.0->ipywidgets>=7.5.1->pandas-profiling) (3.2.0)\n",
      "Requirement already satisfied: ipython-genutils in /Users/smrack/.pyenv/versions/3.8.6/envs/lewagon/lib/python3.8/site-packages (from nbformat>=4.2.0->ipywidgets>=7.5.1->pandas-profiling) (0.2.0)\n"
     ]
    },
    {
     "name": "stdout",
     "output_type": "stream",
     "text": [
      "Requirement already satisfied: jupyter-core in /Users/smrack/.pyenv/versions/3.8.6/envs/lewagon/lib/python3.8/site-packages (from nbformat>=4.2.0->ipywidgets>=7.5.1->pandas-profiling) (4.7.1)\n",
      "Requirement already satisfied: pyrsistent>=0.14.0 in /Users/smrack/.pyenv/versions/3.8.6/envs/lewagon/lib/python3.8/site-packages (from jsonschema!=2.5.0,>=2.4->nbformat>=4.2.0->ipywidgets>=7.5.1->pandas-profiling) (0.17.3)\n",
      "Requirement already satisfied: pytz>=2017.3 in /Users/smrack/.pyenv/versions/3.8.6/envs/lewagon/lib/python3.8/site-packages (from pandas!=1.0.0,!=1.0.1,!=1.0.2,!=1.1.0,>=0.25.3->pandas-profiling) (2021.1)\n",
      "Requirement already satisfied: ptyprocess>=0.5 in /Users/smrack/.pyenv/versions/3.8.6/envs/lewagon/lib/python3.8/site-packages (from pexpect>4.3->ipython>=4.0.0->ipywidgets>=7.5.1->pandas-profiling) (0.7.0)\n",
      "Requirement already satisfied: wcwidth in /Users/smrack/.pyenv/versions/3.8.6/envs/lewagon/lib/python3.8/site-packages (from prompt-toolkit!=3.0.0,!=3.0.1,<3.1.0,>=2.0.0->ipython>=4.0.0->ipywidgets>=7.5.1->pandas-profiling) (0.2.5)\n",
      "Requirement already satisfied: certifi>=2017.4.17 in /Users/smrack/.pyenv/versions/3.8.6/envs/lewagon/lib/python3.8/site-packages (from requests>=2.24.0->pandas-profiling) (2020.12.5)\n",
      "Requirement already satisfied: chardet<5,>=3.0.2 in /Users/smrack/.pyenv/versions/3.8.6/envs/lewagon/lib/python3.8/site-packages (from requests>=2.24.0->pandas-profiling) (4.0.0)\n",
      "Requirement already satisfied: idna<3,>=2.5 in /Users/smrack/.pyenv/versions/3.8.6/envs/lewagon/lib/python3.8/site-packages (from requests>=2.24.0->pandas-profiling) (2.10)\n",
      "Requirement already satisfied: urllib3<1.27,>=1.21.1 in /Users/smrack/.pyenv/versions/3.8.6/envs/lewagon/lib/python3.8/site-packages (from requests>=2.24.0->pandas-profiling) (1.26.4)\n",
      "Requirement already satisfied: notebook>=4.4.1 in /Users/smrack/.pyenv/versions/3.8.6/envs/lewagon/lib/python3.8/site-packages (from widgetsnbextension~=3.5.0->ipywidgets>=7.5.1->pandas-profiling) (6.3.0)\n",
      "Requirement already satisfied: Send2Trash>=1.5.0 in /Users/smrack/.pyenv/versions/3.8.6/envs/lewagon/lib/python3.8/site-packages (from notebook>=4.4.1->widgetsnbextension~=3.5.0->ipywidgets>=7.5.1->pandas-profiling) (1.5.0)\n",
      "Requirement already satisfied: pyzmq>=17 in /Users/smrack/.pyenv/versions/3.8.6/envs/lewagon/lib/python3.8/site-packages (from notebook>=4.4.1->widgetsnbextension~=3.5.0->ipywidgets>=7.5.1->pandas-profiling) (22.0.3)\n",
      "Requirement already satisfied: argon2-cffi in /Users/smrack/.pyenv/versions/3.8.6/envs/lewagon/lib/python3.8/site-packages (from notebook>=4.4.1->widgetsnbextension~=3.5.0->ipywidgets>=7.5.1->pandas-profiling) (20.1.0)\n",
      "Requirement already satisfied: nbconvert in /Users/smrack/.pyenv/versions/3.8.6/envs/lewagon/lib/python3.8/site-packages (from notebook>=4.4.1->widgetsnbextension~=3.5.0->ipywidgets>=7.5.1->pandas-profiling) (6.0.7)\n",
      "Requirement already satisfied: terminado>=0.8.3 in /Users/smrack/.pyenv/versions/3.8.6/envs/lewagon/lib/python3.8/site-packages (from notebook>=4.4.1->widgetsnbextension~=3.5.0->ipywidgets>=7.5.1->pandas-profiling) (0.9.4)\n",
      "Requirement already satisfied: prometheus-client in /Users/smrack/.pyenv/versions/3.8.6/envs/lewagon/lib/python3.8/site-packages (from notebook>=4.4.1->widgetsnbextension~=3.5.0->ipywidgets>=7.5.1->pandas-profiling) (0.10.1)\n",
      "Requirement already satisfied: cffi>=1.0.0 in /Users/smrack/.pyenv/versions/3.8.6/envs/lewagon/lib/python3.8/site-packages (from argon2-cffi->notebook>=4.4.1->widgetsnbextension~=3.5.0->ipywidgets>=7.5.1->pandas-profiling) (1.14.5)\n",
      "Requirement already satisfied: pycparser in /Users/smrack/.pyenv/versions/3.8.6/envs/lewagon/lib/python3.8/site-packages (from cffi>=1.0.0->argon2-cffi->notebook>=4.4.1->widgetsnbextension~=3.5.0->ipywidgets>=7.5.1->pandas-profiling) (2.20)\n",
      "Requirement already satisfied: PyWavelets in /Users/smrack/.pyenv/versions/3.8.6/envs/lewagon/lib/python3.8/site-packages (from imagehash->visions[type_image_path]==0.6.0->pandas-profiling) (1.1.1)\n",
      "Requirement already satisfied: defusedxml in /Users/smrack/.pyenv/versions/3.8.6/envs/lewagon/lib/python3.8/site-packages (from nbconvert->notebook>=4.4.1->widgetsnbextension~=3.5.0->ipywidgets>=7.5.1->pandas-profiling) (0.7.1)\n",
      "Requirement already satisfied: mistune<2,>=0.8.1 in /Users/smrack/.pyenv/versions/3.8.6/envs/lewagon/lib/python3.8/site-packages (from nbconvert->notebook>=4.4.1->widgetsnbextension~=3.5.0->ipywidgets>=7.5.1->pandas-profiling) (0.8.4)\n",
      "Requirement already satisfied: entrypoints>=0.2.2 in /Users/smrack/.pyenv/versions/3.8.6/envs/lewagon/lib/python3.8/site-packages (from nbconvert->notebook>=4.4.1->widgetsnbextension~=3.5.0->ipywidgets>=7.5.1->pandas-profiling) (0.3)\n",
      "Requirement already satisfied: pandocfilters>=1.4.1 in /Users/smrack/.pyenv/versions/3.8.6/envs/lewagon/lib/python3.8/site-packages (from nbconvert->notebook>=4.4.1->widgetsnbextension~=3.5.0->ipywidgets>=7.5.1->pandas-profiling) (1.4.3)\n",
      "Requirement already satisfied: testpath in /Users/smrack/.pyenv/versions/3.8.6/envs/lewagon/lib/python3.8/site-packages (from nbconvert->notebook>=4.4.1->widgetsnbextension~=3.5.0->ipywidgets>=7.5.1->pandas-profiling) (0.4.4)\n",
      "Requirement already satisfied: bleach in /Users/smrack/.pyenv/versions/3.8.6/envs/lewagon/lib/python3.8/site-packages (from nbconvert->notebook>=4.4.1->widgetsnbextension~=3.5.0->ipywidgets>=7.5.1->pandas-profiling) (3.3.0)\n",
      "Requirement already satisfied: nbclient<0.6.0,>=0.5.0 in /Users/smrack/.pyenv/versions/3.8.6/envs/lewagon/lib/python3.8/site-packages (from nbconvert->notebook>=4.4.1->widgetsnbextension~=3.5.0->ipywidgets>=7.5.1->pandas-profiling) (0.5.3)\n",
      "Requirement already satisfied: jupyterlab-pygments in /Users/smrack/.pyenv/versions/3.8.6/envs/lewagon/lib/python3.8/site-packages (from nbconvert->notebook>=4.4.1->widgetsnbextension~=3.5.0->ipywidgets>=7.5.1->pandas-profiling) (0.1.2)\n",
      "Requirement already satisfied: nest-asyncio in /Users/smrack/.pyenv/versions/3.8.6/envs/lewagon/lib/python3.8/site-packages (from nbclient<0.6.0,>=0.5.0->nbconvert->notebook>=4.4.1->widgetsnbextension~=3.5.0->ipywidgets>=7.5.1->pandas-profiling) (1.5.1)\n",
      "Requirement already satisfied: async-generator in /Users/smrack/.pyenv/versions/3.8.6/envs/lewagon/lib/python3.8/site-packages (from nbclient<0.6.0,>=0.5.0->nbconvert->notebook>=4.4.1->widgetsnbextension~=3.5.0->ipywidgets>=7.5.1->pandas-profiling) (1.10)\n",
      "Requirement already satisfied: packaging in /Users/smrack/.pyenv/versions/3.8.6/envs/lewagon/lib/python3.8/site-packages (from bleach->nbconvert->notebook>=4.4.1->widgetsnbextension~=3.5.0->ipywidgets>=7.5.1->pandas-profiling) (20.9)\n",
      "Requirement already satisfied: webencodings in /Users/smrack/.pyenv/versions/3.8.6/envs/lewagon/lib/python3.8/site-packages (from bleach->nbconvert->notebook>=4.4.1->widgetsnbextension~=3.5.0->ipywidgets>=7.5.1->pandas-profiling) (0.5.1)\n",
      "\u001b[33mWARNING: You are using pip version 21.0.1; however, version 21.1 is available.\n",
      "You should consider upgrading via the '/Users/smrack/.pyenv/versions/3.8.6/envs/lewagon/bin/python3.8 -m pip install --upgrade pip' command.\u001b[0m\n"
     ]
    }
   ],
   "source": [
    "# First, let's install the pandas-profiling package\n",
    "! pip install pandas-profiling"
   ]
  },
  {
   "cell_type": "code",
   "execution_count": 4,
   "metadata": {},
   "outputs": [
    {
     "name": "stdout",
     "output_type": "stream",
     "text": [
      "Requirement already satisfied: pip in /Users/smrack/.pyenv/versions/3.8.6/envs/lewagon/lib/python3.8/site-packages (21.0.1)\n",
      "Collecting pip\n",
      "  Downloading pip-21.1.1-py3-none-any.whl (1.5 MB)\n",
      "\u001b[K     |████████████████████████████████| 1.5 MB 2.3 MB/s eta 0:00:01\n",
      "\u001b[?25hInstalling collected packages: pip\n",
      "  Attempting uninstall: pip\n",
      "    Found existing installation: pip 21.0.1\n",
      "    Uninstalling pip-21.0.1:\n",
      "      Successfully uninstalled pip-21.0.1\n",
      "Successfully installed pip-21.1.1\n"
     ]
    }
   ],
   "source": [
    "! /Users/smrack/.pyenv/versions/3.8.6/envs/lewagon/bin/python3.8 -m pip install --upgrade pip"
   ]
  },
  {
   "cell_type": "code",
   "execution_count": 5,
   "metadata": {},
   "outputs": [],
   "source": [
    "# And create a new \"04-Decision-Science/reports\" folder \n",
    "!mkdir -p ../../data/reports"
   ]
  },
  {
   "cell_type": "code",
   "execution_count": 6,
   "metadata": {},
   "outputs": [],
   "source": [
    "import pandas_profiling\n",
    "datasets_to_profile = ['orders', 'products', 'sellers',\n",
    "                  'customers', 'order_reviews',\n",
    "                  'order_items']"
   ]
  },
  {
   "cell_type": "code",
   "execution_count": 7,
   "metadata": {},
   "outputs": [
    {
     "data": {
      "text/plain": [
       "['orders', 'products', 'sellers', 'customers', 'order_reviews', 'order_items']"
      ]
     },
     "execution_count": 7,
     "metadata": {},
     "output_type": "execute_result"
    }
   ],
   "source": [
    "datasets_to_profile"
   ]
  },
  {
   "cell_type": "code",
   "execution_count": 14,
   "metadata": {},
   "outputs": [
    {
     "data": {
      "application/vnd.jupyter.widget-view+json": {
       "model_id": "13e92c0b71b84731a59145f324b3212b",
       "version_major": 2,
       "version_minor": 0
      },
      "text/plain": [
       "Summarize dataset:   0%|          | 0/21 [00:00<?, ?it/s]"
      ]
     },
     "metadata": {},
     "output_type": "display_data"
    },
    {
     "data": {
      "application/vnd.jupyter.widget-view+json": {
       "model_id": "480ea77961f746929fcbbeb35984e671",
       "version_major": 2,
       "version_minor": 0
      },
      "text/plain": [
       "Generate report structure:   0%|          | 0/1 [00:00<?, ?it/s]"
      ]
     },
     "metadata": {},
     "output_type": "display_data"
    },
    {
     "data": {
      "application/vnd.jupyter.widget-view+json": {
       "model_id": "f97d84c877e144669ffb7dcc5187a058",
       "version_major": 2,
       "version_minor": 0
      },
      "text/plain": [
       "Render HTML:   0%|          | 0/1 [00:00<?, ?it/s]"
      ]
     },
     "metadata": {},
     "output_type": "display_data"
    },
    {
     "data": {
      "application/vnd.jupyter.widget-view+json": {
       "model_id": "00f933d6be2649eaadf2d0ac3f778b6e",
       "version_major": 2,
       "version_minor": 0
      },
      "text/plain": [
       "Export report to file:   0%|          | 0/1 [00:00<?, ?it/s]"
      ]
     },
     "metadata": {},
     "output_type": "display_data"
    },
    {
     "data": {
      "application/vnd.jupyter.widget-view+json": {
       "model_id": "07ce4753650d41a9ae953802ba9ea2ff",
       "version_major": 2,
       "version_minor": 0
      },
      "text/plain": [
       "Summarize dataset:   0%|          | 0/22 [00:00<?, ?it/s]"
      ]
     },
     "metadata": {},
     "output_type": "display_data"
    },
    {
     "data": {
      "application/vnd.jupyter.widget-view+json": {
       "model_id": "1956dc56f8dc42ec92a5b925395aa638",
       "version_major": 2,
       "version_minor": 0
      },
      "text/plain": [
       "Generate report structure:   0%|          | 0/1 [00:00<?, ?it/s]"
      ]
     },
     "metadata": {},
     "output_type": "display_data"
    },
    {
     "data": {
      "application/vnd.jupyter.widget-view+json": {
       "model_id": "8af86088dbee49d798d1eb22e742f8bf",
       "version_major": 2,
       "version_minor": 0
      },
      "text/plain": [
       "Render HTML:   0%|          | 0/1 [00:00<?, ?it/s]"
      ]
     },
     "metadata": {},
     "output_type": "display_data"
    },
    {
     "data": {
      "application/vnd.jupyter.widget-view+json": {
       "model_id": "097f1382c2f4424e943fb91b63010d8f",
       "version_major": 2,
       "version_minor": 0
      },
      "text/plain": [
       "Export report to file:   0%|          | 0/1 [00:00<?, ?it/s]"
      ]
     },
     "metadata": {},
     "output_type": "display_data"
    },
    {
     "data": {
      "application/vnd.jupyter.widget-view+json": {
       "model_id": "412450c39e2f48bbaa92bf190099cd4a",
       "version_major": 2,
       "version_minor": 0
      },
      "text/plain": [
       "Summarize dataset:   0%|          | 0/17 [00:00<?, ?it/s]"
      ]
     },
     "metadata": {},
     "output_type": "display_data"
    },
    {
     "data": {
      "application/vnd.jupyter.widget-view+json": {
       "model_id": "f879926a8145400d99fc3d24c0ab02a4",
       "version_major": 2,
       "version_minor": 0
      },
      "text/plain": [
       "Generate report structure:   0%|          | 0/1 [00:00<?, ?it/s]"
      ]
     },
     "metadata": {},
     "output_type": "display_data"
    },
    {
     "data": {
      "application/vnd.jupyter.widget-view+json": {
       "model_id": "e1874d2cfe594fd2949dc0acf80f82f7",
       "version_major": 2,
       "version_minor": 0
      },
      "text/plain": [
       "Render HTML:   0%|          | 0/1 [00:00<?, ?it/s]"
      ]
     },
     "metadata": {},
     "output_type": "display_data"
    },
    {
     "data": {
      "application/vnd.jupyter.widget-view+json": {
       "model_id": "9e9db745815b45d186a0929e43aaf216",
       "version_major": 2,
       "version_minor": 0
      },
      "text/plain": [
       "Export report to file:   0%|          | 0/1 [00:00<?, ?it/s]"
      ]
     },
     "metadata": {},
     "output_type": "display_data"
    },
    {
     "data": {
      "application/vnd.jupyter.widget-view+json": {
       "model_id": "a390fa3a2a1649a0b8ecc58864e107b4",
       "version_major": 2,
       "version_minor": 0
      },
      "text/plain": [
       "Summarize dataset:   0%|          | 0/18 [00:00<?, ?it/s]"
      ]
     },
     "metadata": {},
     "output_type": "display_data"
    },
    {
     "data": {
      "application/vnd.jupyter.widget-view+json": {
       "model_id": "874538555051441391112434d4b0437b",
       "version_major": 2,
       "version_minor": 0
      },
      "text/plain": [
       "Generate report structure:   0%|          | 0/1 [00:00<?, ?it/s]"
      ]
     },
     "metadata": {},
     "output_type": "display_data"
    },
    {
     "data": {
      "application/vnd.jupyter.widget-view+json": {
       "model_id": "ff741e60f81d41dd9b18f894f57be8b5",
       "version_major": 2,
       "version_minor": 0
      },
      "text/plain": [
       "Render HTML:   0%|          | 0/1 [00:00<?, ?it/s]"
      ]
     },
     "metadata": {},
     "output_type": "display_data"
    },
    {
     "data": {
      "application/vnd.jupyter.widget-view+json": {
       "model_id": "82762f8953a14dfeacd3f104459b70bd",
       "version_major": 2,
       "version_minor": 0
      },
      "text/plain": [
       "Export report to file:   0%|          | 0/1 [00:00<?, ?it/s]"
      ]
     },
     "metadata": {},
     "output_type": "display_data"
    },
    {
     "data": {
      "application/vnd.jupyter.widget-view+json": {
       "model_id": "5c4cc0298509434e81622b6c91c3c4f6",
       "version_major": 2,
       "version_minor": 0
      },
      "text/plain": [
       "Summarize dataset:   0%|          | 0/20 [00:00<?, ?it/s]"
      ]
     },
     "metadata": {},
     "output_type": "display_data"
    },
    {
     "data": {
      "application/vnd.jupyter.widget-view+json": {
       "model_id": "d3fb392db58d4c818078999df39c9303",
       "version_major": 2,
       "version_minor": 0
      },
      "text/plain": [
       "Generate report structure:   0%|          | 0/1 [00:00<?, ?it/s]"
      ]
     },
     "metadata": {},
     "output_type": "display_data"
    },
    {
     "data": {
      "application/vnd.jupyter.widget-view+json": {
       "model_id": "9959d7960fd741798c3b24f2e70e11ad",
       "version_major": 2,
       "version_minor": 0
      },
      "text/plain": [
       "Render HTML:   0%|          | 0/1 [00:00<?, ?it/s]"
      ]
     },
     "metadata": {},
     "output_type": "display_data"
    },
    {
     "data": {
      "application/vnd.jupyter.widget-view+json": {
       "model_id": "51ac551dada341bcb5cc686254bb540f",
       "version_major": 2,
       "version_minor": 0
      },
      "text/plain": [
       "Export report to file:   0%|          | 0/1 [00:00<?, ?it/s]"
      ]
     },
     "metadata": {},
     "output_type": "display_data"
    },
    {
     "data": {
      "application/vnd.jupyter.widget-view+json": {
       "model_id": "d557c65d8b804635a62cb977b5da86b1",
       "version_major": 2,
       "version_minor": 0
      },
      "text/plain": [
       "Summarize dataset:   0%|          | 0/20 [00:00<?, ?it/s]"
      ]
     },
     "metadata": {},
     "output_type": "display_data"
    },
    {
     "data": {
      "application/vnd.jupyter.widget-view+json": {
       "model_id": "5251c568204344a8b2b98794840a07ee",
       "version_major": 2,
       "version_minor": 0
      },
      "text/plain": [
       "Generate report structure:   0%|          | 0/1 [00:00<?, ?it/s]"
      ]
     },
     "metadata": {},
     "output_type": "display_data"
    },
    {
     "data": {
      "application/vnd.jupyter.widget-view+json": {
       "model_id": "4dade8ea611f485ba76be20f103cd24d",
       "version_major": 2,
       "version_minor": 0
      },
      "text/plain": [
       "Render HTML:   0%|          | 0/1 [00:00<?, ?it/s]"
      ]
     },
     "metadata": {},
     "output_type": "display_data"
    },
    {
     "data": {
      "application/vnd.jupyter.widget-view+json": {
       "model_id": "a6d40009d5294c35b4d487ded6266993",
       "version_major": 2,
       "version_minor": 0
      },
      "text/plain": [
       "Export report to file:   0%|          | 0/1 [00:00<?, ?it/s]"
      ]
     },
     "metadata": {},
     "output_type": "display_data"
    }
   ],
   "source": [
    "# YOUR CODE: Create and save one html report per dataset to profile (it takes some time to run!)\n",
    "for dataset in datasets_to_profile:\n",
    "    prof = pandas_profiling.ProfileReport(df = data[dataset])\n",
    "    prof.to_file(f'../../data/reports/{dataset}_profile.html')"
   ]
  },
  {
   "cell_type": "markdown",
   "metadata": {},
   "source": [
    "Take 10 min to read the reports, and feel free to add insights of your choice to your db.lewagon.org schema"
   ]
  },
  {
   "cell_type": "markdown",
   "metadata": {},
   "source": [
    "### 2 - Create a matching table"
   ]
  },
  {
   "cell_type": "markdown",
   "metadata": {},
   "source": [
    "Looking at our schema, it would be best to create a central `matching_table` that will join the most important foreign keys together, for later use\n",
    "\n",
    "❓Create the `matching_table`, a DataFrame with the following columns (below).  \n",
    "Use outer joins to make sure you don't lose any information at this stage."
   ]
  },
  {
   "cell_type": "code",
   "execution_count": 93,
   "metadata": {},
   "outputs": [],
   "source": [
    "columns_matching_table = [\n",
    "    \"order_id\",\n",
    "    \"review_id\",\n",
    "    \"customer_id\",\n",
    "    \"product_id\",\n",
    "    \"seller_id\",\n",
    "]"
   ]
  },
  {
   "cell_type": "code",
   "execution_count": 21,
   "metadata": {
    "collapsed": true
   },
   "outputs": [
    {
     "data": {
      "text/plain": [
       "{'sellers':                              seller_id  seller_zip_code_prefix  \\\n",
       " 0     3442f8959a84dea7ee197c632cb2df15                   13023   \n",
       " 1     d1b65fc7debc3361ea86b5f14c68d2e2                   13844   \n",
       " 2     ce3ad9de960102d0677a81f5d0bb7b2d                   20031   \n",
       " 3     c0f3eea2e14555b6faeea3dd58c1b1c3                    4195   \n",
       " 4     51a04a8a6bdcb23deccc82b0b80742cf                   12914   \n",
       " ...                                ...                     ...   \n",
       " 3090  98dddbc4601dd4443ca174359b237166                   87111   \n",
       " 3091  f8201cab383e484733266d1906e2fdfa                   88137   \n",
       " 3092  74871d19219c7d518d0090283e03c137                    4650   \n",
       " 3093  e603cf3fec55f8697c9059638d6c8eb5                   96080   \n",
       " 3094  9e25199f6ef7e7c347120ff175652c3b                   12051   \n",
       " \n",
       "             seller_city seller_state  \n",
       " 0              campinas           SP  \n",
       " 1            mogi guacu           SP  \n",
       " 2        rio de janeiro           RJ  \n",
       " 3             sao paulo           SP  \n",
       " 4     braganca paulista           SP  \n",
       " ...                 ...          ...  \n",
       " 3090            sarandi           PR  \n",
       " 3091            palhoca           SC  \n",
       " 3092          sao paulo           SP  \n",
       " 3093            pelotas           RS  \n",
       " 3094            taubate           SP  \n",
       " \n",
       " [3095 rows x 4 columns],\n",
       " 'product_category_name_translation':             product_category_name product_category_name_english\n",
       " 0                    beleza_saude                 health_beauty\n",
       " 1          informatica_acessorios         computers_accessories\n",
       " 2                      automotivo                          auto\n",
       " 3                 cama_mesa_banho                bed_bath_table\n",
       " 4                moveis_decoracao               furniture_decor\n",
       " ..                            ...                           ...\n",
       " 66                         flores                       flowers\n",
       " 67             artes_e_artesanato         arts_and_craftmanship\n",
       " 68                fraldas_higiene           diapers_and_hygiene\n",
       " 69  fashion_roupa_infanto_juvenil     fashion_childrens_clothes\n",
       " 70             seguros_e_servicos         security_and_services\n",
       " \n",
       " [71 rows x 2 columns],\n",
       " 'orders':                                order_id                       customer_id  \\\n",
       " 0      e481f51cbdc54678b7cc49136f2d6af7  9ef432eb6251297304e76186b10a928d   \n",
       " 1      53cdb2fc8bc7dce0b6741e2150273451  b0830fb4747a6c6d20dea0b8c802d7ef   \n",
       " 2      47770eb9100c2d0c44946d9cf07ec65d  41ce2a54c0b03bf3443c3d931a367089   \n",
       " 3      949d5b44dbf5de918fe9c16f97b45f8a  f88197465ea7920adcdbec7375364d82   \n",
       " 4      ad21c59c0840e6cb83a9ceb5573f8159  8ab97904e6daea8866dbdbc4fb7aad2c   \n",
       " ...                                 ...                               ...   \n",
       " 99436  9c5dedf39a927c1b2549525ed64a053c  39bd1228ee8140590ac3aca26f2dfe00   \n",
       " 99437  63943bddc261676b46f01ca7ac2f7bd8  1fca14ff2861355f6e5f14306ff977a7   \n",
       " 99438  83c1379a015df1e13d02aae0204711ab  1aa71eb042121263aafbe80c1b562c9c   \n",
       " 99439  11c177c8e97725db2631073c19f07b62  b331b74b18dc79bcdf6532d51e1637c1   \n",
       " 99440  66dea50a8b16d9b4dee7af250b4be1a5  edb027a75a1449115f6b43211ae02a24   \n",
       " \n",
       "       order_status order_purchase_timestamp    order_approved_at  \\\n",
       " 0        delivered      2017-10-02 10:56:33  2017-10-02 11:07:15   \n",
       " 1        delivered      2018-07-24 20:41:37  2018-07-26 03:24:27   \n",
       " 2        delivered      2018-08-08 08:38:49  2018-08-08 08:55:23   \n",
       " 3        delivered      2017-11-18 19:28:06  2017-11-18 19:45:59   \n",
       " 4        delivered      2018-02-13 21:18:39  2018-02-13 22:20:29   \n",
       " ...            ...                      ...                  ...   \n",
       " 99436    delivered      2017-03-09 09:54:05  2017-03-09 09:54:05   \n",
       " 99437    delivered      2018-02-06 12:58:58  2018-02-06 13:10:37   \n",
       " 99438    delivered      2017-08-27 14:46:43  2017-08-27 15:04:16   \n",
       " 99439    delivered      2018-01-08 21:28:27  2018-01-08 21:36:21   \n",
       " 99440    delivered      2018-03-08 20:57:30  2018-03-09 11:20:28   \n",
       " \n",
       "       order_delivered_carrier_date order_delivered_customer_date  \\\n",
       " 0              2017-10-04 19:55:00           2017-10-10 21:25:13   \n",
       " 1              2018-07-26 14:31:00           2018-08-07 15:27:45   \n",
       " 2              2018-08-08 13:50:00           2018-08-17 18:06:29   \n",
       " 3              2017-11-22 13:39:59           2017-12-02 00:28:42   \n",
       " 4              2018-02-14 19:46:34           2018-02-16 18:17:02   \n",
       " ...                            ...                           ...   \n",
       " 99436          2017-03-10 11:18:03           2017-03-17 15:08:01   \n",
       " 99437          2018-02-07 23:22:42           2018-02-28 17:37:56   \n",
       " 99438          2017-08-28 20:52:26           2017-09-21 11:24:17   \n",
       " 99439          2018-01-12 15:35:03           2018-01-25 23:32:54   \n",
       " 99440          2018-03-09 22:11:59           2018-03-16 13:08:30   \n",
       " \n",
       "       order_estimated_delivery_date  \n",
       " 0               2017-10-18 00:00:00  \n",
       " 1               2018-08-13 00:00:00  \n",
       " 2               2018-09-04 00:00:00  \n",
       " 3               2017-12-15 00:00:00  \n",
       " 4               2018-02-26 00:00:00  \n",
       " ...                             ...  \n",
       " 99436           2017-03-28 00:00:00  \n",
       " 99437           2018-03-02 00:00:00  \n",
       " 99438           2017-09-27 00:00:00  \n",
       " 99439           2018-02-15 00:00:00  \n",
       " 99440           2018-04-03 00:00:00  \n",
       " \n",
       " [99441 rows x 8 columns],\n",
       " 'order_items':                                 order_id  order_item_id  \\\n",
       " 0       00010242fe8c5a6d1ba2dd792cb16214              1   \n",
       " 1       00018f77f2f0320c557190d7a144bdd3              1   \n",
       " 2       000229ec398224ef6ca0657da4fc703e              1   \n",
       " 3       00024acbcdf0a6daa1e931b038114c75              1   \n",
       " 4       00042b26cf59d7ce69dfabb4e55b4fd9              1   \n",
       " ...                                  ...            ...   \n",
       " 112645  fffc94f6ce00a00581880bf54a75a037              1   \n",
       " 112646  fffcd46ef2263f404302a634eb57f7eb              1   \n",
       " 112647  fffce4705a9662cd70adb13d4a31832d              1   \n",
       " 112648  fffe18544ffabc95dfada21779c9644f              1   \n",
       " 112649  fffe41c64501cc87c801fd61db3f6244              1   \n",
       " \n",
       "                               product_id                         seller_id  \\\n",
       " 0       4244733e06e7ecb4970a6e2683c13e61  48436dade18ac8b2bce089ec2a041202   \n",
       " 1       e5f2d52b802189ee658865ca93d83a8f  dd7ddc04e1b6c2c614352b383efe2d36   \n",
       " 2       c777355d18b72b67abbeef9df44fd0fd  5b51032eddd242adc84c38acab88f23d   \n",
       " 3       7634da152a4610f1595efa32f14722fc  9d7a1d34a5052409006425275ba1c2b4   \n",
       " 4       ac6c3623068f30de03045865e4e10089  df560393f3a51e74553ab94004ba5c87   \n",
       " ...                                  ...                               ...   \n",
       " 112645  4aa6014eceb682077f9dc4bffebc05b0  b8bc237ba3788b23da09c0f1f3a3288c   \n",
       " 112646  32e07fd915822b0765e448c4dd74c828  f3c38ab652836d21de61fb8314b69182   \n",
       " 112647  72a30483855e2eafc67aee5dc2560482  c3cfdc648177fdbbbb35635a37472c53   \n",
       " 112648  9c422a519119dcad7575db5af1ba540e  2b3e4a2a3ea8e01938cabda2a3e5cc79   \n",
       " 112649  350688d9dc1e75ff97be326363655e01  f7ccf836d21b2fb1de37564105216cc1   \n",
       " \n",
       "         shipping_limit_date   price  freight_value  \n",
       " 0       2017-09-19 09:45:35   58.90          13.29  \n",
       " 1       2017-05-03 11:05:13  239.90          19.93  \n",
       " 2       2018-01-18 14:48:30  199.00          17.87  \n",
       " 3       2018-08-15 10:10:18   12.99          12.79  \n",
       " 4       2017-02-13 13:57:51  199.90          18.14  \n",
       " ...                     ...     ...            ...  \n",
       " 112645  2018-05-02 04:11:01  299.99          43.41  \n",
       " 112646  2018-07-20 04:31:48  350.00          36.53  \n",
       " 112647  2017-10-30 17:14:25   99.90          16.95  \n",
       " 112648  2017-08-21 00:04:32   55.99           8.72  \n",
       " 112649  2018-06-12 17:10:13   43.00          12.79  \n",
       " \n",
       " [112650 rows x 7 columns],\n",
       " 'customers':                             customer_id                customer_unique_id  \\\n",
       " 0      06b8999e2fba1a1fbc88172c00ba8bc7  861eff4711a542e4b93843c6dd7febb0   \n",
       " 1      18955e83d337fd6b2def6b18a428ac77  290c77bc529b7ac935b93aa66c333dc3   \n",
       " 2      4e7b3e00288586ebd08712fdd0374a03  060e732b5b29e8181a18229c7b0b2b5e   \n",
       " 3      b2b6027bc5c5109e529d4dc6358b12c3  259dac757896d24d7702b9acbbff3f3c   \n",
       " 4      4f2d8ab171c80ec8364f7c12e35b23ad  345ecd01c38d18a9036ed96c73b8d066   \n",
       " ...                                 ...                               ...   \n",
       " 99436  17ddf5dd5d51696bb3d7c6291687be6f  1a29b476fee25c95fbafc67c5ac95cf8   \n",
       " 99437  e7b71a9017aa05c9a7fd292d714858e8  d52a67c98be1cf6a5c84435bd38d095d   \n",
       " 99438  5e28dfe12db7fb50a4b2f691faecea5e  e9f50caf99f032f0bf3c55141f019d99   \n",
       " 99439  56b18e2166679b8a959d72dd06da27f9  73c2643a0a458b49f58cea58833b192e   \n",
       " 99440  274fa6071e5e17fe303b9748641082c8  84732c5050c01db9b23e19ba39899398   \n",
       " \n",
       "        customer_zip_code_prefix          customer_city customer_state  \n",
       " 0                         14409                 franca             SP  \n",
       " 1                          9790  sao bernardo do campo             SP  \n",
       " 2                          1151              sao paulo             SP  \n",
       " 3                          8775        mogi das cruzes             SP  \n",
       " 4                         13056               campinas             SP  \n",
       " ...                         ...                    ...            ...  \n",
       " 99436                      3937              sao paulo             SP  \n",
       " 99437                      6764        taboao da serra             SP  \n",
       " 99438                     60115              fortaleza             CE  \n",
       " 99439                     92120                 canoas             RS  \n",
       " 99440                      6703                  cotia             SP  \n",
       " \n",
       " [99441 rows x 5 columns],\n",
       " 'geolocation':          geolocation_zip_code_prefix  geolocation_lat  geolocation_lng  \\\n",
       " 0                               1037       -23.545621       -46.639292   \n",
       " 1                               1046       -23.546081       -46.644820   \n",
       " 2                               1046       -23.546129       -46.642951   \n",
       " 3                               1041       -23.544392       -46.639499   \n",
       " 4                               1035       -23.541578       -46.641607   \n",
       " ...                              ...              ...              ...   \n",
       " 1000158                        99950       -28.068639       -52.010705   \n",
       " 1000159                        99900       -27.877125       -52.224882   \n",
       " 1000160                        99950       -28.071855       -52.014716   \n",
       " 1000161                        99980       -28.388932       -51.846871   \n",
       " 1000162                        99950       -28.070104       -52.018658   \n",
       " \n",
       "         geolocation_city geolocation_state  \n",
       " 0              sao paulo                SP  \n",
       " 1              sao paulo                SP  \n",
       " 2              sao paulo                SP  \n",
       " 3              sao paulo                SP  \n",
       " 4              sao paulo                SP  \n",
       " ...                  ...               ...  \n",
       " 1000158         tapejara                RS  \n",
       " 1000159   getulio vargas                RS  \n",
       " 1000160         tapejara                RS  \n",
       " 1000161  david canabarro                RS  \n",
       " 1000162         tapejara                RS  \n",
       " \n",
       " [1000163 rows x 5 columns],\n",
       " 'order_payments':                                 order_id  payment_sequential payment_type  \\\n",
       " 0       b81ef226f3fe1789b1e8b2acac839d17                   1  credit_card   \n",
       " 1       a9810da82917af2d9aefd1278f1dcfa0                   1  credit_card   \n",
       " 2       25e8ea4e93396b6fa0d3dd708e76c1bd                   1  credit_card   \n",
       " 3       ba78997921bbcdc1373bb41e913ab953                   1  credit_card   \n",
       " 4       42fdf880ba16b47b59251dd489d4441a                   1  credit_card   \n",
       " ...                                  ...                 ...          ...   \n",
       " 103881  0406037ad97740d563a178ecc7a2075c                   1       boleto   \n",
       " 103882  7b905861d7c825891d6347454ea7863f                   1  credit_card   \n",
       " 103883  32609bbb3dd69b3c066a6860554a77bf                   1  credit_card   \n",
       " 103884  b8b61059626efa996a60be9bb9320e10                   1  credit_card   \n",
       " 103885  28bbae6599b09d39ca406b747b6632b1                   1       boleto   \n",
       " \n",
       "         payment_installments  payment_value  \n",
       " 0                          8          99.33  \n",
       " 1                          1          24.39  \n",
       " 2                          1          65.71  \n",
       " 3                          8         107.78  \n",
       " 4                          2         128.45  \n",
       " ...                      ...            ...  \n",
       " 103881                     1         363.31  \n",
       " 103882                     2          96.80  \n",
       " 103883                     1          47.77  \n",
       " 103884                     5         369.54  \n",
       " 103885                     1         191.58  \n",
       " \n",
       " [103886 rows x 5 columns],\n",
       " 'order_reviews':                               review_id                          order_id  \\\n",
       " 0      7bc2406110b926393aa56f80a40eba40  73fc7af87114b39712e6da79b0a377eb   \n",
       " 1      80e641a11e56f04c1ad469d5645fdfde  a548910a1c6147796b98fdf73dbeba33   \n",
       " 2      228ce5500dc1d8e020d8d1322874b6f0  f9e4b658b201a9f2ecdecbb34bed034b   \n",
       " 3      e64fb393e7b32834bb789ff8bb30750e  658677c97b385a9be170737859d3511b   \n",
       " 4      f7c4243c7fe1938f181bec41a392bdeb  8e6bfb81e283fa7e4f11123a3fb894f1   \n",
       " ...                                 ...                               ...   \n",
       " 99995  f3897127253a9592a73be9bdfdf4ed7a  22ec9f0669f784db00fa86d035cf8602   \n",
       " 99996  b3de70c89b1510c4cd3d0649fd302472  55d4004744368f5571d1f590031933e4   \n",
       " 99997  1adeb9d84d72fe4e337617733eb85149  7725825d039fc1f0ceb7635e3f7d9206   \n",
       " 99998  be360f18f5df1e0541061c87021e6d93  f8bd3f2000c28c5342fedeb5e50f2e75   \n",
       " 99999  efe49f1d6f951dd88b51e6ccd4cc548f  90531360ecb1eec2a1fbb265a0db0508   \n",
       " \n",
       "        review_score review_comment_title  \\\n",
       " 0                 4                  NaN   \n",
       " 1                 5                  NaN   \n",
       " 2                 5                  NaN   \n",
       " 3                 5                  NaN   \n",
       " 4                 5                  NaN   \n",
       " ...             ...                  ...   \n",
       " 99995             5                  NaN   \n",
       " 99996             5                  NaN   \n",
       " 99997             4                  NaN   \n",
       " 99998             1                  NaN   \n",
       " 99999             1                  NaN   \n",
       " \n",
       "                                   review_comment_message review_creation_date  \\\n",
       " 0                                                    NaN  2018-01-18 00:00:00   \n",
       " 1                                                    NaN  2018-03-10 00:00:00   \n",
       " 2                                                    NaN  2018-02-17 00:00:00   \n",
       " 3                  Recebi bem antes do prazo estipulado.  2017-04-21 00:00:00   \n",
       " 4      Parabéns lojas lannister adorei comprar pela I...  2018-03-01 00:00:00   \n",
       " ...                                                  ...                  ...   \n",
       " 99995                                                NaN  2017-12-09 00:00:00   \n",
       " 99996  Excelente mochila, entrega super rápida. Super...  2018-03-22 00:00:00   \n",
       " 99997                                                NaN  2018-07-01 00:00:00   \n",
       " 99998  Solicitei a compra de uma capa de retrovisor c...  2017-12-15 00:00:00   \n",
       " 99999  meu produto chegou e ja tenho que devolver, po...  2017-07-03 00:00:00   \n",
       " \n",
       "       review_answer_timestamp  \n",
       " 0         2018-01-18 21:46:59  \n",
       " 1         2018-03-11 03:05:13  \n",
       " 2         2018-02-18 14:36:24  \n",
       " 3         2017-04-21 22:02:06  \n",
       " 4         2018-03-02 10:26:53  \n",
       " ...                       ...  \n",
       " 99995     2017-12-11 20:06:42  \n",
       " 99996     2018-03-23 09:10:43  \n",
       " 99997     2018-07-02 12:59:13  \n",
       " 99998     2017-12-16 01:29:43  \n",
       " 99999     2017-07-03 21:01:49  \n",
       " \n",
       " [100000 rows x 7 columns],\n",
       " 'products':                              product_id              product_category_name  \\\n",
       " 0      1e9e8ef04dbcff4541ed26657ea517e5                         perfumaria   \n",
       " 1      3aa071139cb16b67ca9e5dea641aaa2f                              artes   \n",
       " 2      96bd76ec8810374ed1b65e291975717f                      esporte_lazer   \n",
       " 3      cef67bcfe19066a932b7673e239eb23d                              bebes   \n",
       " 4      9dc1a7de274444849c219cff195d0b71              utilidades_domesticas   \n",
       " ...                                 ...                                ...   \n",
       " 32946  a0b7d5a992ccda646f2d34e418fff5a0                   moveis_decoracao   \n",
       " 32947  bf4538d88321d0fd4412a93c974510e6  construcao_ferramentas_iluminacao   \n",
       " 32948  9a7c6041fa9592d9d9ef6cfe62a71f8c                    cama_mesa_banho   \n",
       " 32949  83808703fc0706a22e264b9d75f04a2e             informatica_acessorios   \n",
       " 32950  106392145fca363410d287a815be6de4                    cama_mesa_banho   \n",
       " \n",
       "        product_name_lenght  product_description_lenght  product_photos_qty  \\\n",
       " 0                     40.0                       287.0                 1.0   \n",
       " 1                     44.0                       276.0                 1.0   \n",
       " 2                     46.0                       250.0                 1.0   \n",
       " 3                     27.0                       261.0                 1.0   \n",
       " 4                     37.0                       402.0                 4.0   \n",
       " ...                    ...                         ...                 ...   \n",
       " 32946                 45.0                        67.0                 2.0   \n",
       " 32947                 41.0                       971.0                 1.0   \n",
       " 32948                 50.0                       799.0                 1.0   \n",
       " 32949                 60.0                       156.0                 2.0   \n",
       " 32950                 58.0                       309.0                 1.0   \n",
       " \n",
       "        product_weight_g  product_length_cm  product_height_cm  \\\n",
       " 0                 225.0               16.0               10.0   \n",
       " 1                1000.0               30.0               18.0   \n",
       " 2                 154.0               18.0                9.0   \n",
       " 3                 371.0               26.0                4.0   \n",
       " 4                 625.0               20.0               17.0   \n",
       " ...                 ...                ...                ...   \n",
       " 32946           12300.0               40.0               40.0   \n",
       " 32947            1700.0               16.0               19.0   \n",
       " 32948            1400.0               27.0                7.0   \n",
       " 32949             700.0               31.0               13.0   \n",
       " 32950            2083.0               12.0                2.0   \n",
       " \n",
       "        product_width_cm  \n",
       " 0                  14.0  \n",
       " 1                  20.0  \n",
       " 2                  15.0  \n",
       " 3                  26.0  \n",
       " 4                  13.0  \n",
       " ...                 ...  \n",
       " 32946              40.0  \n",
       " 32947              16.0  \n",
       " 32948              27.0  \n",
       " 32949              20.0  \n",
       " 32950               7.0  \n",
       " \n",
       " [32951 rows x 9 columns]}"
      ]
     },
     "execution_count": 21,
     "metadata": {},
     "output_type": "execute_result"
    }
   ],
   "source": [
    "data"
   ]
  },
  {
   "cell_type": "code",
   "execution_count": 53,
   "metadata": {},
   "outputs": [],
   "source": [
    "# Select only the columns of interest in the various dataframes of interest, before proceeding to any merge\n",
    "orders = data['orders']#['order_id']\n",
    "\n",
    "reviews = data['order_reviews']#['review_id']\n",
    "\n",
    "customers = data['customers']#['customer_id']\n",
    "\n",
    "products = data['products']#['product_id']\n",
    "\n",
    "sellers = data['sellers']#['seller_id']"
   ]
  },
  {
   "cell_type": "code",
   "execution_count": 54,
   "metadata": {},
   "outputs": [
    {
     "data": {
      "text/plain": [
       "((99441, 8), (100000, 7), (99441, 5), (32951, 9), (3095, 4))"
      ]
     },
     "execution_count": 54,
     "metadata": {},
     "output_type": "execute_result"
    }
   ],
   "source": [
    "# Inspect the cardinality of each DataFrame using pd.DataFrame.shape and pd.Series.nunique()\n",
    "orders.shape, reviews.shape, customers.shape, products.shape, sellers.shape"
   ]
  },
  {
   "cell_type": "code",
   "execution_count": 55,
   "metadata": {},
   "outputs": [
    {
     "data": {
      "text/plain": [
       "(99441, 99173, 99441, 32951, 3095)"
      ]
     },
     "execution_count": 55,
     "metadata": {},
     "output_type": "execute_result"
    }
   ],
   "source": [
    "orders['order_id'].nunique(), reviews['review_id'].nunique(), customers['customer_id'].nunique(), products['product_id'].nunique(), sellers['seller_id'].nunique()"
   ]
  },
  {
   "cell_type": "code",
   "execution_count": 56,
   "metadata": {},
   "outputs": [],
   "source": [
    "import pandas as pd"
   ]
  },
  {
   "cell_type": "code",
   "execution_count": 59,
   "metadata": {},
   "outputs": [
    {
     "data": {
      "text/html": [
       "<div>\n",
       "<style scoped>\n",
       "    .dataframe tbody tr th:only-of-type {\n",
       "        vertical-align: middle;\n",
       "    }\n",
       "\n",
       "    .dataframe tbody tr th {\n",
       "        vertical-align: top;\n",
       "    }\n",
       "\n",
       "    .dataframe thead th {\n",
       "        text-align: right;\n",
       "    }\n",
       "</style>\n",
       "<table border=\"1\" class=\"dataframe\">\n",
       "  <thead>\n",
       "    <tr style=\"text-align: right;\">\n",
       "      <th></th>\n",
       "      <th>order_id</th>\n",
       "      <th>customer_id</th>\n",
       "      <th>order_status</th>\n",
       "      <th>order_purchase_timestamp</th>\n",
       "      <th>order_approved_at</th>\n",
       "      <th>order_delivered_carrier_date</th>\n",
       "      <th>order_delivered_customer_date</th>\n",
       "      <th>order_estimated_delivery_date</th>\n",
       "      <th>review_id</th>\n",
       "      <th>review_score</th>\n",
       "      <th>review_comment_title</th>\n",
       "      <th>review_comment_message</th>\n",
       "      <th>review_creation_date</th>\n",
       "      <th>review_answer_timestamp</th>\n",
       "    </tr>\n",
       "  </thead>\n",
       "  <tbody>\n",
       "    <tr>\n",
       "      <th>0</th>\n",
       "      <td>e481f51cbdc54678b7cc49136f2d6af7</td>\n",
       "      <td>9ef432eb6251297304e76186b10a928d</td>\n",
       "      <td>delivered</td>\n",
       "      <td>2017-10-02 10:56:33</td>\n",
       "      <td>2017-10-02 11:07:15</td>\n",
       "      <td>2017-10-04 19:55:00</td>\n",
       "      <td>2017-10-10 21:25:13</td>\n",
       "      <td>2017-10-18 00:00:00</td>\n",
       "      <td>a54f0611adc9ed256b57ede6b6eb5114</td>\n",
       "      <td>4</td>\n",
       "      <td>NaN</td>\n",
       "      <td>Não testei o produto ainda, mas ele veio corre...</td>\n",
       "      <td>2017-10-11 00:00:00</td>\n",
       "      <td>2017-10-12 03:43:48</td>\n",
       "    </tr>\n",
       "    <tr>\n",
       "      <th>1</th>\n",
       "      <td>53cdb2fc8bc7dce0b6741e2150273451</td>\n",
       "      <td>b0830fb4747a6c6d20dea0b8c802d7ef</td>\n",
       "      <td>delivered</td>\n",
       "      <td>2018-07-24 20:41:37</td>\n",
       "      <td>2018-07-26 03:24:27</td>\n",
       "      <td>2018-07-26 14:31:00</td>\n",
       "      <td>2018-08-07 15:27:45</td>\n",
       "      <td>2018-08-13 00:00:00</td>\n",
       "      <td>8d5266042046a06655c8db133d120ba5</td>\n",
       "      <td>4</td>\n",
       "      <td>Muito boa a loja</td>\n",
       "      <td>Muito bom o produto.</td>\n",
       "      <td>2018-08-08 00:00:00</td>\n",
       "      <td>2018-08-08 18:37:50</td>\n",
       "    </tr>\n",
       "    <tr>\n",
       "      <th>2</th>\n",
       "      <td>47770eb9100c2d0c44946d9cf07ec65d</td>\n",
       "      <td>41ce2a54c0b03bf3443c3d931a367089</td>\n",
       "      <td>delivered</td>\n",
       "      <td>2018-08-08 08:38:49</td>\n",
       "      <td>2018-08-08 08:55:23</td>\n",
       "      <td>2018-08-08 13:50:00</td>\n",
       "      <td>2018-08-17 18:06:29</td>\n",
       "      <td>2018-09-04 00:00:00</td>\n",
       "      <td>e73b67b67587f7644d5bd1a52deb1b01</td>\n",
       "      <td>5</td>\n",
       "      <td>NaN</td>\n",
       "      <td>NaN</td>\n",
       "      <td>2018-08-18 00:00:00</td>\n",
       "      <td>2018-08-22 19:07:58</td>\n",
       "    </tr>\n",
       "    <tr>\n",
       "      <th>3</th>\n",
       "      <td>949d5b44dbf5de918fe9c16f97b45f8a</td>\n",
       "      <td>f88197465ea7920adcdbec7375364d82</td>\n",
       "      <td>delivered</td>\n",
       "      <td>2017-11-18 19:28:06</td>\n",
       "      <td>2017-11-18 19:45:59</td>\n",
       "      <td>2017-11-22 13:39:59</td>\n",
       "      <td>2017-12-02 00:28:42</td>\n",
       "      <td>2017-12-15 00:00:00</td>\n",
       "      <td>359d03e676b3c069f62cadba8dd3f6e8</td>\n",
       "      <td>5</td>\n",
       "      <td>NaN</td>\n",
       "      <td>O produto foi exatamente o que eu esperava e e...</td>\n",
       "      <td>2017-12-03 00:00:00</td>\n",
       "      <td>2017-12-05 19:21:58</td>\n",
       "    </tr>\n",
       "    <tr>\n",
       "      <th>4</th>\n",
       "      <td>ad21c59c0840e6cb83a9ceb5573f8159</td>\n",
       "      <td>8ab97904e6daea8866dbdbc4fb7aad2c</td>\n",
       "      <td>delivered</td>\n",
       "      <td>2018-02-13 21:18:39</td>\n",
       "      <td>2018-02-13 22:20:29</td>\n",
       "      <td>2018-02-14 19:46:34</td>\n",
       "      <td>2018-02-16 18:17:02</td>\n",
       "      <td>2018-02-26 00:00:00</td>\n",
       "      <td>e50934924e227544ba8246aeb3770dd4</td>\n",
       "      <td>5</td>\n",
       "      <td>NaN</td>\n",
       "      <td>NaN</td>\n",
       "      <td>2018-02-17 00:00:00</td>\n",
       "      <td>2018-02-18 13:02:51</td>\n",
       "    </tr>\n",
       "    <tr>\n",
       "      <th>...</th>\n",
       "      <td>...</td>\n",
       "      <td>...</td>\n",
       "      <td>...</td>\n",
       "      <td>...</td>\n",
       "      <td>...</td>\n",
       "      <td>...</td>\n",
       "      <td>...</td>\n",
       "      <td>...</td>\n",
       "      <td>...</td>\n",
       "      <td>...</td>\n",
       "      <td>...</td>\n",
       "      <td>...</td>\n",
       "      <td>...</td>\n",
       "      <td>...</td>\n",
       "    </tr>\n",
       "    <tr>\n",
       "      <th>99995</th>\n",
       "      <td>9c5dedf39a927c1b2549525ed64a053c</td>\n",
       "      <td>39bd1228ee8140590ac3aca26f2dfe00</td>\n",
       "      <td>delivered</td>\n",
       "      <td>2017-03-09 09:54:05</td>\n",
       "      <td>2017-03-09 09:54:05</td>\n",
       "      <td>2017-03-10 11:18:03</td>\n",
       "      <td>2017-03-17 15:08:01</td>\n",
       "      <td>2017-03-28 00:00:00</td>\n",
       "      <td>e262b3f92d1ce917aa412a9406cf61a6</td>\n",
       "      <td>5</td>\n",
       "      <td>NaN</td>\n",
       "      <td>NaN</td>\n",
       "      <td>2017-03-22 00:00:00</td>\n",
       "      <td>2017-03-23 11:02:08</td>\n",
       "    </tr>\n",
       "    <tr>\n",
       "      <th>99996</th>\n",
       "      <td>63943bddc261676b46f01ca7ac2f7bd8</td>\n",
       "      <td>1fca14ff2861355f6e5f14306ff977a7</td>\n",
       "      <td>delivered</td>\n",
       "      <td>2018-02-06 12:58:58</td>\n",
       "      <td>2018-02-06 13:10:37</td>\n",
       "      <td>2018-02-07 23:22:42</td>\n",
       "      <td>2018-02-28 17:37:56</td>\n",
       "      <td>2018-03-02 00:00:00</td>\n",
       "      <td>29bb71b2760d0f876dfa178a76bc4734</td>\n",
       "      <td>4</td>\n",
       "      <td>NaN</td>\n",
       "      <td>So uma peça que veio rachado mas tudo bem rs</td>\n",
       "      <td>2018-03-01 00:00:00</td>\n",
       "      <td>2018-03-02 17:50:01</td>\n",
       "    </tr>\n",
       "    <tr>\n",
       "      <th>99997</th>\n",
       "      <td>83c1379a015df1e13d02aae0204711ab</td>\n",
       "      <td>1aa71eb042121263aafbe80c1b562c9c</td>\n",
       "      <td>delivered</td>\n",
       "      <td>2017-08-27 14:46:43</td>\n",
       "      <td>2017-08-27 15:04:16</td>\n",
       "      <td>2017-08-28 20:52:26</td>\n",
       "      <td>2017-09-21 11:24:17</td>\n",
       "      <td>2017-09-27 00:00:00</td>\n",
       "      <td>371579771219f6db2d830d50805977bb</td>\n",
       "      <td>5</td>\n",
       "      <td>NaN</td>\n",
       "      <td>Foi entregue antes do prazo.</td>\n",
       "      <td>2017-09-22 00:00:00</td>\n",
       "      <td>2017-09-22 23:10:57</td>\n",
       "    </tr>\n",
       "    <tr>\n",
       "      <th>99998</th>\n",
       "      <td>11c177c8e97725db2631073c19f07b62</td>\n",
       "      <td>b331b74b18dc79bcdf6532d51e1637c1</td>\n",
       "      <td>delivered</td>\n",
       "      <td>2018-01-08 21:28:27</td>\n",
       "      <td>2018-01-08 21:36:21</td>\n",
       "      <td>2018-01-12 15:35:03</td>\n",
       "      <td>2018-01-25 23:32:54</td>\n",
       "      <td>2018-02-15 00:00:00</td>\n",
       "      <td>8ab6855b9fe9b812cd03a480a25058a1</td>\n",
       "      <td>2</td>\n",
       "      <td>NaN</td>\n",
       "      <td>Foi entregue somente 1. Quero saber do outro p...</td>\n",
       "      <td>2018-01-26 00:00:00</td>\n",
       "      <td>2018-01-27 09:16:56</td>\n",
       "    </tr>\n",
       "    <tr>\n",
       "      <th>99999</th>\n",
       "      <td>66dea50a8b16d9b4dee7af250b4be1a5</td>\n",
       "      <td>edb027a75a1449115f6b43211ae02a24</td>\n",
       "      <td>delivered</td>\n",
       "      <td>2018-03-08 20:57:30</td>\n",
       "      <td>2018-03-09 11:20:28</td>\n",
       "      <td>2018-03-09 22:11:59</td>\n",
       "      <td>2018-03-16 13:08:30</td>\n",
       "      <td>2018-04-03 00:00:00</td>\n",
       "      <td>dc9c59b4688062c25758c2be4cafc523</td>\n",
       "      <td>5</td>\n",
       "      <td>NaN</td>\n",
       "      <td>NaN</td>\n",
       "      <td>2018-03-17 00:00:00</td>\n",
       "      <td>2018-03-17 16:33:31</td>\n",
       "    </tr>\n",
       "  </tbody>\n",
       "</table>\n",
       "<p>100000 rows × 14 columns</p>\n",
       "</div>"
      ],
      "text/plain": [
       "                               order_id                       customer_id  \\\n",
       "0      e481f51cbdc54678b7cc49136f2d6af7  9ef432eb6251297304e76186b10a928d   \n",
       "1      53cdb2fc8bc7dce0b6741e2150273451  b0830fb4747a6c6d20dea0b8c802d7ef   \n",
       "2      47770eb9100c2d0c44946d9cf07ec65d  41ce2a54c0b03bf3443c3d931a367089   \n",
       "3      949d5b44dbf5de918fe9c16f97b45f8a  f88197465ea7920adcdbec7375364d82   \n",
       "4      ad21c59c0840e6cb83a9ceb5573f8159  8ab97904e6daea8866dbdbc4fb7aad2c   \n",
       "...                                 ...                               ...   \n",
       "99995  9c5dedf39a927c1b2549525ed64a053c  39bd1228ee8140590ac3aca26f2dfe00   \n",
       "99996  63943bddc261676b46f01ca7ac2f7bd8  1fca14ff2861355f6e5f14306ff977a7   \n",
       "99997  83c1379a015df1e13d02aae0204711ab  1aa71eb042121263aafbe80c1b562c9c   \n",
       "99998  11c177c8e97725db2631073c19f07b62  b331b74b18dc79bcdf6532d51e1637c1   \n",
       "99999  66dea50a8b16d9b4dee7af250b4be1a5  edb027a75a1449115f6b43211ae02a24   \n",
       "\n",
       "      order_status order_purchase_timestamp    order_approved_at  \\\n",
       "0        delivered      2017-10-02 10:56:33  2017-10-02 11:07:15   \n",
       "1        delivered      2018-07-24 20:41:37  2018-07-26 03:24:27   \n",
       "2        delivered      2018-08-08 08:38:49  2018-08-08 08:55:23   \n",
       "3        delivered      2017-11-18 19:28:06  2017-11-18 19:45:59   \n",
       "4        delivered      2018-02-13 21:18:39  2018-02-13 22:20:29   \n",
       "...            ...                      ...                  ...   \n",
       "99995    delivered      2017-03-09 09:54:05  2017-03-09 09:54:05   \n",
       "99996    delivered      2018-02-06 12:58:58  2018-02-06 13:10:37   \n",
       "99997    delivered      2017-08-27 14:46:43  2017-08-27 15:04:16   \n",
       "99998    delivered      2018-01-08 21:28:27  2018-01-08 21:36:21   \n",
       "99999    delivered      2018-03-08 20:57:30  2018-03-09 11:20:28   \n",
       "\n",
       "      order_delivered_carrier_date order_delivered_customer_date  \\\n",
       "0              2017-10-04 19:55:00           2017-10-10 21:25:13   \n",
       "1              2018-07-26 14:31:00           2018-08-07 15:27:45   \n",
       "2              2018-08-08 13:50:00           2018-08-17 18:06:29   \n",
       "3              2017-11-22 13:39:59           2017-12-02 00:28:42   \n",
       "4              2018-02-14 19:46:34           2018-02-16 18:17:02   \n",
       "...                            ...                           ...   \n",
       "99995          2017-03-10 11:18:03           2017-03-17 15:08:01   \n",
       "99996          2018-02-07 23:22:42           2018-02-28 17:37:56   \n",
       "99997          2017-08-28 20:52:26           2017-09-21 11:24:17   \n",
       "99998          2018-01-12 15:35:03           2018-01-25 23:32:54   \n",
       "99999          2018-03-09 22:11:59           2018-03-16 13:08:30   \n",
       "\n",
       "      order_estimated_delivery_date                         review_id  \\\n",
       "0               2017-10-18 00:00:00  a54f0611adc9ed256b57ede6b6eb5114   \n",
       "1               2018-08-13 00:00:00  8d5266042046a06655c8db133d120ba5   \n",
       "2               2018-09-04 00:00:00  e73b67b67587f7644d5bd1a52deb1b01   \n",
       "3               2017-12-15 00:00:00  359d03e676b3c069f62cadba8dd3f6e8   \n",
       "4               2018-02-26 00:00:00  e50934924e227544ba8246aeb3770dd4   \n",
       "...                             ...                               ...   \n",
       "99995           2017-03-28 00:00:00  e262b3f92d1ce917aa412a9406cf61a6   \n",
       "99996           2018-03-02 00:00:00  29bb71b2760d0f876dfa178a76bc4734   \n",
       "99997           2017-09-27 00:00:00  371579771219f6db2d830d50805977bb   \n",
       "99998           2018-02-15 00:00:00  8ab6855b9fe9b812cd03a480a25058a1   \n",
       "99999           2018-04-03 00:00:00  dc9c59b4688062c25758c2be4cafc523   \n",
       "\n",
       "       review_score review_comment_title  \\\n",
       "0                 4                  NaN   \n",
       "1                 4     Muito boa a loja   \n",
       "2                 5                  NaN   \n",
       "3                 5                  NaN   \n",
       "4                 5                  NaN   \n",
       "...             ...                  ...   \n",
       "99995             5                  NaN   \n",
       "99996             4                  NaN   \n",
       "99997             5                  NaN   \n",
       "99998             2                  NaN   \n",
       "99999             5                  NaN   \n",
       "\n",
       "                                  review_comment_message review_creation_date  \\\n",
       "0      Não testei o produto ainda, mas ele veio corre...  2017-10-11 00:00:00   \n",
       "1                                   Muito bom o produto.  2018-08-08 00:00:00   \n",
       "2                                                    NaN  2018-08-18 00:00:00   \n",
       "3      O produto foi exatamente o que eu esperava e e...  2017-12-03 00:00:00   \n",
       "4                                                    NaN  2018-02-17 00:00:00   \n",
       "...                                                  ...                  ...   \n",
       "99995                                                NaN  2017-03-22 00:00:00   \n",
       "99996       So uma peça que veio rachado mas tudo bem rs  2018-03-01 00:00:00   \n",
       "99997                       Foi entregue antes do prazo.  2017-09-22 00:00:00   \n",
       "99998  Foi entregue somente 1. Quero saber do outro p...  2018-01-26 00:00:00   \n",
       "99999                                                NaN  2018-03-17 00:00:00   \n",
       "\n",
       "      review_answer_timestamp  \n",
       "0         2017-10-12 03:43:48  \n",
       "1         2018-08-08 18:37:50  \n",
       "2         2018-08-22 19:07:58  \n",
       "3         2017-12-05 19:21:58  \n",
       "4         2018-02-18 13:02:51  \n",
       "...                       ...  \n",
       "99995     2017-03-23 11:02:08  \n",
       "99996     2018-03-02 17:50:01  \n",
       "99997     2017-09-22 23:10:57  \n",
       "99998     2018-01-27 09:16:56  \n",
       "99999     2018-03-17 16:33:31  \n",
       "\n",
       "[100000 rows x 14 columns]"
      ]
     },
     "execution_count": 59,
     "metadata": {},
     "output_type": "execute_result"
    }
   ],
   "source": [
    "# Carefully merge DataFrames\n",
    "df_1 = pd.merge(orders, reviews, how='outer', on='order_id')\n",
    "df_1"
   ]
  },
  {
   "cell_type": "code",
   "execution_count": 60,
   "metadata": {},
   "outputs": [
    {
     "data": {
      "text/html": [
       "<div>\n",
       "<style scoped>\n",
       "    .dataframe tbody tr th:only-of-type {\n",
       "        vertical-align: middle;\n",
       "    }\n",
       "\n",
       "    .dataframe tbody tr th {\n",
       "        vertical-align: top;\n",
       "    }\n",
       "\n",
       "    .dataframe thead th {\n",
       "        text-align: right;\n",
       "    }\n",
       "</style>\n",
       "<table border=\"1\" class=\"dataframe\">\n",
       "  <thead>\n",
       "    <tr style=\"text-align: right;\">\n",
       "      <th></th>\n",
       "      <th>order_id</th>\n",
       "      <th>customer_id</th>\n",
       "      <th>order_status</th>\n",
       "      <th>order_purchase_timestamp</th>\n",
       "      <th>order_approved_at</th>\n",
       "      <th>order_delivered_carrier_date</th>\n",
       "      <th>order_delivered_customer_date</th>\n",
       "      <th>order_estimated_delivery_date</th>\n",
       "      <th>review_id</th>\n",
       "      <th>review_score</th>\n",
       "      <th>review_comment_title</th>\n",
       "      <th>review_comment_message</th>\n",
       "      <th>review_creation_date</th>\n",
       "      <th>review_answer_timestamp</th>\n",
       "      <th>customer_unique_id</th>\n",
       "      <th>customer_zip_code_prefix</th>\n",
       "      <th>customer_city</th>\n",
       "      <th>customer_state</th>\n",
       "    </tr>\n",
       "  </thead>\n",
       "  <tbody>\n",
       "    <tr>\n",
       "      <th>0</th>\n",
       "      <td>e481f51cbdc54678b7cc49136f2d6af7</td>\n",
       "      <td>9ef432eb6251297304e76186b10a928d</td>\n",
       "      <td>delivered</td>\n",
       "      <td>2017-10-02 10:56:33</td>\n",
       "      <td>2017-10-02 11:07:15</td>\n",
       "      <td>2017-10-04 19:55:00</td>\n",
       "      <td>2017-10-10 21:25:13</td>\n",
       "      <td>2017-10-18 00:00:00</td>\n",
       "      <td>a54f0611adc9ed256b57ede6b6eb5114</td>\n",
       "      <td>4</td>\n",
       "      <td>NaN</td>\n",
       "      <td>Não testei o produto ainda, mas ele veio corre...</td>\n",
       "      <td>2017-10-11 00:00:00</td>\n",
       "      <td>2017-10-12 03:43:48</td>\n",
       "      <td>7c396fd4830fd04220f754e42b4e5bff</td>\n",
       "      <td>3149</td>\n",
       "      <td>sao paulo</td>\n",
       "      <td>SP</td>\n",
       "    </tr>\n",
       "    <tr>\n",
       "      <th>1</th>\n",
       "      <td>53cdb2fc8bc7dce0b6741e2150273451</td>\n",
       "      <td>b0830fb4747a6c6d20dea0b8c802d7ef</td>\n",
       "      <td>delivered</td>\n",
       "      <td>2018-07-24 20:41:37</td>\n",
       "      <td>2018-07-26 03:24:27</td>\n",
       "      <td>2018-07-26 14:31:00</td>\n",
       "      <td>2018-08-07 15:27:45</td>\n",
       "      <td>2018-08-13 00:00:00</td>\n",
       "      <td>8d5266042046a06655c8db133d120ba5</td>\n",
       "      <td>4</td>\n",
       "      <td>Muito boa a loja</td>\n",
       "      <td>Muito bom o produto.</td>\n",
       "      <td>2018-08-08 00:00:00</td>\n",
       "      <td>2018-08-08 18:37:50</td>\n",
       "      <td>af07308b275d755c9edb36a90c618231</td>\n",
       "      <td>47813</td>\n",
       "      <td>barreiras</td>\n",
       "      <td>BA</td>\n",
       "    </tr>\n",
       "    <tr>\n",
       "      <th>2</th>\n",
       "      <td>47770eb9100c2d0c44946d9cf07ec65d</td>\n",
       "      <td>41ce2a54c0b03bf3443c3d931a367089</td>\n",
       "      <td>delivered</td>\n",
       "      <td>2018-08-08 08:38:49</td>\n",
       "      <td>2018-08-08 08:55:23</td>\n",
       "      <td>2018-08-08 13:50:00</td>\n",
       "      <td>2018-08-17 18:06:29</td>\n",
       "      <td>2018-09-04 00:00:00</td>\n",
       "      <td>e73b67b67587f7644d5bd1a52deb1b01</td>\n",
       "      <td>5</td>\n",
       "      <td>NaN</td>\n",
       "      <td>NaN</td>\n",
       "      <td>2018-08-18 00:00:00</td>\n",
       "      <td>2018-08-22 19:07:58</td>\n",
       "      <td>3a653a41f6f9fc3d2a113cf8398680e8</td>\n",
       "      <td>75265</td>\n",
       "      <td>vianopolis</td>\n",
       "      <td>GO</td>\n",
       "    </tr>\n",
       "    <tr>\n",
       "      <th>3</th>\n",
       "      <td>949d5b44dbf5de918fe9c16f97b45f8a</td>\n",
       "      <td>f88197465ea7920adcdbec7375364d82</td>\n",
       "      <td>delivered</td>\n",
       "      <td>2017-11-18 19:28:06</td>\n",
       "      <td>2017-11-18 19:45:59</td>\n",
       "      <td>2017-11-22 13:39:59</td>\n",
       "      <td>2017-12-02 00:28:42</td>\n",
       "      <td>2017-12-15 00:00:00</td>\n",
       "      <td>359d03e676b3c069f62cadba8dd3f6e8</td>\n",
       "      <td>5</td>\n",
       "      <td>NaN</td>\n",
       "      <td>O produto foi exatamente o que eu esperava e e...</td>\n",
       "      <td>2017-12-03 00:00:00</td>\n",
       "      <td>2017-12-05 19:21:58</td>\n",
       "      <td>7c142cf63193a1473d2e66489a9ae977</td>\n",
       "      <td>59296</td>\n",
       "      <td>sao goncalo do amarante</td>\n",
       "      <td>RN</td>\n",
       "    </tr>\n",
       "    <tr>\n",
       "      <th>4</th>\n",
       "      <td>ad21c59c0840e6cb83a9ceb5573f8159</td>\n",
       "      <td>8ab97904e6daea8866dbdbc4fb7aad2c</td>\n",
       "      <td>delivered</td>\n",
       "      <td>2018-02-13 21:18:39</td>\n",
       "      <td>2018-02-13 22:20:29</td>\n",
       "      <td>2018-02-14 19:46:34</td>\n",
       "      <td>2018-02-16 18:17:02</td>\n",
       "      <td>2018-02-26 00:00:00</td>\n",
       "      <td>e50934924e227544ba8246aeb3770dd4</td>\n",
       "      <td>5</td>\n",
       "      <td>NaN</td>\n",
       "      <td>NaN</td>\n",
       "      <td>2018-02-17 00:00:00</td>\n",
       "      <td>2018-02-18 13:02:51</td>\n",
       "      <td>72632f0f9dd73dfee390c9b22eb56dd6</td>\n",
       "      <td>9195</td>\n",
       "      <td>santo andre</td>\n",
       "      <td>SP</td>\n",
       "    </tr>\n",
       "    <tr>\n",
       "      <th>...</th>\n",
       "      <td>...</td>\n",
       "      <td>...</td>\n",
       "      <td>...</td>\n",
       "      <td>...</td>\n",
       "      <td>...</td>\n",
       "      <td>...</td>\n",
       "      <td>...</td>\n",
       "      <td>...</td>\n",
       "      <td>...</td>\n",
       "      <td>...</td>\n",
       "      <td>...</td>\n",
       "      <td>...</td>\n",
       "      <td>...</td>\n",
       "      <td>...</td>\n",
       "      <td>...</td>\n",
       "      <td>...</td>\n",
       "      <td>...</td>\n",
       "      <td>...</td>\n",
       "    </tr>\n",
       "    <tr>\n",
       "      <th>99995</th>\n",
       "      <td>9c5dedf39a927c1b2549525ed64a053c</td>\n",
       "      <td>39bd1228ee8140590ac3aca26f2dfe00</td>\n",
       "      <td>delivered</td>\n",
       "      <td>2017-03-09 09:54:05</td>\n",
       "      <td>2017-03-09 09:54:05</td>\n",
       "      <td>2017-03-10 11:18:03</td>\n",
       "      <td>2017-03-17 15:08:01</td>\n",
       "      <td>2017-03-28 00:00:00</td>\n",
       "      <td>e262b3f92d1ce917aa412a9406cf61a6</td>\n",
       "      <td>5</td>\n",
       "      <td>NaN</td>\n",
       "      <td>NaN</td>\n",
       "      <td>2017-03-22 00:00:00</td>\n",
       "      <td>2017-03-23 11:02:08</td>\n",
       "      <td>6359f309b166b0196dbf7ad2ac62bb5a</td>\n",
       "      <td>12209</td>\n",
       "      <td>sao jose dos campos</td>\n",
       "      <td>SP</td>\n",
       "    </tr>\n",
       "    <tr>\n",
       "      <th>99996</th>\n",
       "      <td>63943bddc261676b46f01ca7ac2f7bd8</td>\n",
       "      <td>1fca14ff2861355f6e5f14306ff977a7</td>\n",
       "      <td>delivered</td>\n",
       "      <td>2018-02-06 12:58:58</td>\n",
       "      <td>2018-02-06 13:10:37</td>\n",
       "      <td>2018-02-07 23:22:42</td>\n",
       "      <td>2018-02-28 17:37:56</td>\n",
       "      <td>2018-03-02 00:00:00</td>\n",
       "      <td>29bb71b2760d0f876dfa178a76bc4734</td>\n",
       "      <td>4</td>\n",
       "      <td>NaN</td>\n",
       "      <td>So uma peça que veio rachado mas tudo bem rs</td>\n",
       "      <td>2018-03-01 00:00:00</td>\n",
       "      <td>2018-03-02 17:50:01</td>\n",
       "      <td>da62f9e57a76d978d02ab5362c509660</td>\n",
       "      <td>11722</td>\n",
       "      <td>praia grande</td>\n",
       "      <td>SP</td>\n",
       "    </tr>\n",
       "    <tr>\n",
       "      <th>99997</th>\n",
       "      <td>83c1379a015df1e13d02aae0204711ab</td>\n",
       "      <td>1aa71eb042121263aafbe80c1b562c9c</td>\n",
       "      <td>delivered</td>\n",
       "      <td>2017-08-27 14:46:43</td>\n",
       "      <td>2017-08-27 15:04:16</td>\n",
       "      <td>2017-08-28 20:52:26</td>\n",
       "      <td>2017-09-21 11:24:17</td>\n",
       "      <td>2017-09-27 00:00:00</td>\n",
       "      <td>371579771219f6db2d830d50805977bb</td>\n",
       "      <td>5</td>\n",
       "      <td>NaN</td>\n",
       "      <td>Foi entregue antes do prazo.</td>\n",
       "      <td>2017-09-22 00:00:00</td>\n",
       "      <td>2017-09-22 23:10:57</td>\n",
       "      <td>737520a9aad80b3fbbdad19b66b37b30</td>\n",
       "      <td>45920</td>\n",
       "      <td>nova vicosa</td>\n",
       "      <td>BA</td>\n",
       "    </tr>\n",
       "    <tr>\n",
       "      <th>99998</th>\n",
       "      <td>11c177c8e97725db2631073c19f07b62</td>\n",
       "      <td>b331b74b18dc79bcdf6532d51e1637c1</td>\n",
       "      <td>delivered</td>\n",
       "      <td>2018-01-08 21:28:27</td>\n",
       "      <td>2018-01-08 21:36:21</td>\n",
       "      <td>2018-01-12 15:35:03</td>\n",
       "      <td>2018-01-25 23:32:54</td>\n",
       "      <td>2018-02-15 00:00:00</td>\n",
       "      <td>8ab6855b9fe9b812cd03a480a25058a1</td>\n",
       "      <td>2</td>\n",
       "      <td>NaN</td>\n",
       "      <td>Foi entregue somente 1. Quero saber do outro p...</td>\n",
       "      <td>2018-01-26 00:00:00</td>\n",
       "      <td>2018-01-27 09:16:56</td>\n",
       "      <td>5097a5312c8b157bb7be58ae360ef43c</td>\n",
       "      <td>28685</td>\n",
       "      <td>japuiba</td>\n",
       "      <td>RJ</td>\n",
       "    </tr>\n",
       "    <tr>\n",
       "      <th>99999</th>\n",
       "      <td>66dea50a8b16d9b4dee7af250b4be1a5</td>\n",
       "      <td>edb027a75a1449115f6b43211ae02a24</td>\n",
       "      <td>delivered</td>\n",
       "      <td>2018-03-08 20:57:30</td>\n",
       "      <td>2018-03-09 11:20:28</td>\n",
       "      <td>2018-03-09 22:11:59</td>\n",
       "      <td>2018-03-16 13:08:30</td>\n",
       "      <td>2018-04-03 00:00:00</td>\n",
       "      <td>dc9c59b4688062c25758c2be4cafc523</td>\n",
       "      <td>5</td>\n",
       "      <td>NaN</td>\n",
       "      <td>NaN</td>\n",
       "      <td>2018-03-17 00:00:00</td>\n",
       "      <td>2018-03-17 16:33:31</td>\n",
       "      <td>60350aa974b26ff12caad89e55993bd6</td>\n",
       "      <td>83750</td>\n",
       "      <td>lapa</td>\n",
       "      <td>PR</td>\n",
       "    </tr>\n",
       "  </tbody>\n",
       "</table>\n",
       "<p>100000 rows × 18 columns</p>\n",
       "</div>"
      ],
      "text/plain": [
       "                               order_id                       customer_id  \\\n",
       "0      e481f51cbdc54678b7cc49136f2d6af7  9ef432eb6251297304e76186b10a928d   \n",
       "1      53cdb2fc8bc7dce0b6741e2150273451  b0830fb4747a6c6d20dea0b8c802d7ef   \n",
       "2      47770eb9100c2d0c44946d9cf07ec65d  41ce2a54c0b03bf3443c3d931a367089   \n",
       "3      949d5b44dbf5de918fe9c16f97b45f8a  f88197465ea7920adcdbec7375364d82   \n",
       "4      ad21c59c0840e6cb83a9ceb5573f8159  8ab97904e6daea8866dbdbc4fb7aad2c   \n",
       "...                                 ...                               ...   \n",
       "99995  9c5dedf39a927c1b2549525ed64a053c  39bd1228ee8140590ac3aca26f2dfe00   \n",
       "99996  63943bddc261676b46f01ca7ac2f7bd8  1fca14ff2861355f6e5f14306ff977a7   \n",
       "99997  83c1379a015df1e13d02aae0204711ab  1aa71eb042121263aafbe80c1b562c9c   \n",
       "99998  11c177c8e97725db2631073c19f07b62  b331b74b18dc79bcdf6532d51e1637c1   \n",
       "99999  66dea50a8b16d9b4dee7af250b4be1a5  edb027a75a1449115f6b43211ae02a24   \n",
       "\n",
       "      order_status order_purchase_timestamp    order_approved_at  \\\n",
       "0        delivered      2017-10-02 10:56:33  2017-10-02 11:07:15   \n",
       "1        delivered      2018-07-24 20:41:37  2018-07-26 03:24:27   \n",
       "2        delivered      2018-08-08 08:38:49  2018-08-08 08:55:23   \n",
       "3        delivered      2017-11-18 19:28:06  2017-11-18 19:45:59   \n",
       "4        delivered      2018-02-13 21:18:39  2018-02-13 22:20:29   \n",
       "...            ...                      ...                  ...   \n",
       "99995    delivered      2017-03-09 09:54:05  2017-03-09 09:54:05   \n",
       "99996    delivered      2018-02-06 12:58:58  2018-02-06 13:10:37   \n",
       "99997    delivered      2017-08-27 14:46:43  2017-08-27 15:04:16   \n",
       "99998    delivered      2018-01-08 21:28:27  2018-01-08 21:36:21   \n",
       "99999    delivered      2018-03-08 20:57:30  2018-03-09 11:20:28   \n",
       "\n",
       "      order_delivered_carrier_date order_delivered_customer_date  \\\n",
       "0              2017-10-04 19:55:00           2017-10-10 21:25:13   \n",
       "1              2018-07-26 14:31:00           2018-08-07 15:27:45   \n",
       "2              2018-08-08 13:50:00           2018-08-17 18:06:29   \n",
       "3              2017-11-22 13:39:59           2017-12-02 00:28:42   \n",
       "4              2018-02-14 19:46:34           2018-02-16 18:17:02   \n",
       "...                            ...                           ...   \n",
       "99995          2017-03-10 11:18:03           2017-03-17 15:08:01   \n",
       "99996          2018-02-07 23:22:42           2018-02-28 17:37:56   \n",
       "99997          2017-08-28 20:52:26           2017-09-21 11:24:17   \n",
       "99998          2018-01-12 15:35:03           2018-01-25 23:32:54   \n",
       "99999          2018-03-09 22:11:59           2018-03-16 13:08:30   \n",
       "\n",
       "      order_estimated_delivery_date                         review_id  \\\n",
       "0               2017-10-18 00:00:00  a54f0611adc9ed256b57ede6b6eb5114   \n",
       "1               2018-08-13 00:00:00  8d5266042046a06655c8db133d120ba5   \n",
       "2               2018-09-04 00:00:00  e73b67b67587f7644d5bd1a52deb1b01   \n",
       "3               2017-12-15 00:00:00  359d03e676b3c069f62cadba8dd3f6e8   \n",
       "4               2018-02-26 00:00:00  e50934924e227544ba8246aeb3770dd4   \n",
       "...                             ...                               ...   \n",
       "99995           2017-03-28 00:00:00  e262b3f92d1ce917aa412a9406cf61a6   \n",
       "99996           2018-03-02 00:00:00  29bb71b2760d0f876dfa178a76bc4734   \n",
       "99997           2017-09-27 00:00:00  371579771219f6db2d830d50805977bb   \n",
       "99998           2018-02-15 00:00:00  8ab6855b9fe9b812cd03a480a25058a1   \n",
       "99999           2018-04-03 00:00:00  dc9c59b4688062c25758c2be4cafc523   \n",
       "\n",
       "       review_score review_comment_title  \\\n",
       "0                 4                  NaN   \n",
       "1                 4     Muito boa a loja   \n",
       "2                 5                  NaN   \n",
       "3                 5                  NaN   \n",
       "4                 5                  NaN   \n",
       "...             ...                  ...   \n",
       "99995             5                  NaN   \n",
       "99996             4                  NaN   \n",
       "99997             5                  NaN   \n",
       "99998             2                  NaN   \n",
       "99999             5                  NaN   \n",
       "\n",
       "                                  review_comment_message review_creation_date  \\\n",
       "0      Não testei o produto ainda, mas ele veio corre...  2017-10-11 00:00:00   \n",
       "1                                   Muito bom o produto.  2018-08-08 00:00:00   \n",
       "2                                                    NaN  2018-08-18 00:00:00   \n",
       "3      O produto foi exatamente o que eu esperava e e...  2017-12-03 00:00:00   \n",
       "4                                                    NaN  2018-02-17 00:00:00   \n",
       "...                                                  ...                  ...   \n",
       "99995                                                NaN  2017-03-22 00:00:00   \n",
       "99996       So uma peça que veio rachado mas tudo bem rs  2018-03-01 00:00:00   \n",
       "99997                       Foi entregue antes do prazo.  2017-09-22 00:00:00   \n",
       "99998  Foi entregue somente 1. Quero saber do outro p...  2018-01-26 00:00:00   \n",
       "99999                                                NaN  2018-03-17 00:00:00   \n",
       "\n",
       "      review_answer_timestamp                customer_unique_id  \\\n",
       "0         2017-10-12 03:43:48  7c396fd4830fd04220f754e42b4e5bff   \n",
       "1         2018-08-08 18:37:50  af07308b275d755c9edb36a90c618231   \n",
       "2         2018-08-22 19:07:58  3a653a41f6f9fc3d2a113cf8398680e8   \n",
       "3         2017-12-05 19:21:58  7c142cf63193a1473d2e66489a9ae977   \n",
       "4         2018-02-18 13:02:51  72632f0f9dd73dfee390c9b22eb56dd6   \n",
       "...                       ...                               ...   \n",
       "99995     2017-03-23 11:02:08  6359f309b166b0196dbf7ad2ac62bb5a   \n",
       "99996     2018-03-02 17:50:01  da62f9e57a76d978d02ab5362c509660   \n",
       "99997     2017-09-22 23:10:57  737520a9aad80b3fbbdad19b66b37b30   \n",
       "99998     2018-01-27 09:16:56  5097a5312c8b157bb7be58ae360ef43c   \n",
       "99999     2018-03-17 16:33:31  60350aa974b26ff12caad89e55993bd6   \n",
       "\n",
       "       customer_zip_code_prefix            customer_city customer_state  \n",
       "0                          3149                sao paulo             SP  \n",
       "1                         47813                barreiras             BA  \n",
       "2                         75265               vianopolis             GO  \n",
       "3                         59296  sao goncalo do amarante             RN  \n",
       "4                          9195              santo andre             SP  \n",
       "...                         ...                      ...            ...  \n",
       "99995                     12209      sao jose dos campos             SP  \n",
       "99996                     11722             praia grande             SP  \n",
       "99997                     45920              nova vicosa             BA  \n",
       "99998                     28685                  japuiba             RJ  \n",
       "99999                     83750                     lapa             PR  \n",
       "\n",
       "[100000 rows x 18 columns]"
      ]
     },
     "execution_count": 60,
     "metadata": {},
     "output_type": "execute_result"
    }
   ],
   "source": [
    "# Carefully merge DataFrames\n",
    "df_2 = pd.merge(df_1, customers, how='outer', on='customer_id')\n",
    "df_2"
   ]
  },
  {
   "cell_type": "code",
   "execution_count": 49,
   "metadata": {},
   "outputs": [],
   "source": [
    "# Carefully merge DataFrames\n",
    "order_j_reviews = pd.merge(orders, reviews, how='outer', on='order_id')\n",
    "order_j_reviews;"
   ]
  },
  {
   "cell_type": "code",
   "execution_count": 8,
   "metadata": {},
   "outputs": [],
   "source": [
    "# Inspect the cardinality and `nunique` of the final DataFrame. It should match (114100, 5)"
   ]
  },
  {
   "cell_type": "markdown",
   "metadata": {},
   "source": [
    "### 3 - Save your logic in `data.py` \n",
    "\n",
    "❓Copy your logic into `get_matching_table()` in `data.py` and run the cell below to check your code!"
   ]
  },
  {
   "cell_type": "code",
   "execution_count": null,
   "metadata": {},
   "outputs": [],
   "source": [
    "from nbresult import ChallengeResult\n",
    "from olist.data import Olist\n",
    "\n",
    "data = Olist().get_matching_table()\n",
    "\n",
    "result = ChallengeResult('matching_table',\n",
    "    shape=data.shape,\n",
    "    columns=sorted(list(data.columns)) \n",
    ")\n",
    "result.write()\n",
    "print(result.check())"
   ]
  }
 ],
 "metadata": {
  "kernelspec": {
   "display_name": "Python 3 (ipykernel)",
   "language": "python",
   "name": "python3"
  },
  "language_info": {
   "codemirror_mode": {
    "name": "ipython",
    "version": 3
   },
   "file_extension": ".py",
   "mimetype": "text/x-python",
   "name": "python",
   "nbconvert_exporter": "python",
   "pygments_lexer": "ipython3",
   "version": "3.8.12"
  },
  "toc": {
   "base_numbering": 1,
   "nav_menu": {},
   "number_sections": false,
   "sideBar": true,
   "skip_h1_title": false,
   "title_cell": "Table of Contents",
   "title_sidebar": "Contents",
   "toc_cell": false,
   "toc_position": {},
   "toc_section_display": true,
   "toc_window_display": false
  },
  "varInspector": {
   "cols": {
    "lenName": 16,
    "lenType": 16,
    "lenVar": 40
   },
   "kernels_config": {
    "python": {
     "delete_cmd_postfix": "",
     "delete_cmd_prefix": "del ",
     "library": "var_list.py",
     "varRefreshCmd": "print(var_dic_list())"
    },
    "r": {
     "delete_cmd_postfix": ") ",
     "delete_cmd_prefix": "rm(",
     "library": "var_list.r",
     "varRefreshCmd": "cat(var_dic_list()) "
    }
   },
   "types_to_exclude": [
    "module",
    "function",
    "builtin_function_or_method",
    "instance",
    "_Feature"
   ],
   "window_display": false
  }
 },
 "nbformat": 4,
 "nbformat_minor": 4
}
